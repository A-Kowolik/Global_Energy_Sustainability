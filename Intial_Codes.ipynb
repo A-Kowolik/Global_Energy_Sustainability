{
  "nbformat": 4,
  "nbformat_minor": 0,
  "metadata": {
    "colab": {
      "provenance": [],
      "authorship_tag": "ABX9TyNjQSwuAaMPRDCB1v2jMxQL",
      "include_colab_link": true
    },
    "kernelspec": {
      "name": "python3",
      "display_name": "Python 3"
    },
    "language_info": {
      "name": "python"
    }
  },
  "cells": [
    {
      "cell_type": "markdown",
      "metadata": {
        "id": "view-in-github",
        "colab_type": "text"
      },
      "source": [
        "<a href=\"https://colab.research.google.com/github/A-Kowolik/Global_Energy_Sustainability/blob/main/Intial_Codes.ipynb\" target=\"_parent\"><img src=\"https://colab.research.google.com/assets/colab-badge.svg\" alt=\"Open In Colab\"/></a>"
      ]
    },
    {
      "cell_type": "markdown",
      "source": [
        "Modules Used for Preliminary analysis"
      ],
      "metadata": {
        "id": "P2fjK9xeoC9s"
      }
    },
    {
      "cell_type": "code",
      "execution_count": 1,
      "metadata": {
        "colab": {
          "base_uri": "https://localhost:8080/",
          "height": 71
        },
        "id": "WQ0fP1xEn86N",
        "outputId": "54571c2a-bfde-4493-d0d7-cd76ec342ce5"
      },
      "outputs": [
        {
          "output_type": "display_data",
          "data": {
            "text/plain": [
              "<IPython.core.display.HTML object>"
            ],
            "text/html": [
              "\n",
              "     <input type=\"file\" id=\"files-f1bb748b-feef-470c-8977-c1b1a9a6d6c4\" name=\"files[]\" multiple disabled\n",
              "        style=\"border:none\" />\n",
              "     <output id=\"result-f1bb748b-feef-470c-8977-c1b1a9a6d6c4\">\n",
              "      Upload widget is only available when the cell has been executed in the\n",
              "      current browser session. Please rerun this cell to enable.\n",
              "      </output>\n",
              "      <script>// Copyright 2017 Google LLC\n",
              "//\n",
              "// Licensed under the Apache License, Version 2.0 (the \"License\");\n",
              "// you may not use this file except in compliance with the License.\n",
              "// You may obtain a copy of the License at\n",
              "//\n",
              "//      http://www.apache.org/licenses/LICENSE-2.0\n",
              "//\n",
              "// Unless required by applicable law or agreed to in writing, software\n",
              "// distributed under the License is distributed on an \"AS IS\" BASIS,\n",
              "// WITHOUT WARRANTIES OR CONDITIONS OF ANY KIND, either express or implied.\n",
              "// See the License for the specific language governing permissions and\n",
              "// limitations under the License.\n",
              "\n",
              "/**\n",
              " * @fileoverview Helpers for google.colab Python module.\n",
              " */\n",
              "(function(scope) {\n",
              "function span(text, styleAttributes = {}) {\n",
              "  const element = document.createElement('span');\n",
              "  element.textContent = text;\n",
              "  for (const key of Object.keys(styleAttributes)) {\n",
              "    element.style[key] = styleAttributes[key];\n",
              "  }\n",
              "  return element;\n",
              "}\n",
              "\n",
              "// Max number of bytes which will be uploaded at a time.\n",
              "const MAX_PAYLOAD_SIZE = 100 * 1024;\n",
              "\n",
              "function _uploadFiles(inputId, outputId) {\n",
              "  const steps = uploadFilesStep(inputId, outputId);\n",
              "  const outputElement = document.getElementById(outputId);\n",
              "  // Cache steps on the outputElement to make it available for the next call\n",
              "  // to uploadFilesContinue from Python.\n",
              "  outputElement.steps = steps;\n",
              "\n",
              "  return _uploadFilesContinue(outputId);\n",
              "}\n",
              "\n",
              "// This is roughly an async generator (not supported in the browser yet),\n",
              "// where there are multiple asynchronous steps and the Python side is going\n",
              "// to poll for completion of each step.\n",
              "// This uses a Promise to block the python side on completion of each step,\n",
              "// then passes the result of the previous step as the input to the next step.\n",
              "function _uploadFilesContinue(outputId) {\n",
              "  const outputElement = document.getElementById(outputId);\n",
              "  const steps = outputElement.steps;\n",
              "\n",
              "  const next = steps.next(outputElement.lastPromiseValue);\n",
              "  return Promise.resolve(next.value.promise).then((value) => {\n",
              "    // Cache the last promise value to make it available to the next\n",
              "    // step of the generator.\n",
              "    outputElement.lastPromiseValue = value;\n",
              "    return next.value.response;\n",
              "  });\n",
              "}\n",
              "\n",
              "/**\n",
              " * Generator function which is called between each async step of the upload\n",
              " * process.\n",
              " * @param {string} inputId Element ID of the input file picker element.\n",
              " * @param {string} outputId Element ID of the output display.\n",
              " * @return {!Iterable<!Object>} Iterable of next steps.\n",
              " */\n",
              "function* uploadFilesStep(inputId, outputId) {\n",
              "  const inputElement = document.getElementById(inputId);\n",
              "  inputElement.disabled = false;\n",
              "\n",
              "  const outputElement = document.getElementById(outputId);\n",
              "  outputElement.innerHTML = '';\n",
              "\n",
              "  const pickedPromise = new Promise((resolve) => {\n",
              "    inputElement.addEventListener('change', (e) => {\n",
              "      resolve(e.target.files);\n",
              "    });\n",
              "  });\n",
              "\n",
              "  const cancel = document.createElement('button');\n",
              "  inputElement.parentElement.appendChild(cancel);\n",
              "  cancel.textContent = 'Cancel upload';\n",
              "  const cancelPromise = new Promise((resolve) => {\n",
              "    cancel.onclick = () => {\n",
              "      resolve(null);\n",
              "    };\n",
              "  });\n",
              "\n",
              "  // Wait for the user to pick the files.\n",
              "  const files = yield {\n",
              "    promise: Promise.race([pickedPromise, cancelPromise]),\n",
              "    response: {\n",
              "      action: 'starting',\n",
              "    }\n",
              "  };\n",
              "\n",
              "  cancel.remove();\n",
              "\n",
              "  // Disable the input element since further picks are not allowed.\n",
              "  inputElement.disabled = true;\n",
              "\n",
              "  if (!files) {\n",
              "    return {\n",
              "      response: {\n",
              "        action: 'complete',\n",
              "      }\n",
              "    };\n",
              "  }\n",
              "\n",
              "  for (const file of files) {\n",
              "    const li = document.createElement('li');\n",
              "    li.append(span(file.name, {fontWeight: 'bold'}));\n",
              "    li.append(span(\n",
              "        `(${file.type || 'n/a'}) - ${file.size} bytes, ` +\n",
              "        `last modified: ${\n",
              "            file.lastModifiedDate ? file.lastModifiedDate.toLocaleDateString() :\n",
              "                                    'n/a'} - `));\n",
              "    const percent = span('0% done');\n",
              "    li.appendChild(percent);\n",
              "\n",
              "    outputElement.appendChild(li);\n",
              "\n",
              "    const fileDataPromise = new Promise((resolve) => {\n",
              "      const reader = new FileReader();\n",
              "      reader.onload = (e) => {\n",
              "        resolve(e.target.result);\n",
              "      };\n",
              "      reader.readAsArrayBuffer(file);\n",
              "    });\n",
              "    // Wait for the data to be ready.\n",
              "    let fileData = yield {\n",
              "      promise: fileDataPromise,\n",
              "      response: {\n",
              "        action: 'continue',\n",
              "      }\n",
              "    };\n",
              "\n",
              "    // Use a chunked sending to avoid message size limits. See b/62115660.\n",
              "    let position = 0;\n",
              "    do {\n",
              "      const length = Math.min(fileData.byteLength - position, MAX_PAYLOAD_SIZE);\n",
              "      const chunk = new Uint8Array(fileData, position, length);\n",
              "      position += length;\n",
              "\n",
              "      const base64 = btoa(String.fromCharCode.apply(null, chunk));\n",
              "      yield {\n",
              "        response: {\n",
              "          action: 'append',\n",
              "          file: file.name,\n",
              "          data: base64,\n",
              "        },\n",
              "      };\n",
              "\n",
              "      let percentDone = fileData.byteLength === 0 ?\n",
              "          100 :\n",
              "          Math.round((position / fileData.byteLength) * 100);\n",
              "      percent.textContent = `${percentDone}% done`;\n",
              "\n",
              "    } while (position < fileData.byteLength);\n",
              "  }\n",
              "\n",
              "  // All done.\n",
              "  yield {\n",
              "    response: {\n",
              "      action: 'complete',\n",
              "    }\n",
              "  };\n",
              "}\n",
              "\n",
              "scope.google = scope.google || {};\n",
              "scope.google.colab = scope.google.colab || {};\n",
              "scope.google.colab._files = {\n",
              "  _uploadFiles,\n",
              "  _uploadFilesContinue,\n",
              "};\n",
              "})(self);\n",
              "</script> "
            ]
          },
          "metadata": {}
        },
        {
          "output_type": "stream",
          "name": "stdout",
          "text": [
            "Saving global-data-on-sustainable-energy.csv to global-data-on-sustainable-energy.csv\n"
          ]
        }
      ],
      "source": [
        "import numpy as np\n",
        "import pandas as pd\n",
        "from google.colab import files\n",
        "uploaded = files.upload()\n",
        "import matplotlib.pyplot as plt"
      ]
    },
    {
      "cell_type": "markdown",
      "source": [
        "# Importing the dataset & Showcase"
      ],
      "metadata": {
        "id": "LUu5UmiNoFKM"
      }
    },
    {
      "cell_type": "code",
      "source": [
        "path = '/content/global-data-on-sustainable-energy.csv'\n",
        "SustainEnergyDataCV = pd.read_csv(path)\n",
        "SustainEnergyData = pd.DataFrame(data=SustainEnergyDataCV)\n",
        "SustainEnergyData.head(5)"
      ],
      "metadata": {
        "colab": {
          "base_uri": "https://localhost:8080/",
          "height": 340
        },
        "id": "b3yLJ7epoHj7",
        "outputId": "8d29b981-4bbd-4d52-d859-ba4d32bbded6"
      },
      "execution_count": 2,
      "outputs": [
        {
          "output_type": "execute_result",
          "data": {
            "text/plain": [
              "        Entity  Year  Access to electricity (% of population)  \\\n",
              "0  Afghanistan  2000                                 1.613591   \n",
              "1  Afghanistan  2001                                 4.074574   \n",
              "2  Afghanistan  2002                                 9.409158   \n",
              "3  Afghanistan  2003                                14.738506   \n",
              "4  Afghanistan  2004                                20.064968   \n",
              "\n",
              "   Access to clean fuels for cooking  \\\n",
              "0                                6.2   \n",
              "1                                7.2   \n",
              "2                                8.2   \n",
              "3                                9.5   \n",
              "4                               10.9   \n",
              "\n",
              "   Renewable-electricity-generating-capacity-per-capita  \\\n",
              "0                                               9.22      \n",
              "1                                               8.86      \n",
              "2                                               8.47      \n",
              "3                                               8.09      \n",
              "4                                               7.75      \n",
              "\n",
              "   Financial flows to developing countries (US $)  \\\n",
              "0                                         20000.0   \n",
              "1                                        130000.0   \n",
              "2                                       3950000.0   \n",
              "3                                      25970000.0   \n",
              "4                                             NaN   \n",
              "\n",
              "   Renewable energy share in the total final energy consumption (%)  \\\n",
              "0                                              44.99                  \n",
              "1                                              45.60                  \n",
              "2                                              37.83                  \n",
              "3                                              36.66                  \n",
              "4                                              44.24                  \n",
              "\n",
              "   Electricity from fossil fuels (TWh)  Electricity from nuclear (TWh)  \\\n",
              "0                                 0.16                             0.0   \n",
              "1                                 0.09                             0.0   \n",
              "2                                 0.13                             0.0   \n",
              "3                                 0.31                             0.0   \n",
              "4                                 0.33                             0.0   \n",
              "\n",
              "   Electricity from renewables (TWh)  ...  \\\n",
              "0                               0.31  ...   \n",
              "1                               0.50  ...   \n",
              "2                               0.56  ...   \n",
              "3                               0.63  ...   \n",
              "4                               0.56  ...   \n",
              "\n",
              "   Primary energy consumption per capita (kWh/person)  \\\n",
              "0                                          302.59482    \n",
              "1                                          236.89185    \n",
              "2                                          210.86215    \n",
              "3                                          229.96822    \n",
              "4                                          204.23125    \n",
              "\n",
              "   Energy intensity level of primary energy (MJ/$2017 PPP GDP)  \\\n",
              "0                                               1.64             \n",
              "1                                               1.74             \n",
              "2                                               1.40             \n",
              "3                                               1.40             \n",
              "4                                               1.20             \n",
              "\n",
              "   Value_co2_emissions_kt_by_country  \\\n",
              "0                         760.000000   \n",
              "1                         730.000000   \n",
              "2                        1029.999971   \n",
              "3                        1220.000029   \n",
              "4                        1029.999971   \n",
              "\n",
              "   Renewables (% equivalent primary energy)  gdp_growth  gdp_per_capita  \\\n",
              "0                                       NaN         NaN             NaN   \n",
              "1                                       NaN         NaN             NaN   \n",
              "2                                       NaN         NaN      179.426579   \n",
              "3                                       NaN    8.832278      190.683814   \n",
              "4                                       NaN    1.414118      211.382074   \n",
              "\n",
              "   Density\\n(P/Km2) Land Area(Km2)  Latitude  Longitude  \n",
              "0                60       652230.0  33.93911  67.709953  \n",
              "1                60       652230.0  33.93911  67.709953  \n",
              "2                60       652230.0  33.93911  67.709953  \n",
              "3                60       652230.0  33.93911  67.709953  \n",
              "4                60       652230.0  33.93911  67.709953  \n",
              "\n",
              "[5 rows x 21 columns]"
            ],
            "text/html": [
              "\n",
              "  <div id=\"df-b5dfd32e-7cdc-456c-bdea-af9e304b6193\" class=\"colab-df-container\">\n",
              "    <div>\n",
              "<style scoped>\n",
              "    .dataframe tbody tr th:only-of-type {\n",
              "        vertical-align: middle;\n",
              "    }\n",
              "\n",
              "    .dataframe tbody tr th {\n",
              "        vertical-align: top;\n",
              "    }\n",
              "\n",
              "    .dataframe thead th {\n",
              "        text-align: right;\n",
              "    }\n",
              "</style>\n",
              "<table border=\"1\" class=\"dataframe\">\n",
              "  <thead>\n",
              "    <tr style=\"text-align: right;\">\n",
              "      <th></th>\n",
              "      <th>Entity</th>\n",
              "      <th>Year</th>\n",
              "      <th>Access to electricity (% of population)</th>\n",
              "      <th>Access to clean fuels for cooking</th>\n",
              "      <th>Renewable-electricity-generating-capacity-per-capita</th>\n",
              "      <th>Financial flows to developing countries (US $)</th>\n",
              "      <th>Renewable energy share in the total final energy consumption (%)</th>\n",
              "      <th>Electricity from fossil fuels (TWh)</th>\n",
              "      <th>Electricity from nuclear (TWh)</th>\n",
              "      <th>Electricity from renewables (TWh)</th>\n",
              "      <th>...</th>\n",
              "      <th>Primary energy consumption per capita (kWh/person)</th>\n",
              "      <th>Energy intensity level of primary energy (MJ/$2017 PPP GDP)</th>\n",
              "      <th>Value_co2_emissions_kt_by_country</th>\n",
              "      <th>Renewables (% equivalent primary energy)</th>\n",
              "      <th>gdp_growth</th>\n",
              "      <th>gdp_per_capita</th>\n",
              "      <th>Density\\n(P/Km2)</th>\n",
              "      <th>Land Area(Km2)</th>\n",
              "      <th>Latitude</th>\n",
              "      <th>Longitude</th>\n",
              "    </tr>\n",
              "  </thead>\n",
              "  <tbody>\n",
              "    <tr>\n",
              "      <th>0</th>\n",
              "      <td>Afghanistan</td>\n",
              "      <td>2000</td>\n",
              "      <td>1.613591</td>\n",
              "      <td>6.2</td>\n",
              "      <td>9.22</td>\n",
              "      <td>20000.0</td>\n",
              "      <td>44.99</td>\n",
              "      <td>0.16</td>\n",
              "      <td>0.0</td>\n",
              "      <td>0.31</td>\n",
              "      <td>...</td>\n",
              "      <td>302.59482</td>\n",
              "      <td>1.64</td>\n",
              "      <td>760.000000</td>\n",
              "      <td>NaN</td>\n",
              "      <td>NaN</td>\n",
              "      <td>NaN</td>\n",
              "      <td>60</td>\n",
              "      <td>652230.0</td>\n",
              "      <td>33.93911</td>\n",
              "      <td>67.709953</td>\n",
              "    </tr>\n",
              "    <tr>\n",
              "      <th>1</th>\n",
              "      <td>Afghanistan</td>\n",
              "      <td>2001</td>\n",
              "      <td>4.074574</td>\n",
              "      <td>7.2</td>\n",
              "      <td>8.86</td>\n",
              "      <td>130000.0</td>\n",
              "      <td>45.60</td>\n",
              "      <td>0.09</td>\n",
              "      <td>0.0</td>\n",
              "      <td>0.50</td>\n",
              "      <td>...</td>\n",
              "      <td>236.89185</td>\n",
              "      <td>1.74</td>\n",
              "      <td>730.000000</td>\n",
              "      <td>NaN</td>\n",
              "      <td>NaN</td>\n",
              "      <td>NaN</td>\n",
              "      <td>60</td>\n",
              "      <td>652230.0</td>\n",
              "      <td>33.93911</td>\n",
              "      <td>67.709953</td>\n",
              "    </tr>\n",
              "    <tr>\n",
              "      <th>2</th>\n",
              "      <td>Afghanistan</td>\n",
              "      <td>2002</td>\n",
              "      <td>9.409158</td>\n",
              "      <td>8.2</td>\n",
              "      <td>8.47</td>\n",
              "      <td>3950000.0</td>\n",
              "      <td>37.83</td>\n",
              "      <td>0.13</td>\n",
              "      <td>0.0</td>\n",
              "      <td>0.56</td>\n",
              "      <td>...</td>\n",
              "      <td>210.86215</td>\n",
              "      <td>1.40</td>\n",
              "      <td>1029.999971</td>\n",
              "      <td>NaN</td>\n",
              "      <td>NaN</td>\n",
              "      <td>179.426579</td>\n",
              "      <td>60</td>\n",
              "      <td>652230.0</td>\n",
              "      <td>33.93911</td>\n",
              "      <td>67.709953</td>\n",
              "    </tr>\n",
              "    <tr>\n",
              "      <th>3</th>\n",
              "      <td>Afghanistan</td>\n",
              "      <td>2003</td>\n",
              "      <td>14.738506</td>\n",
              "      <td>9.5</td>\n",
              "      <td>8.09</td>\n",
              "      <td>25970000.0</td>\n",
              "      <td>36.66</td>\n",
              "      <td>0.31</td>\n",
              "      <td>0.0</td>\n",
              "      <td>0.63</td>\n",
              "      <td>...</td>\n",
              "      <td>229.96822</td>\n",
              "      <td>1.40</td>\n",
              "      <td>1220.000029</td>\n",
              "      <td>NaN</td>\n",
              "      <td>8.832278</td>\n",
              "      <td>190.683814</td>\n",
              "      <td>60</td>\n",
              "      <td>652230.0</td>\n",
              "      <td>33.93911</td>\n",
              "      <td>67.709953</td>\n",
              "    </tr>\n",
              "    <tr>\n",
              "      <th>4</th>\n",
              "      <td>Afghanistan</td>\n",
              "      <td>2004</td>\n",
              "      <td>20.064968</td>\n",
              "      <td>10.9</td>\n",
              "      <td>7.75</td>\n",
              "      <td>NaN</td>\n",
              "      <td>44.24</td>\n",
              "      <td>0.33</td>\n",
              "      <td>0.0</td>\n",
              "      <td>0.56</td>\n",
              "      <td>...</td>\n",
              "      <td>204.23125</td>\n",
              "      <td>1.20</td>\n",
              "      <td>1029.999971</td>\n",
              "      <td>NaN</td>\n",
              "      <td>1.414118</td>\n",
              "      <td>211.382074</td>\n",
              "      <td>60</td>\n",
              "      <td>652230.0</td>\n",
              "      <td>33.93911</td>\n",
              "      <td>67.709953</td>\n",
              "    </tr>\n",
              "  </tbody>\n",
              "</table>\n",
              "<p>5 rows × 21 columns</p>\n",
              "</div>\n",
              "    <div class=\"colab-df-buttons\">\n",
              "\n",
              "  <div class=\"colab-df-container\">\n",
              "    <button class=\"colab-df-convert\" onclick=\"convertToInteractive('df-b5dfd32e-7cdc-456c-bdea-af9e304b6193')\"\n",
              "            title=\"Convert this dataframe to an interactive table.\"\n",
              "            style=\"display:none;\">\n",
              "\n",
              "  <svg xmlns=\"http://www.w3.org/2000/svg\" height=\"24px\" viewBox=\"0 -960 960 960\">\n",
              "    <path d=\"M120-120v-720h720v720H120Zm60-500h600v-160H180v160Zm220 220h160v-160H400v160Zm0 220h160v-160H400v160ZM180-400h160v-160H180v160Zm440 0h160v-160H620v160ZM180-180h160v-160H180v160Zm440 0h160v-160H620v160Z\"/>\n",
              "  </svg>\n",
              "    </button>\n",
              "\n",
              "  <style>\n",
              "    .colab-df-container {\n",
              "      display:flex;\n",
              "      gap: 12px;\n",
              "    }\n",
              "\n",
              "    .colab-df-convert {\n",
              "      background-color: #E8F0FE;\n",
              "      border: none;\n",
              "      border-radius: 50%;\n",
              "      cursor: pointer;\n",
              "      display: none;\n",
              "      fill: #1967D2;\n",
              "      height: 32px;\n",
              "      padding: 0 0 0 0;\n",
              "      width: 32px;\n",
              "    }\n",
              "\n",
              "    .colab-df-convert:hover {\n",
              "      background-color: #E2EBFA;\n",
              "      box-shadow: 0px 1px 2px rgba(60, 64, 67, 0.3), 0px 1px 3px 1px rgba(60, 64, 67, 0.15);\n",
              "      fill: #174EA6;\n",
              "    }\n",
              "\n",
              "    .colab-df-buttons div {\n",
              "      margin-bottom: 4px;\n",
              "    }\n",
              "\n",
              "    [theme=dark] .colab-df-convert {\n",
              "      background-color: #3B4455;\n",
              "      fill: #D2E3FC;\n",
              "    }\n",
              "\n",
              "    [theme=dark] .colab-df-convert:hover {\n",
              "      background-color: #434B5C;\n",
              "      box-shadow: 0px 1px 3px 1px rgba(0, 0, 0, 0.15);\n",
              "      filter: drop-shadow(0px 1px 2px rgba(0, 0, 0, 0.3));\n",
              "      fill: #FFFFFF;\n",
              "    }\n",
              "  </style>\n",
              "\n",
              "    <script>\n",
              "      const buttonEl =\n",
              "        document.querySelector('#df-b5dfd32e-7cdc-456c-bdea-af9e304b6193 button.colab-df-convert');\n",
              "      buttonEl.style.display =\n",
              "        google.colab.kernel.accessAllowed ? 'block' : 'none';\n",
              "\n",
              "      async function convertToInteractive(key) {\n",
              "        const element = document.querySelector('#df-b5dfd32e-7cdc-456c-bdea-af9e304b6193');\n",
              "        const dataTable =\n",
              "          await google.colab.kernel.invokeFunction('convertToInteractive',\n",
              "                                                    [key], {});\n",
              "        if (!dataTable) return;\n",
              "\n",
              "        const docLinkHtml = 'Like what you see? Visit the ' +\n",
              "          '<a target=\"_blank\" href=https://colab.research.google.com/notebooks/data_table.ipynb>data table notebook</a>'\n",
              "          + ' to learn more about interactive tables.';\n",
              "        element.innerHTML = '';\n",
              "        dataTable['output_type'] = 'display_data';\n",
              "        await google.colab.output.renderOutput(dataTable, element);\n",
              "        const docLink = document.createElement('div');\n",
              "        docLink.innerHTML = docLinkHtml;\n",
              "        element.appendChild(docLink);\n",
              "      }\n",
              "    </script>\n",
              "  </div>\n",
              "\n",
              "\n",
              "<div id=\"df-a116ce17-747c-45a0-b590-12164feae222\">\n",
              "  <button class=\"colab-df-quickchart\" onclick=\"quickchart('df-a116ce17-747c-45a0-b590-12164feae222')\"\n",
              "            title=\"Suggest charts.\"\n",
              "            style=\"display:none;\">\n",
              "\n",
              "<svg xmlns=\"http://www.w3.org/2000/svg\" height=\"24px\"viewBox=\"0 0 24 24\"\n",
              "     width=\"24px\">\n",
              "    <g>\n",
              "        <path d=\"M19 3H5c-1.1 0-2 .9-2 2v14c0 1.1.9 2 2 2h14c1.1 0 2-.9 2-2V5c0-1.1-.9-2-2-2zM9 17H7v-7h2v7zm4 0h-2V7h2v10zm4 0h-2v-4h2v4z\"/>\n",
              "    </g>\n",
              "</svg>\n",
              "  </button>\n",
              "\n",
              "<style>\n",
              "  .colab-df-quickchart {\n",
              "      --bg-color: #E8F0FE;\n",
              "      --fill-color: #1967D2;\n",
              "      --hover-bg-color: #E2EBFA;\n",
              "      --hover-fill-color: #174EA6;\n",
              "      --disabled-fill-color: #AAA;\n",
              "      --disabled-bg-color: #DDD;\n",
              "  }\n",
              "\n",
              "  [theme=dark] .colab-df-quickchart {\n",
              "      --bg-color: #3B4455;\n",
              "      --fill-color: #D2E3FC;\n",
              "      --hover-bg-color: #434B5C;\n",
              "      --hover-fill-color: #FFFFFF;\n",
              "      --disabled-bg-color: #3B4455;\n",
              "      --disabled-fill-color: #666;\n",
              "  }\n",
              "\n",
              "  .colab-df-quickchart {\n",
              "    background-color: var(--bg-color);\n",
              "    border: none;\n",
              "    border-radius: 50%;\n",
              "    cursor: pointer;\n",
              "    display: none;\n",
              "    fill: var(--fill-color);\n",
              "    height: 32px;\n",
              "    padding: 0;\n",
              "    width: 32px;\n",
              "  }\n",
              "\n",
              "  .colab-df-quickchart:hover {\n",
              "    background-color: var(--hover-bg-color);\n",
              "    box-shadow: 0 1px 2px rgba(60, 64, 67, 0.3), 0 1px 3px 1px rgba(60, 64, 67, 0.15);\n",
              "    fill: var(--button-hover-fill-color);\n",
              "  }\n",
              "\n",
              "  .colab-df-quickchart-complete:disabled,\n",
              "  .colab-df-quickchart-complete:disabled:hover {\n",
              "    background-color: var(--disabled-bg-color);\n",
              "    fill: var(--disabled-fill-color);\n",
              "    box-shadow: none;\n",
              "  }\n",
              "\n",
              "  .colab-df-spinner {\n",
              "    border: 2px solid var(--fill-color);\n",
              "    border-color: transparent;\n",
              "    border-bottom-color: var(--fill-color);\n",
              "    animation:\n",
              "      spin 1s steps(1) infinite;\n",
              "  }\n",
              "\n",
              "  @keyframes spin {\n",
              "    0% {\n",
              "      border-color: transparent;\n",
              "      border-bottom-color: var(--fill-color);\n",
              "      border-left-color: var(--fill-color);\n",
              "    }\n",
              "    20% {\n",
              "      border-color: transparent;\n",
              "      border-left-color: var(--fill-color);\n",
              "      border-top-color: var(--fill-color);\n",
              "    }\n",
              "    30% {\n",
              "      border-color: transparent;\n",
              "      border-left-color: var(--fill-color);\n",
              "      border-top-color: var(--fill-color);\n",
              "      border-right-color: var(--fill-color);\n",
              "    }\n",
              "    40% {\n",
              "      border-color: transparent;\n",
              "      border-right-color: var(--fill-color);\n",
              "      border-top-color: var(--fill-color);\n",
              "    }\n",
              "    60% {\n",
              "      border-color: transparent;\n",
              "      border-right-color: var(--fill-color);\n",
              "    }\n",
              "    80% {\n",
              "      border-color: transparent;\n",
              "      border-right-color: var(--fill-color);\n",
              "      border-bottom-color: var(--fill-color);\n",
              "    }\n",
              "    90% {\n",
              "      border-color: transparent;\n",
              "      border-bottom-color: var(--fill-color);\n",
              "    }\n",
              "  }\n",
              "</style>\n",
              "\n",
              "  <script>\n",
              "    async function quickchart(key) {\n",
              "      const quickchartButtonEl =\n",
              "        document.querySelector('#' + key + ' button');\n",
              "      quickchartButtonEl.disabled = true;  // To prevent multiple clicks.\n",
              "      quickchartButtonEl.classList.add('colab-df-spinner');\n",
              "      try {\n",
              "        const charts = await google.colab.kernel.invokeFunction(\n",
              "            'suggestCharts', [key], {});\n",
              "      } catch (error) {\n",
              "        console.error('Error during call to suggestCharts:', error);\n",
              "      }\n",
              "      quickchartButtonEl.classList.remove('colab-df-spinner');\n",
              "      quickchartButtonEl.classList.add('colab-df-quickchart-complete');\n",
              "    }\n",
              "    (() => {\n",
              "      let quickchartButtonEl =\n",
              "        document.querySelector('#df-a116ce17-747c-45a0-b590-12164feae222 button');\n",
              "      quickchartButtonEl.style.display =\n",
              "        google.colab.kernel.accessAllowed ? 'block' : 'none';\n",
              "    })();\n",
              "  </script>\n",
              "</div>\n",
              "    </div>\n",
              "  </div>\n"
            ]
          },
          "metadata": {},
          "execution_count": 2
        }
      ]
    },
    {
      "cell_type": "markdown",
      "source": [
        "# Cleaning Data"
      ],
      "metadata": {
        "id": "yGrU86CWoLPQ"
      }
    },
    {
      "cell_type": "markdown",
      "source": [
        "Column Rename"
      ],
      "metadata": {
        "id": "tKBGfiHhoOE-"
      }
    },
    {
      "cell_type": "code",
      "source": [
        "SustainEnergyData = SustainEnergyData.rename(columns = {\"Density\\\\n(P/Km2)\":\"Density\",\n",
        "                                                        \"Value_co2_emissions_kt_by_country\":\"CO2_Emissions(kT)\",\n",
        "                                                        \"Financial flows to developing countries (US $)\":\"Financial_flow_developing_countries\",\n",
        "                                                        \"Renewables (% equivalent primary energy)\": \"Renewables_%\", \"Land Area(Km2)\":\"Land_Area\",\n",
        "                                                        \"Access to clean fuels for cooking\": \"Access_Clean_Fuels_for_Cooking\", \"Renewable-electricity-generating-capacity-per-capita\":\"Renewable_Electricity_Generating_Capacity_per_Capita\",\n",
        "                                                        \"Renewable energy share in the total final energy consumption (%)\":\"Renewable_Energy_Share_in_Total_Final_Energy_Consumption_%\",\n",
        "                                                        \"Electricity from fossil fuels (TWh)\": \"Electricity_from_Fossil_Fuels_(TWh)\", \"Electricity from nuclear (TWh)\":\"Electricity_from_Nuclear(TWh)\",\n",
        "                                                        \"Electricity from renewables (TWh)\": \"Electricity_from_Renewables(TWh)\", \"Low-carbon electricity (% electricity)\":\"Low-carbon_Electricity\",\n",
        "                                                        \"Energy intensity level of primary energy (MJ/$2017 PPP GDP)\":\"Energy_Intensity_Levels_of_Primary_Energy\"})"
      ],
      "metadata": {
        "id": "J3-6XFDpoNRg"
      },
      "execution_count": 3,
      "outputs": []
    },
    {
      "cell_type": "code",
      "source": [
        "for col in SustainEnergyData:\n",
        "  print(col)"
      ],
      "metadata": {
        "colab": {
          "base_uri": "https://localhost:8080/"
        },
        "id": "YO-s-eLYoWBu",
        "outputId": "a9897df6-4684-4e44-d95e-57ef3f493743"
      },
      "execution_count": 4,
      "outputs": [
        {
          "output_type": "stream",
          "name": "stdout",
          "text": [
            "Entity\n",
            "Year\n",
            "Access to electricity (% of population)\n",
            "Access_Clean_Fuels_for_Cooking\n",
            "Renewable_Electricity_Generating_Capacity_per_Capita\n",
            "Financial_flow_developing_countries\n",
            "Renewable_Energy_Share_in_Total_Final_Energy_Consumption_%\n",
            "Electricity_from_Fossil_Fuels_(TWh)\n",
            "Electricity_from_Nuclear(TWh)\n",
            "Electricity_from_Renewables(TWh)\n",
            "Low-carbon_Electricity\n",
            "Primary energy consumption per capita (kWh/person)\n",
            "Energy_Intensity_Levels_of_Primary_Energy\n",
            "CO2_Emissions(kT)\n",
            "Renewables_%\n",
            "gdp_growth\n",
            "gdp_per_capita\n",
            "Density\n",
            "Land_Area\n",
            "Latitude\n",
            "Longitude\n"
          ]
        }
      ]
    },
    {
      "cell_type": "markdown",
      "source": [
        "Dropping Columns"
      ],
      "metadata": {
        "id": "VhnvDpz-oYLo"
      }
    },
    {
      "cell_type": "code",
      "source": [
        "#removal of these columns are because they do not have bearing on the questions or in the case of\n",
        "#Financial Flow Developing Countries, Renewable (% equivalent primary energy) they have over half of the data missing\n",
        "SustainEnergyData = SustainEnergyData.drop(['Entity','Year','Density','Latitude', 'Longitude', \"Land_Area\", \"Renewables_%\", \"Financial_flow_developing_countries\"], axis=1)"
      ],
      "metadata": {
        "id": "NsX3utvqoeG6"
      },
      "execution_count": 5,
      "outputs": []
    },
    {
      "cell_type": "code",
      "source": [
        "for col in SustainEnergyData:\n",
        "  print(col)"
      ],
      "metadata": {
        "colab": {
          "base_uri": "https://localhost:8080/"
        },
        "id": "2ISsi_wBogrg",
        "outputId": "e50feff5-dc47-43df-fa13-a7cc0de2a9d5"
      },
      "execution_count": 6,
      "outputs": [
        {
          "output_type": "stream",
          "name": "stdout",
          "text": [
            "Access to electricity (% of population)\n",
            "Access_Clean_Fuels_for_Cooking\n",
            "Renewable_Electricity_Generating_Capacity_per_Capita\n",
            "Renewable_Energy_Share_in_Total_Final_Energy_Consumption_%\n",
            "Electricity_from_Fossil_Fuels_(TWh)\n",
            "Electricity_from_Nuclear(TWh)\n",
            "Electricity_from_Renewables(TWh)\n",
            "Low-carbon_Electricity\n",
            "Primary energy consumption per capita (kWh/person)\n",
            "Energy_Intensity_Levels_of_Primary_Energy\n",
            "CO2_Emissions(kT)\n",
            "gdp_growth\n",
            "gdp_per_capita\n"
          ]
        }
      ]
    },
    {
      "cell_type": "markdown",
      "source": [
        "Replacing NAs with Zeros"
      ],
      "metadata": {
        "id": "7U5BmOF5oi8R"
      }
    },
    {
      "cell_type": "code",
      "source": [
        "#Settign the NAs to Zeros since majority of columns have some missing data\n",
        "Cleaned_SustainEnergyData = SustainEnergyData.fillna(0)"
      ],
      "metadata": {
        "id": "siF9hQQaolcE"
      },
      "execution_count": 7,
      "outputs": []
    },
    {
      "cell_type": "code",
      "source": [
        "Cleaned_SustainEnergyData.isnull().sum()"
      ],
      "metadata": {
        "colab": {
          "base_uri": "https://localhost:8080/"
        },
        "id": "3jP3rd2Uonmy",
        "outputId": "b6cc94b5-869c-4435-8e33-e86e25b458e0"
      },
      "execution_count": 8,
      "outputs": [
        {
          "output_type": "execute_result",
          "data": {
            "text/plain": [
              "Access to electricity (% of population)                       0\n",
              "Access_Clean_Fuels_for_Cooking                                0\n",
              "Renewable_Electricity_Generating_Capacity_per_Capita          0\n",
              "Renewable_Energy_Share_in_Total_Final_Energy_Consumption_%    0\n",
              "Electricity_from_Fossil_Fuels_(TWh)                           0\n",
              "Electricity_from_Nuclear(TWh)                                 0\n",
              "Electricity_from_Renewables(TWh)                              0\n",
              "Low-carbon_Electricity                                        0\n",
              "Primary energy consumption per capita (kWh/person)            0\n",
              "Energy_Intensity_Levels_of_Primary_Energy                     0\n",
              "CO2_Emissions(kT)                                             0\n",
              "gdp_growth                                                    0\n",
              "gdp_per_capita                                                0\n",
              "dtype: int64"
            ]
          },
          "metadata": {},
          "execution_count": 8
        }
      ]
    },
    {
      "cell_type": "code",
      "source": [
        "Cleaned_SustainEnergyData[\"CO2_Emissions(kT)\"] = Cleaned_SustainEnergyData[\"CO2_Emissions(kT)\"].astype(float).astype(int)"
      ],
      "metadata": {
        "id": "FcCdea2NooCk"
      },
      "execution_count": 9,
      "outputs": []
    },
    {
      "cell_type": "markdown",
      "source": [
        "# Spliting the data"
      ],
      "metadata": {
        "id": "bun3-JN7orBv"
      }
    },
    {
      "cell_type": "code",
      "source": [
        "from sklearn.model_selection import train_test_split\n",
        "\n",
        "# Split dataset into training set and test set\n",
        "# Our class column is CO2_Emissions(kT)\n",
        "class_col_name='CO2_Emissions(kT)'\n",
        "\n",
        "feature_names=Cleaned_SustainEnergyData.columns[Cleaned_SustainEnergyData.columns != class_col_name]\n",
        "# 70% training and 30% test\n",
        "X_train, X_test, y_train, y_test = train_test_split(Cleaned_SustainEnergyData.loc[:, feature_names], Cleaned_SustainEnergyData[class_col_name], test_size=0.3,random_state=1)"
      ],
      "metadata": {
        "id": "una8ceIpotTH"
      },
      "execution_count": 10,
      "outputs": []
    },
    {
      "cell_type": "markdown",
      "source": [
        "# Decision Tree"
      ],
      "metadata": {
        "id": "eMYQlVHuowAu"
      }
    },
    {
      "cell_type": "code",
      "source": [
        "from sklearn import tree\n",
        "clf = tree.DecisionTreeClassifier(max_depth=5)\n",
        "clf = clf.fit(X_train, y_train)\n",
        "print(\"Successfuly trained the decision tree...\")"
      ],
      "metadata": {
        "colab": {
          "base_uri": "https://localhost:8080/"
        },
        "id": "qhrmKP_Xoy65",
        "outputId": "6a33ea74-d321-4414-b521-d899ac7c452b"
      },
      "execution_count": 11,
      "outputs": [
        {
          "output_type": "stream",
          "name": "stdout",
          "text": [
            "Successfuly trained the decision tree...\n"
          ]
        }
      ]
    },
    {
      "cell_type": "markdown",
      "source": [
        "Visualization of Decision Tree"
      ],
      "metadata": {
        "id": "E5-lljU0o00l"
      }
    },
    {
      "cell_type": "code",
      "source": [
        "import graphviz\n",
        "#Get unique class values to display on the tree\n",
        "class_values=np.array(Cleaned_SustainEnergyData[class_col_name].unique()).astype('str').tolist()\n",
        "\n",
        "print (\"class Names\",class_values)\n",
        "\n",
        "\n",
        "dot_data = tree.export_graphviz(clf, out_file=None,\n",
        "                                feature_names=feature_names,\n",
        "                                class_names=class_values,\n",
        "                                filled=True)\n",
        "# Plot tree\n",
        "graph = graphviz.Source(dot_data, format=\"png\")\n",
        "graph"
      ],
      "metadata": {
        "colab": {
          "base_uri": "https://localhost:8080/",
          "height": 954
        },
        "id": "B7Pvu7xfo6DW",
        "outputId": "13028e1b-b617-4b47-fade-947126a58fb9"
      },
      "execution_count": 12,
      "outputs": [
        {
          "output_type": "stream",
          "name": "stdout",
          "text": [
            "class Names ['760', '730', '1029', '1220', '1549', '1759', '1769', '3559', '4880', '7110', '8930', '8079', '5989', '5949', '5300', '4780', '6070', '6079', '0', '3170', '3230', '3759', '4070', '4250', '4030', '4010', '4139', '4079', '4219', '4449', '4849', '4360', '4440', '4820', '4619', '4480', '5139', '5110', '4829', '80050', '78650', '82400', '88190', '89489', '94190', '99809', '102750', '107750', '112169', '114180', '120790', '134929', '139020', '147740', '156270', '154910', '158339', '165539', '171250', '16200', '15960', '15689', '16760', '17450', '15810', '16559', '16969', '19280', '21149', '22799', '23870', '26959', '29629', '31649', '29760', '24250', '23959', '25209', '330', '350', '389', '409', '400', '439', '460', '479', '1389', '490', '540', '699', '469', '500', '509', '519', '132270', '125260', '117470', '127660', '141380', '145990', '154899', '162809', '167229', '156570', '167220', '176639', '177960', '183250', '179600', '185550', '183160', '179320', '176899', '168100', '3560', '3600', '3119', '3500', '4460', '4489', '5199', '5690', '4510', '4340', '4940', '5719', '5500', '5480', '5340', '5070', '5369', '5710', '6170', '2379', '2409', '2438', '2563', '2618', '2720', '2717', '2823', '2658', '2629', '2508', '2500', '1349', '861', '872', '898', '883', '339450', '345640', '353369', '352579', '365809', '370089', '375489', '385750', '388940', '395290', '387540', '386380', '386970', '380279', '371630', '377799', '384989', '389160', '387070', '386529', '63530', '67910', '69370', '74459', '75800', '76239', '74099', '71239', '70730', '64419', '69959', '68269', '65110', '65750', '62049', '63240', '63680', '65860', '63060', '64769', '27690', '26400', '26180', '28569', '28309', '30040', '30489', '27629', '30450', '25500', '24309', '27280', '30110', '30940', '32240', '31770', '31959', '32729', '35509', '15880', '16390', '17219', '17940', '17930', '20690', '22489', '23000', '24760', '24719', '25969', '26020', '27170', '28850', '30280', '30579', '30299', '30520', '30809', '33259', '21650', '25780', '27430', '28629', '30530', '32709', '35900', '37990', '41580', '44750', '50580', '54419', '57990', '60599', '63830', '72190', '74379', '79339', '83449', '90739', '1240', '1310', '1370', '1379', '1360', '1419', '1470', '1480', '1779', '2119', '1440', '1269', '1289', '1179', '1250', '52940', '51880', '51840', '52700', '56040', '56779', '59119', '57650', '60529', '57400', '61669', '58549', '59939', '59990', '59500', '54819', '55139', '56009', '58950', '57669', '117270', '118340', '110849', '115500', '114019', '110610', '108650', '104589', '106930', '99669', '106720', '96480', '95269', '96589', '90139', '95129', '94220', '92720', '93660', '93010', '450', '530', '529', '1460', '560', '670', '680', '649', '639', '629', '1420', '1740', '2180', '2440', '2650', '2900', '3470', '4000', '4019', '4420', '4650', '4679', '5190', '5510', '6739', '6869', '7420', '7300', '517', '528', '557', '561', '583', '652', '729', '476', '608', '443', '366', '612', '210', '230', '239', '259', '289', '319', '300', '589', '769', '930', '970', '1049', '13960', '13760', '14560', '14869', '15569', '16229', '17909', '18889', '20760', '20590', '20840', '23739', '21959', '21850', '19489', '19620', '22340', '22680', '22600', '21069', '3870', '3920', '3970', '4280', '4090', '4320', '4389', '4190', '3369', '3880', '3410', '5420', '6989', '6949', '6630', '7329', '7309', '7250', '313670', '319380', '317760', '310809', '328519', '331690', '335619', '352559', '373630', '350000', '397929', '418309', '454230', '486839', '511619', '485339', '447079', '456489', '433989', '434299', '43420', '46190', '43599', '47930', '47270', '47990', '48950', '52599', '50040', '42909', '44740', '49639', '45020', '39659', '42049', '44560', '41590', '43880', '40900', '39139', '940', '959', '1039', '1059', '1409', '1700', '1730', '2289', '2460', '2940', '3130', '3180', '3700', '4269', '4670', '5000', '260', '200', '209', '159', '150', '180', '360', '370', '379', '689', '720', '1960', '2150', '2210', '2380', '2660', '2960', '3660', '4059', '4750', '5360', '5670', '5739', '8430', '11069', '12689', '14579', '16180', '5210', '5160', '5130', '5119', '5019', '5090', '6130', '6389', '7030', '7010', '6809', '6880', '7550', '8250', '8460', '9079', '9170', '9590', '9430', '514220', '506620', '524349', '544539', '536419', '549030', '540530', '571630', '550469', '521320', '537010', '549289', '546210', '555659', '561679', '558700', '556830', '568080', '580090', '580210', '465', '484', '462', '473', '572', '586', '535', '546', '240', '250', '219', '170', '189', '119', '129', '290', '340', '449', '790', '1100', '1860', '2190', '2259', '2390', '2250', '50420', '48430', '49119', '50200', '54970', '55970', '57150', '64569', '67989', '65449', '69750', '76470', '78410', '83000', '76559', '82230', '86489', '87069', '86610', '91370', '3346530', '3529080', '3810060', '4415910', '5124819', '5824629', '6437470', '6993180', '7199600', '7719069', '8474919', '9282549', '9541870', '9984570', '10006669', '9861099', '9874660', '10096009', '10502929', '10707219', '58340', '58940', '56770', '56110', '57639', '57689', '59180', '59779', '62009', '63560', '69099', '69699', '76860', '79199', '80230', '82680', '74989', '78589', '81040', '100', '110', '109', '140', '280', '4950', '5519', '5800', '5940', '6269', '6559', '7599', '7519', '7199', '7429', '7449', '7780', '7829', '7539', '8260', '8369', '8239', '18040', '19200', '20280', '21610', '21100', '21450', '22879', '21729', '20309', '19459', '19030', '17409', '17010', '16239', '16600', '16879', '16430', '16520', '28350', '27470', '26420', '25629', '25360', '26319', '26780', '27680', '26750', '26979', '28110', '27590', '28690', '28870', '26690', '29209', '26239', '26709', '25909', '7130', '6990', '7170', '7900', '8000', '8310', '8489', '8279', '7630', '7099', '6429', '6849', '7219', '7360', '7190', '123170', '122720', '118529', '122769', '123440', '119989', '120599', '123620', '118309', '111169', '112250', '109169', '106069', '101150', '97510', '99139', '101730', '101830', '100900', '96290', '52600', '54250', '53840', '59229', '53729', '58130', '53409', '50130', '48119', '43099', '38220', '39959', '35819', '33700', '35319', '33130', '29700', '380', '430', '419', '130', '18670', '18980', '20879', '18729', '17280', '18690', '20370', '20629', '20579', '19659', '20680', '20909', '21680', '21290', '23590', '24590', '23549', '25309', '27229', '22050', '24170', '24659', '28219', '30129', '30639', '31690', '34500', '37250', '37099', '37090', '39700', '41799', '41520', '39810', '38549', '40139', '39290', '5630', '5870', '6510', '6679', '6840', '7239', '6909', '6539', '6780', '6769', '6460', '6590', '7000', '6380', '7800', '2220', '3400', '4630', '5010', '6199', '8319', '9369', '8539', '9779', '9710', '9949', '9989', '9819', '9180', '7909', '6570', '6659', '5349', '640', '700', '600', '569', '620', '660', '850', '879', '14920', '15380', '14949', '16940', '17020', '17229', '15979', '19979', '18399', '15050', '19000', '18170', '16889', '19319', '15539', '15989', '16709', '15319', '10180', '690', '610', '750', '839', '889', '910', '4400', '4570', '5329', '5050', '5400', '5960', '6489', '6530', '6469', '8479', '10079', '12340', '12890', '14970', '15819', '17239', '18360', '810', '1040', '1259', '1159', '1110', '1129', '1519', '1649', '1629', '55100', '61090', '63439', '71709', '67680', '55459', '67019', '65099', '56659', '54180', '62529', '55119', '49409', '50189', '46159', '42819', '45700', '43020', '44580', '40709', '373120', '376730', '371019', '376709', '377790', '380660', '371549', '362829', '357989', '343730', '347779', '335140', '338420', '338559', '306100', '311299', '313920', '317829', '307049', '300519', '6080', '6230', '6440', '6090', '6059', '5440', '5269', '5760', '5780', '5599', '5789', '6119', '6420', '5250', '4770', '3520', '3160', '4239', '4699', '4840', '5619', '5320', '6519', '7840', '8470', '9199', '9649', '9729', '9569', '10109', '830280', '847680', '833380', '836789', '821070', '802380', '814409', '783799', '789690', '734809', '773070', '746479', '760130', '776150', '736010', '742309', '747150', '732200', '707700', '657400', '5740', '6210', '7139', '7039', '8510', '9119', '8659', '10010', '11189', '11750', '14609', '15630', '15090', '15779', '16069', '18680', '20040', '94460', '96610', '96599', '100220', '99839', '101949', '100699', '104309', '100410', '94739', '87580', '84550', '80089', '72480', '69550', '68010', '66849', '66800', '65019', '60000', '310', '270', '9420', '9810', '10470', '10539', '10750', '11529', '11520', '12409', '11239', '11850', '11439', '11739', '12149', '13000', '13949', '16340', '17489', '16569', '18319', '19309', '1490', '1570', '1830', '1899', '1980', '2009', '2619', '2480', '2240', '2539', '2819', '3339', '3750', '3950', '1660', '1640', '1620', '1669', '1330', '1610', '1600', '2000', '2059', '2079', '2470', '2589', '2849', '1809', '1720', '2049', '2029', '1990', '2700', '2420', '3019', '3279', '3359', '3329', '3289', '3319', '4990', '6730', '7559', '6969', '7969', '8590', '8069', '8180', '8810', '9239', '9460', '9930', '9470', '9260', '10050', '10220', '54630', '56280', '55599', '58189', '56349', '55919', '53849', '53009', '47840', '47880', '46909', '43430', '40759', '40630', '43380', '44250', '46439', '46400', '46380', '2230', '2160', '2319', '2329', '2109', '1889', '1639', '937860', '953540', '985450', '1011770', '1085670', '1136469', '1215209', '1336739', '1424380', '1564880', '1659979', '1756739', '1909439', '1972430', '2147110', '2158020', '2195250', '2320409', '2451929', '2456300', '280650', '302060', '305640', '333890', '341239', '342149', '364470', '379959', '376140', '391079', '415519', '475309', '481510', '447940', '483910', '488549', '482510', '517320', '576989', '619840', '87630', '97550', '91160', '81279', '88110', '85129', '82959', '76650', '88139', '94199', '108550', '113040', '129000', '139100', '134039', '133169', '142229', '155080', '163149', '174559', '42530', '44820', '43930', '44090', '44689', '46650', '47259', '46360', '45779', '40560', '40189', '36680', '37130', '35709', '35529', '37060', '38819', '37779', '37659', '35750', '57000', '57950', '61080', '62930', '63159', '61009', '64330', '66599', '66709', '65730', '70519', '69819', '76059', '67000', '64720', '66139', '64980', '65610', '62650', '436300', '436570', '443470', '462200', '472399', '473829', '466649', '459369', '444980', '397059', '405269', '396690', '376750', '346459', '327500', '337859', '333339', '329190', '324880', '317239', '10060', '10080', '10250', '10590', '10569', '10560', '12060', '12020', '9619', '7880', '7480', '7530', '6960', '7400', '7090', '7570', '8609', '8390', '1182610', '1170380', '1206599', '1214949', '1209849', '1212819', '1189520', '1225069', '1158219', '1100979', '1156479', '1213520', '1253609', '1262780', '1217119', '1179439', '1167790', '1155229', '1116150', '1081569', '16270', '16250', '16870', '17309', '18579', '19870', '20170', '21090', '20010', '20659', '20200', '24120', '23799', '25549', '24819', '26149', '24780', '24629', '120150', '117440', '131059', '146139', '158029', '169210', '185300', '198389', '242029', '213610', '229699', '245449', '244600', '260010', '209229', '190729', '202149', '214580', '216600', '212110', '8320', '7610', '7440', '9300', '9909', '11710', '12640', '13029', '14100', '15149', '17209', '19110', '18979', '22280', '30', '39', '50', '70', '59', '90', '49840', '53190', '55590', '58119', '61909', '69910', '72430', '70599', '75839', '77650', '80720', '83290', '85309', '87360', '85569', '89019', '91550', '90730', '91389', '92650', '6930', '7349', '7590', '7619', '7710', '8199', '8529', '8109', '8520', '7280', '7320', '7150', '7119', '7789', '15670', '16890', '16840', '17879', '15039', '18649', '21899', '20860', '21180', '23469', '23239', '25149', '27010', '27809', '29319', '27790', '27950', '390', '550', '949', '920', '1279', '44720', '44450', '45590', '48919', '48459', '52990', '52919', '49389', '53270', '56400', '59549', '41950', '57630', '58610', '58000', '51330', '50950', '55159', '56619', '56799', '10510', '11150', '11220', '11229', '11909', '12829', '13020', '13210', '13060', '11689', '12600', '11930', '11329', '10859', '11199', '11649', '11729', '8560', '9120', '10239', '11659', '11720', '11109', '11020', '10439', '11029', '10899', '10689', '10149', '9130', '8850', '9000', '9319', '9489', '1650', '1670', '1120', '1710', '1690', '1870', '2740', '2930', '3009', '3349', '4119', '710', '759', '779', '829', '980', '1190', '1450', '124360', '129460', '136380', '144490', '158270', '167419', '174100', '189940', '202910', '181929', '200220', '202740', '205809', '223660', '236649', '236539', '235960', '227619', '244410', '253270', '480', '870', '1009', '1139', '2099', '1410', '1399', '2069', '2509', '2779', '3109', '3220', '3380', '3650', '5179', '5469', '5829', '2130', '2490', '2609', '2599', '2630', '2569', '2369', '2359', '1659', '1350', '1270', '1400', '1509', '2349', '2400', '2730', '3259', '3490', '3690', '2430', '2570', '2750', '2769', '3299', '3420', '3640', '3730', '3819', '3960', '4039', '4170', '4130', '379180', '378830', '386000', '404690', '414100', '432190', '448299', '457119', '459549', '448369', '462869', '478399', '486450', '475739', '462239', '471630', '473309', '471579', '452570', '449269', '8970', '9600', '9310', '9560', '11060', '12420', '12970', '13640', '14310', '15729', '17139', '18379', '18120', '17299', '19579', '21549', '23069', '2690', '1750', '2579', '2269', '32880', '36270', '37470', '40990', '43580', '45000', '46349', '48630', '48750', '51759', '55939', '58080', '57590', '58689', '60409', '60319', '63520', '64959', '71480', '1430', '1909', '2680', '3680', '4199', '4860', '7210', '7500', '9440', '8350', '8300', '10489', '10720', '9970', '10390', '7489', '8130', '8689', '11960', '13600', '17040', '19040', '21860', '32500', '32939', '36720', '1940', '2529', '2950', '3529', '3789', '4230', '80', '79', '3460', '2789', '2809', '3190', '2990', '4639', '6000', '10409', '12479', '15189', '13449', '162100', '167120', '167429', '170360', '172119', '167929', '163699', '164550', '165220', '160490', '171110', '158770', '157470', '157089', '149789', '157410', '158539', '155759', '151360', '146339', '2233', '1888', '2405', '2739', '2530', '2944', '2867', '2951', '3578', '3655', '3861', '4888', '4752', '5328', '29450', '31620', '31540', '33400', '32840', '34229', '34270', '33270', '34169', '31170', '31049', '30290', '32110', '31889', '31969', '32279', '31190', '32930', '32360', '34009', '3770', '3930', '4559', '4530', '4550', '4500', '4769', '4690', '4469', '4760', '5380', '5239', '819', '860', '1080', '1970', '1950', '97220', '101950', '92239', '101000', '98730', '98720', '88769', '81120', '86930', '76949', '90059', '95000', '95339', '108129', '114830', '107760', '110830', '108500', '109889', '115279', '8760', '8920', '9140', '8840', '9229', '9220', '9699', '9479', '8869', '8640', '9520', '9050', '8140', '7699', '7409', '34290', '34720', '34369', '37169', '37340', '36349', '37200', '37750', '36869', '37430', '41409', '39599', '38490', '39500', '39110', '39490', '38759', '37720', '37590', '35950', '25110', '28030', '29969', '31700', '31260', '31010', '39189', '42259', '41310', '43590', '47080', '53619', '60549', '63009', '66389', '70129', '72129', '71930', '75599', '76029', '98370', '99840', '102330', '105660', '118650', '121669', '132479', '146259', '142160', '145139', '140619', '141699', '143809', '146059', '154240', '164130', '181110', '198830', '187309', '190570', '5280', '6220', '5409', '5530', '5610', '8699', '9189', '10460', '10760', '10699', '10770', '10130', '13340', '2830', '3390', '3609', '4949', '4929', '5030', '5159', '4889', '5889', '7659', '7579', '3610', '3779', '3940', '3720', '5039', '5219', '6369', '7179', '8060', '8210', '28630', '26540', '27729', '27159', '31239', '31290', '30840', '33810', '38290', '41169', '49750', '53169', '54549', '56860', '54270', '54590', '56750', '72100', '70480', '71569', '73629', '75139', '76669', '69470', '73220', '75150', '76300', '81930', '82629', '86180', '95500', '101819', '111010', '121959', '133500', '138570', '145419', '295770', '293630', '287320', '297730', '301850', '301350', '314089', '313380', '308329', '297260', '313739', '310589', '303350', '298299', '285730', '289079', '299799', '312859', '311910', '295130', '61660', '61380', '65599', '60520', '62130', '65470', '60450', '58799', '56840', '56299', '50939', '49869', '48220', '46560', '45930', '49849', '48759', '53330', '49500', '44639', '28660', '28650', '34740', '37069', '38540', '43770', '49830', '53040', '54069', '60580', '68190', '75080', '76169', '81660', '84779', '86919', '87540', '86419', '91970', '89020', '95230', '93739', '98139', '95349', '94709', '99260', '96730', '95419', '80709', '77620', '84059', '81849', '72089', '71540', '73319', '71589', '74209', '75190', '73949', '579', '160', '249660', '254090', '272250', '284829', '299890', '315290', '335440', '354619', '389720', '406529', '446130', '463769', '492470', '503209', '540520', '565190', '561229', '545070', '521260', '523780', '4060', '4579', '5389', '5570', '6670', '8010', '8569', '9289', '9800', '10619', '51459', '46869', '47099', '51229', '45790', '46470', '38959', '45389', '46619', '47340', '46130', '45950', '320', '349', '440', '740', '1149', '939', '899', '42120', '42030', '41290', '38159', '39619', '36900', '38419', '38830', '42409', '44770', '43689', '43909', '44400', '45430', '46099', '49139', '47400', '47380', '14540', '15520', '15409', '15699', '15920', '16290', '16280', '17360', '15510', '15119', '14550', '13109', '13140', '13899', '14119', '14069', '510', '284660', '320540', '331320', '353089', '379989', '377649', '379790', '426739', '404200', '425309', '409260', '426779', '436920', '447929', '424809', '425140', '435649', '434350', '439640', '1529', '293310', '294790', '312750', '318660', '335559', '350500', '341779', '354679', '324269', '287489', '273250', '274399', '269269', '242809', '240960', '256279', '247029', '263450', '257040', '239979', '10930', '10850', '11390', '12869', '13979', '12399', '13590', '12810', '12289', '13069', '15420', '16850', '14479', '17600', '20360', '21930', '23360', '21690', '23780', '6250', '7929', '8829', '10500', '12899', '15479', '16420', '15800', '15220', '16120', '18709', '21129', '20959', '20620', '1520', '1230', '53280', '52500', '54020', '55200', '53590', '50209', '48900', '47139', '46150', '42880', '48130', '42139', '40540', '39080', '38779', '36009', '35000', '43710', '45150', '43569', '44840', '45279', '45849', '45479', '43540', '44959', '43669', '45209', '41189', '42520', '43529', '39790', '39090', '39669', '38700', '37479', '37380', '2200', '3269', '3039', '2410', '2450', '2559', '3200', '4900', '7369', '8680', '164490', '173160', '184240', '191929', '210190', '217770', '219880', '224589', '227580', '220259', '234380', '233600', '250679', '260700', '256799', '264000', '261600', '258820', '257049', '267089', '1180', '1340', '1500', '2519', '1590', '2299', '2309', '10200', '11620', '12680', '15449', '16100', '17590', '20059', '20500', '20020', '21459', '22260', '21520', '22209', '22040', '21329', '18309', '18250', '17780', '17190', '20700', '21570', '21709', '21500', '22479', '22969', '23899', '24750', '25250', '25290', '27520', '26340', '27850', '29950', '30479', '29610', '29959', '29889', '29909', '38510', '39120', '49369', '50590', '51919', '58479', '59279', '52389', '69010', '70220', '71400', '73400', '73339', '73120', '73050', '72870', '10', '9', '1300', '2019', '2869', '2970', '3740', '4110', '4719', '5170', '5860', '297380', '300550', '303940', '330230', '307140', '295410', '303989', '312140', '301200', '251619', '268920', '283339', '277109', '270269', '237729', '191070', '201660', '174940', '185619', '174729', '84730', '97200', '99150', '103819', '110010', '116459', '121559', '131830', '156050', '157020', '162789', '165600', '175589', '184470', '184759', '195240', '201080', '197039', '177119', '188860', '530890', '545260', '530789', '543039', '543080', '540919', '542059', '530500', '515340', '466489', '482440', '445589', '467779', '453760', '415600', '401079', '380809', '367000', '360730', '348920', '5775810', '5748260', '5593029', '5658990', '5738290', '5753490', '5653080', '5736319', '5558379', '5156430', '5392109', '5173600', '4956060', '5092100', '5107209', '4990709', '4894500', '4819370', '4975310', '4817720', '5460', '6329', '5849', '7750', '7670', '6280', '6500', '6639', '6099', '123810', '125700', '129889', '121910', '124839', '119190', '127360', '122580', '128880', '116529', '126239', '128630', '113139', '111860', '104870', '99169', '105230', '109529', '112470', '116709', '1810', '1840', '1919', '3049', '4960', '7730', '6800', '13700', '13900', '12489', '9770', '9829', '9760', '11409', '12010', '12279', '12079', '12430', '10340', '12380', '11760']\n"
          ]
        },
        {
          "output_type": "execute_result",
          "data": {
            "image/svg+xml": "<?xml version=\"1.0\" encoding=\"UTF-8\" standalone=\"no\"?>\n<!DOCTYPE svg PUBLIC \"-//W3C//DTD SVG 1.1//EN\"\n \"http://www.w3.org/Graphics/SVG/1.1/DTD/svg11.dtd\">\n<!-- Generated by graphviz version 2.43.0 (0)\n -->\n<!-- Title: Tree Pages: 1 -->\n<svg width=\"3184pt\" height=\"671pt\"\n viewBox=\"0.00 0.00 3183.50 671.00\" xmlns=\"http://www.w3.org/2000/svg\" xmlns:xlink=\"http://www.w3.org/1999/xlink\">\n<g id=\"graph0\" class=\"graph\" transform=\"scale(1 1) rotate(0) translate(4 667)\">\n<title>Tree</title>\n<polygon fill=\"white\" stroke=\"transparent\" points=\"-4,4 -4,-667 3179.5,-667 3179.5,4 -4,4\"/>\n<!-- 0 -->\n<g id=\"node1\" class=\"node\">\n<title>0</title>\n<polygon fill=\"#fcf1e9\" stroke=\"black\" points=\"1223.5,-663 878.5,-663 878.5,-580 1223.5,-580 1223.5,-663\"/>\n<text text-anchor=\"middle\" x=\"1051\" y=\"-647.8\" font-family=\"Helvetica,sans-Serif\" font-size=\"14.00\">Energy_Intensity_Levels_of_Primary_Energy &lt;= 0.855</text>\n<text text-anchor=\"middle\" x=\"1051\" y=\"-632.8\" font-family=\"Helvetica,sans-Serif\" font-size=\"14.00\">gini = 0.986</text>\n<text text-anchor=\"middle\" x=\"1051\" y=\"-617.8\" font-family=\"Helvetica,sans-Serif\" font-size=\"14.00\">samples = 2554</text>\n<text text-anchor=\"middle\" x=\"1051\" y=\"-602.8\" font-family=\"Helvetica,sans-Serif\" font-size=\"14.00\">value = [297, 14, 1 ... 1, 1, 1]</text>\n<text text-anchor=\"middle\" x=\"1051\" y=\"-587.8\" font-family=\"Helvetica,sans-Serif\" font-size=\"14.00\">class = 760</text>\n</g>\n<!-- 1 -->\n<g id=\"node2\" class=\"node\">\n<title>1</title>\n<polygon fill=\"#e88f4e\" stroke=\"black\" points=\"1088.5,-544 611.5,-544 611.5,-461 1088.5,-461 1088.5,-544\"/>\n<text text-anchor=\"middle\" x=\"850\" y=\"-528.8\" font-family=\"Helvetica,sans-Serif\" font-size=\"14.00\">Renewable_Energy_Share_in_Total_Final_Energy_Consumption_% &lt;= 4.06</text>\n<text text-anchor=\"middle\" x=\"850\" y=\"-513.8\" font-family=\"Helvetica,sans-Serif\" font-size=\"14.00\">gini = 0.203</text>\n<text text-anchor=\"middle\" x=\"850\" y=\"-498.8\" font-family=\"Helvetica,sans-Serif\" font-size=\"14.00\">samples = 149</text>\n<text text-anchor=\"middle\" x=\"850\" y=\"-483.8\" font-family=\"Helvetica,sans-Serif\" font-size=\"14.00\">value = [133, 0, 0 ... 0, 0, 0]</text>\n<text text-anchor=\"middle\" x=\"850\" y=\"-468.8\" font-family=\"Helvetica,sans-Serif\" font-size=\"14.00\">class = 760</text>\n</g>\n<!-- 0&#45;&gt;1 -->\n<g id=\"edge1\" class=\"edge\">\n<title>0&#45;&gt;1</title>\n<path fill=\"none\" stroke=\"black\" d=\"M981.26,-579.91C964.27,-570.02 945.98,-559.37 928.6,-549.25\"/>\n<polygon fill=\"black\" stroke=\"black\" points=\"930.02,-546.03 919.61,-544.02 926.49,-552.08 930.02,-546.03\"/>\n<text text-anchor=\"middle\" x=\"926\" y=\"-564.49\" font-family=\"Helvetica,sans-Serif\" font-size=\"14.00\">True</text>\n</g>\n<!-- 12 -->\n<g id=\"node13\" class=\"node\">\n<title>12</title>\n<polygon fill=\"#fdf7f3\" stroke=\"black\" points=\"1366,-544 1178,-544 1178,-461 1366,-461 1366,-544\"/>\n<text text-anchor=\"middle\" x=\"1272\" y=\"-528.8\" font-family=\"Helvetica,sans-Serif\" font-size=\"14.00\">gdp_per_capita &lt;= 55.964</text>\n<text text-anchor=\"middle\" x=\"1272\" y=\"-513.8\" font-family=\"Helvetica,sans-Serif\" font-size=\"14.00\">gini = 0.995</text>\n<text text-anchor=\"middle\" x=\"1272\" y=\"-498.8\" font-family=\"Helvetica,sans-Serif\" font-size=\"14.00\">samples = 2405</text>\n<text text-anchor=\"middle\" x=\"1272\" y=\"-483.8\" font-family=\"Helvetica,sans-Serif\" font-size=\"14.00\">value = [164, 14, 1 ... 1, 1, 1]</text>\n<text text-anchor=\"middle\" x=\"1272\" y=\"-468.8\" font-family=\"Helvetica,sans-Serif\" font-size=\"14.00\">class = 760</text>\n</g>\n<!-- 0&#45;&gt;12 -->\n<g id=\"edge12\" class=\"edge\">\n<title>0&#45;&gt;12</title>\n<path fill=\"none\" stroke=\"black\" d=\"M1127.67,-579.91C1146.62,-569.88 1167.03,-559.07 1186.36,-548.84\"/>\n<polygon fill=\"black\" stroke=\"black\" points=\"1188.26,-551.79 1195.46,-544.02 1184.99,-545.61 1188.26,-551.79\"/>\n<text text-anchor=\"middle\" x=\"1188.11\" y=\"-564.22\" font-family=\"Helvetica,sans-Serif\" font-size=\"14.00\">False</text>\n</g>\n<!-- 2 -->\n<g id=\"node3\" class=\"node\">\n<title>2</title>\n<polygon fill=\"#e58139\" stroke=\"black\" points=\"616.5,-417.5 435.5,-417.5 435.5,-349.5 616.5,-349.5 616.5,-417.5\"/>\n<text text-anchor=\"middle\" x=\"526\" y=\"-402.3\" font-family=\"Helvetica,sans-Serif\" font-size=\"14.00\">gini = 0.0</text>\n<text text-anchor=\"middle\" x=\"526\" y=\"-387.3\" font-family=\"Helvetica,sans-Serif\" font-size=\"14.00\">samples = 129</text>\n<text text-anchor=\"middle\" x=\"526\" y=\"-372.3\" font-family=\"Helvetica,sans-Serif\" font-size=\"14.00\">value = [129, 0, 0 ... 0, 0, 0]</text>\n<text text-anchor=\"middle\" x=\"526\" y=\"-357.3\" font-family=\"Helvetica,sans-Serif\" font-size=\"14.00\">class = 760</text>\n</g>\n<!-- 1&#45;&gt;2 -->\n<g id=\"edge2\" class=\"edge\">\n<title>1&#45;&gt;2</title>\n<path fill=\"none\" stroke=\"black\" d=\"M726.32,-460.95C693.26,-449.7 657.65,-437.22 625,-425 621.73,-423.78 618.4,-422.51 615.04,-421.22\"/>\n<polygon fill=\"black\" stroke=\"black\" points=\"616.12,-417.89 605.54,-417.53 613.59,-424.41 616.12,-417.89\"/>\n</g>\n<!-- 3 -->\n<g id=\"node4\" class=\"node\">\n<title>3</title>\n<polygon fill=\"#fbebe0\" stroke=\"black\" points=\"1065.5,-425 634.5,-425 634.5,-342 1065.5,-342 1065.5,-425\"/>\n<text text-anchor=\"middle\" x=\"850\" y=\"-409.8\" font-family=\"Helvetica,sans-Serif\" font-size=\"14.00\">Renewable_Electricity_Generating_Capacity_per_Capita &lt;= 490.345</text>\n<text text-anchor=\"middle\" x=\"850\" y=\"-394.8\" font-family=\"Helvetica,sans-Serif\" font-size=\"14.00\">gini = 0.92</text>\n<text text-anchor=\"middle\" x=\"850\" y=\"-379.8\" font-family=\"Helvetica,sans-Serif\" font-size=\"14.00\">samples = 20</text>\n<text text-anchor=\"middle\" x=\"850\" y=\"-364.8\" font-family=\"Helvetica,sans-Serif\" font-size=\"14.00\">value = [4, 0, 0 ... 0, 0, 0]</text>\n<text text-anchor=\"middle\" x=\"850\" y=\"-349.8\" font-family=\"Helvetica,sans-Serif\" font-size=\"14.00\">class = 760</text>\n</g>\n<!-- 1&#45;&gt;3 -->\n<g id=\"edge3\" class=\"edge\">\n<title>1&#45;&gt;3</title>\n<path fill=\"none\" stroke=\"black\" d=\"M850,-460.91C850,-452.65 850,-443.86 850,-435.3\"/>\n<polygon fill=\"black\" stroke=\"black\" points=\"853.5,-435.02 850,-425.02 846.5,-435.02 853.5,-435.02\"/>\n</g>\n<!-- 4 -->\n<g id=\"node5\" class=\"node\">\n<title>4</title>\n<polygon fill=\"#ffffff\" stroke=\"black\" points=\"616,-306 426,-306 426,-223 616,-223 616,-306\"/>\n<text text-anchor=\"middle\" x=\"521\" y=\"-290.8\" font-family=\"Helvetica,sans-Serif\" font-size=\"14.00\">gdp_per_capita &lt;= 8442.947</text>\n<text text-anchor=\"middle\" x=\"521\" y=\"-275.8\" font-family=\"Helvetica,sans-Serif\" font-size=\"14.00\">gini = 0.938</text>\n<text text-anchor=\"middle\" x=\"521\" y=\"-260.8\" font-family=\"Helvetica,sans-Serif\" font-size=\"14.00\">samples = 16</text>\n<text text-anchor=\"middle\" x=\"521\" y=\"-245.8\" font-family=\"Helvetica,sans-Serif\" font-size=\"14.00\">value = [0, 0, 0 ... 0, 0, 0]</text>\n<text text-anchor=\"middle\" x=\"521\" y=\"-230.8\" font-family=\"Helvetica,sans-Serif\" font-size=\"14.00\">class = 145990</text>\n</g>\n<!-- 3&#45;&gt;4 -->\n<g id=\"edge4\" class=\"edge\">\n<title>3&#45;&gt;4</title>\n<path fill=\"none\" stroke=\"black\" d=\"M735.86,-341.91C700.15,-329.21 660.93,-315.26 625.89,-302.8\"/>\n<polygon fill=\"black\" stroke=\"black\" points=\"626.72,-299.38 616.13,-299.33 624.37,-305.98 626.72,-299.38\"/>\n</g>\n<!-- 11 -->\n<g id=\"node12\" class=\"node\">\n<title>11</title>\n<polygon fill=\"#e58139\" stroke=\"black\" points=\"933,-298.5 767,-298.5 767,-230.5 933,-230.5 933,-298.5\"/>\n<text text-anchor=\"middle\" x=\"850\" y=\"-283.3\" font-family=\"Helvetica,sans-Serif\" font-size=\"14.00\">gini = 0.0</text>\n<text text-anchor=\"middle\" x=\"850\" y=\"-268.3\" font-family=\"Helvetica,sans-Serif\" font-size=\"14.00\">samples = 4</text>\n<text text-anchor=\"middle\" x=\"850\" y=\"-253.3\" font-family=\"Helvetica,sans-Serif\" font-size=\"14.00\">value = [4, 0, 0 ... 0, 0, 0]</text>\n<text text-anchor=\"middle\" x=\"850\" y=\"-238.3\" font-family=\"Helvetica,sans-Serif\" font-size=\"14.00\">class = 760</text>\n</g>\n<!-- 3&#45;&gt;11 -->\n<g id=\"edge11\" class=\"edge\">\n<title>3&#45;&gt;11</title>\n<path fill=\"none\" stroke=\"black\" d=\"M850,-341.91C850,-331.2 850,-319.62 850,-308.78\"/>\n<polygon fill=\"black\" stroke=\"black\" points=\"853.5,-308.67 850,-298.67 846.5,-308.67 853.5,-308.67\"/>\n</g>\n<!-- 5 -->\n<g id=\"node6\" class=\"node\">\n<title>5</title>\n<polygon fill=\"#ffffff\" stroke=\"black\" points=\"394,-187 128,-187 128,-104 394,-104 394,-187\"/>\n<text text-anchor=\"middle\" x=\"261\" y=\"-171.8\" font-family=\"Helvetica,sans-Serif\" font-size=\"14.00\">Access_Clean_Fuels_for_Cooking &lt;= 4.6</text>\n<text text-anchor=\"middle\" x=\"261\" y=\"-156.8\" font-family=\"Helvetica,sans-Serif\" font-size=\"14.00\">gini = 0.833</text>\n<text text-anchor=\"middle\" x=\"261\" y=\"-141.8\" font-family=\"Helvetica,sans-Serif\" font-size=\"14.00\">samples = 6</text>\n<text text-anchor=\"middle\" x=\"261\" y=\"-126.8\" font-family=\"Helvetica,sans-Serif\" font-size=\"14.00\">value = [0, 0, 0 ... 0, 0, 0]</text>\n<text text-anchor=\"middle\" x=\"261\" y=\"-111.8\" font-family=\"Helvetica,sans-Serif\" font-size=\"14.00\">class = 145990</text>\n</g>\n<!-- 4&#45;&gt;5 -->\n<g id=\"edge5\" class=\"edge\">\n<title>4&#45;&gt;5</title>\n<path fill=\"none\" stroke=\"black\" d=\"M430.79,-222.91C408.01,-212.65 383.41,-201.59 360.21,-191.14\"/>\n<polygon fill=\"black\" stroke=\"black\" points=\"361.6,-187.93 351.05,-187.02 358.73,-194.32 361.6,-187.93\"/>\n</g>\n<!-- 8 -->\n<g id=\"node9\" class=\"node\">\n<title>8</title>\n<polygon fill=\"#ffffff\" stroke=\"black\" points=\"630,-187 412,-187 412,-104 630,-104 630,-187\"/>\n<text text-anchor=\"middle\" x=\"521\" y=\"-171.8\" font-family=\"Helvetica,sans-Serif\" font-size=\"14.00\">Low&#45;carbon_Electricity &lt;= 15.166</text>\n<text text-anchor=\"middle\" x=\"521\" y=\"-156.8\" font-family=\"Helvetica,sans-Serif\" font-size=\"14.00\">gini = 0.9</text>\n<text text-anchor=\"middle\" x=\"521\" y=\"-141.8\" font-family=\"Helvetica,sans-Serif\" font-size=\"14.00\">samples = 10</text>\n<text text-anchor=\"middle\" x=\"521\" y=\"-126.8\" font-family=\"Helvetica,sans-Serif\" font-size=\"14.00\">value = [0, 0, 0 ... 0, 0, 0]</text>\n<text text-anchor=\"middle\" x=\"521\" y=\"-111.8\" font-family=\"Helvetica,sans-Serif\" font-size=\"14.00\">class = 54419</text>\n</g>\n<!-- 4&#45;&gt;8 -->\n<g id=\"edge8\" class=\"edge\">\n<title>4&#45;&gt;8</title>\n<path fill=\"none\" stroke=\"black\" d=\"M521,-222.91C521,-214.65 521,-205.86 521,-197.3\"/>\n<polygon fill=\"black\" stroke=\"black\" points=\"524.5,-197.02 521,-187.02 517.5,-197.02 524.5,-197.02\"/>\n</g>\n<!-- 6 -->\n<g id=\"node7\" class=\"node\">\n<title>6</title>\n<polygon fill=\"#ffffff\" stroke=\"black\" points=\"166,-68 0,-68 0,0 166,0 166,-68\"/>\n<text text-anchor=\"middle\" x=\"83\" y=\"-52.8\" font-family=\"Helvetica,sans-Serif\" font-size=\"14.00\">gini = 0.75</text>\n<text text-anchor=\"middle\" x=\"83\" y=\"-37.8\" font-family=\"Helvetica,sans-Serif\" font-size=\"14.00\">samples = 4</text>\n<text text-anchor=\"middle\" x=\"83\" y=\"-22.8\" font-family=\"Helvetica,sans-Serif\" font-size=\"14.00\">value = [0, 0, 0 ... 0, 0, 0]</text>\n<text text-anchor=\"middle\" x=\"83\" y=\"-7.8\" font-family=\"Helvetica,sans-Serif\" font-size=\"14.00\">class = 67910</text>\n</g>\n<!-- 5&#45;&gt;6 -->\n<g id=\"edge6\" class=\"edge\">\n<title>5&#45;&gt;6</title>\n<path fill=\"none\" stroke=\"black\" d=\"M194.97,-103.88C178.78,-93.92 161.49,-83.29 145.47,-73.43\"/>\n<polygon fill=\"black\" stroke=\"black\" points=\"147.07,-70.3 136.71,-68.04 143.4,-76.26 147.07,-70.3\"/>\n</g>\n<!-- 7 -->\n<g id=\"node8\" class=\"node\">\n<title>7</title>\n<polygon fill=\"#ffffff\" stroke=\"black\" points=\"350,-68 184,-68 184,0 350,0 350,-68\"/>\n<text text-anchor=\"middle\" x=\"267\" y=\"-52.8\" font-family=\"Helvetica,sans-Serif\" font-size=\"14.00\">gini = 0.5</text>\n<text text-anchor=\"middle\" x=\"267\" y=\"-37.8\" font-family=\"Helvetica,sans-Serif\" font-size=\"14.00\">samples = 2</text>\n<text text-anchor=\"middle\" x=\"267\" y=\"-22.8\" font-family=\"Helvetica,sans-Serif\" font-size=\"14.00\">value = [0, 0, 0 ... 0, 0, 0]</text>\n<text text-anchor=\"middle\" x=\"267\" y=\"-7.8\" font-family=\"Helvetica,sans-Serif\" font-size=\"14.00\">class = 145990</text>\n</g>\n<!-- 5&#45;&gt;7 -->\n<g id=\"edge7\" class=\"edge\">\n<title>5&#45;&gt;7</title>\n<path fill=\"none\" stroke=\"black\" d=\"M263.23,-103.73C263.68,-95.52 264.16,-86.86 264.61,-78.56\"/>\n<polygon fill=\"black\" stroke=\"black\" points=\"268.12,-78.48 265.18,-68.3 261.13,-78.09 268.12,-78.48\"/>\n</g>\n<!-- 9 -->\n<g id=\"node10\" class=\"node\">\n<title>9</title>\n<polygon fill=\"#67e539\" stroke=\"black\" points=\"554,-68 388,-68 388,0 554,0 554,-68\"/>\n<text text-anchor=\"middle\" x=\"471\" y=\"-52.8\" font-family=\"Helvetica,sans-Serif\" font-size=\"14.00\">gini = 0.0</text>\n<text text-anchor=\"middle\" x=\"471\" y=\"-37.8\" font-family=\"Helvetica,sans-Serif\" font-size=\"14.00\">samples = 1</text>\n<text text-anchor=\"middle\" x=\"471\" y=\"-22.8\" font-family=\"Helvetica,sans-Serif\" font-size=\"14.00\">value = [0, 0, 0 ... 0, 0, 0]</text>\n<text text-anchor=\"middle\" x=\"471\" y=\"-7.8\" font-family=\"Helvetica,sans-Serif\" font-size=\"14.00\">class = 3369</text>\n</g>\n<!-- 8&#45;&gt;9 -->\n<g id=\"edge9\" class=\"edge\">\n<title>8&#45;&gt;9</title>\n<path fill=\"none\" stroke=\"black\" d=\"M502.38,-103.73C498.47,-95.15 494.33,-86.09 490.39,-77.46\"/>\n<polygon fill=\"black\" stroke=\"black\" points=\"493.54,-75.94 486.21,-68.3 487.18,-78.85 493.54,-75.94\"/>\n</g>\n<!-- 10 -->\n<g id=\"node11\" class=\"node\">\n<title>10</title>\n<polygon fill=\"#ffffff\" stroke=\"black\" points=\"738,-68 572,-68 572,0 738,0 738,-68\"/>\n<text text-anchor=\"middle\" x=\"655\" y=\"-52.8\" font-family=\"Helvetica,sans-Serif\" font-size=\"14.00\">gini = 0.889</text>\n<text text-anchor=\"middle\" x=\"655\" y=\"-37.8\" font-family=\"Helvetica,sans-Serif\" font-size=\"14.00\">samples = 9</text>\n<text text-anchor=\"middle\" x=\"655\" y=\"-22.8\" font-family=\"Helvetica,sans-Serif\" font-size=\"14.00\">value = [0, 0, 0 ... 0, 0, 0]</text>\n<text text-anchor=\"middle\" x=\"655\" y=\"-7.8\" font-family=\"Helvetica,sans-Serif\" font-size=\"14.00\">class = 54419</text>\n</g>\n<!-- 8&#45;&gt;10 -->\n<g id=\"edge10\" class=\"edge\">\n<title>8&#45;&gt;10</title>\n<path fill=\"none\" stroke=\"black\" d=\"M570.9,-103.73C582.5,-94.24 594.85,-84.16 606.4,-74.72\"/>\n<polygon fill=\"black\" stroke=\"black\" points=\"608.72,-77.34 614.25,-68.3 604.29,-71.92 608.72,-77.34\"/>\n</g>\n<!-- 13 -->\n<g id=\"node14\" class=\"node\">\n<title>13</title>\n<polygon fill=\"#eb9f69\" stroke=\"black\" points=\"1441,-425 1103,-425 1103,-342 1441,-342 1441,-425\"/>\n<text text-anchor=\"middle\" x=\"1272\" y=\"-409.8\" font-family=\"Helvetica,sans-Serif\" font-size=\"14.00\">Energy_Intensity_Levels_of_Primary_Energy &lt;= 8.95</text>\n<text text-anchor=\"middle\" x=\"1272\" y=\"-394.8\" font-family=\"Helvetica,sans-Serif\" font-size=\"14.00\">gini = 0.415</text>\n<text text-anchor=\"middle\" x=\"1272\" y=\"-379.8\" font-family=\"Helvetica,sans-Serif\" font-size=\"14.00\">samples = 186</text>\n<text text-anchor=\"middle\" x=\"1272\" y=\"-364.8\" font-family=\"Helvetica,sans-Serif\" font-size=\"14.00\">value = [142, 0, 0 ... 0, 0, 0]</text>\n<text text-anchor=\"middle\" x=\"1272\" y=\"-349.8\" font-family=\"Helvetica,sans-Serif\" font-size=\"14.00\">class = 760</text>\n</g>\n<!-- 12&#45;&gt;13 -->\n<g id=\"edge13\" class=\"edge\">\n<title>12&#45;&gt;13</title>\n<path fill=\"none\" stroke=\"black\" d=\"M1272,-460.91C1272,-452.65 1272,-443.86 1272,-435.3\"/>\n<polygon fill=\"black\" stroke=\"black\" points=\"1275.5,-435.02 1272,-425.02 1268.5,-435.02 1275.5,-435.02\"/>\n</g>\n<!-- 26 -->\n<g id=\"node27\" class=\"node\">\n<title>26</title>\n<polygon fill=\"#fffffe\" stroke=\"black\" points=\"2353,-425 1949,-425 1949,-342 2353,-342 2353,-425\"/>\n<text text-anchor=\"middle\" x=\"2151\" y=\"-409.8\" font-family=\"Helvetica,sans-Serif\" font-size=\"14.00\">Primary energy consumption per capita (kWh/person) &lt;= 52.968</text>\n<text text-anchor=\"middle\" x=\"2151\" y=\"-394.8\" font-family=\"Helvetica,sans-Serif\" font-size=\"14.00\">gini = 0.999</text>\n<text text-anchor=\"middle\" x=\"2151\" y=\"-379.8\" font-family=\"Helvetica,sans-Serif\" font-size=\"14.00\">samples = 2219</text>\n<text text-anchor=\"middle\" x=\"2151\" y=\"-364.8\" font-family=\"Helvetica,sans-Serif\" font-size=\"14.00\">value = [22, 14, 1 ... 1, 1, 1]</text>\n<text text-anchor=\"middle\" x=\"2151\" y=\"-349.8\" font-family=\"Helvetica,sans-Serif\" font-size=\"14.00\">class = 760</text>\n</g>\n<!-- 12&#45;&gt;26 -->\n<g id=\"edge26\" class=\"edge\">\n<title>12&#45;&gt;26</title>\n<path fill=\"none\" stroke=\"black\" d=\"M1366.07,-488.98C1501.86,-470.9 1756.51,-437.01 1938.96,-412.72\"/>\n<polygon fill=\"black\" stroke=\"black\" points=\"1939.5,-416.18 1948.95,-411.39 1938.58,-409.24 1939.5,-416.18\"/>\n</g>\n<!-- 14 -->\n<g id=\"node15\" class=\"node\">\n<title>14</title>\n<polygon fill=\"#e99457\" stroke=\"black\" points=\"1431,-306 1005,-306 1005,-223 1431,-223 1431,-306\"/>\n<text text-anchor=\"middle\" x=\"1218\" y=\"-290.8\" font-family=\"Helvetica,sans-Serif\" font-size=\"14.00\">Primary energy consumption per capita (kWh/person) &lt;= 43696.104</text>\n<text text-anchor=\"middle\" x=\"1218\" y=\"-275.8\" font-family=\"Helvetica,sans-Serif\" font-size=\"14.00\">gini = 0.276</text>\n<text text-anchor=\"middle\" x=\"1218\" y=\"-260.8\" font-family=\"Helvetica,sans-Serif\" font-size=\"14.00\">samples = 167</text>\n<text text-anchor=\"middle\" x=\"1218\" y=\"-245.8\" font-family=\"Helvetica,sans-Serif\" font-size=\"14.00\">value = [142, 0, 0 ... 0, 0, 0]</text>\n<text text-anchor=\"middle\" x=\"1218\" y=\"-230.8\" font-family=\"Helvetica,sans-Serif\" font-size=\"14.00\">class = 760</text>\n</g>\n<!-- 13&#45;&gt;14 -->\n<g id=\"edge14\" class=\"edge\">\n<title>13&#45;&gt;14</title>\n<path fill=\"none\" stroke=\"black\" d=\"M1253.26,-341.91C1249.29,-333.29 1245.04,-324.09 1240.93,-315.17\"/>\n<polygon fill=\"black\" stroke=\"black\" points=\"1244.07,-313.63 1236.7,-306.02 1237.71,-316.57 1244.07,-313.63\"/>\n</g>\n<!-- 21 -->\n<g id=\"node22\" class=\"node\">\n<title>21</title>\n<polygon fill=\"#ffffff\" stroke=\"black\" points=\"1860.5,-306 1449.5,-306 1449.5,-223 1860.5,-223 1860.5,-306\"/>\n<text text-anchor=\"middle\" x=\"1655\" y=\"-290.8\" font-family=\"Helvetica,sans-Serif\" font-size=\"14.00\">Primary energy consumption per capita (kWh/person) &lt;= 283.164</text>\n<text text-anchor=\"middle\" x=\"1655\" y=\"-275.8\" font-family=\"Helvetica,sans-Serif\" font-size=\"14.00\">gini = 0.892</text>\n<text text-anchor=\"middle\" x=\"1655\" y=\"-260.8\" font-family=\"Helvetica,sans-Serif\" font-size=\"14.00\">samples = 19</text>\n<text text-anchor=\"middle\" x=\"1655\" y=\"-245.8\" font-family=\"Helvetica,sans-Serif\" font-size=\"14.00\">value = [0, 0, 0 ... 0, 0, 0]</text>\n<text text-anchor=\"middle\" x=\"1655\" y=\"-230.8\" font-family=\"Helvetica,sans-Serif\" font-size=\"14.00\">class = 1220</text>\n</g>\n<!-- 13&#45;&gt;21 -->\n<g id=\"edge21\" class=\"edge\">\n<title>13&#45;&gt;21</title>\n<path fill=\"none\" stroke=\"black\" d=\"M1404.61,-341.99C1439.38,-331.37 1477.02,-319.87 1512.3,-309.09\"/>\n<polygon fill=\"black\" stroke=\"black\" points=\"1513.64,-312.34 1522.18,-306.07 1511.59,-305.65 1513.64,-312.34\"/>\n</g>\n<!-- 15 -->\n<g id=\"node16\" class=\"node\">\n<title>15</title>\n<polygon fill=\"#e68743\" stroke=\"black\" points=\"1059.5,-187 648.5,-187 648.5,-104 1059.5,-104 1059.5,-187\"/>\n<text text-anchor=\"middle\" x=\"854\" y=\"-171.8\" font-family=\"Helvetica,sans-Serif\" font-size=\"14.00\">Primary energy consumption per capita (kWh/person) &lt;= 796.511</text>\n<text text-anchor=\"middle\" x=\"854\" y=\"-156.8\" font-family=\"Helvetica,sans-Serif\" font-size=\"14.00\">gini = 0.094</text>\n<text text-anchor=\"middle\" x=\"854\" y=\"-141.8\" font-family=\"Helvetica,sans-Serif\" font-size=\"14.00\">samples = 145</text>\n<text text-anchor=\"middle\" x=\"854\" y=\"-126.8\" font-family=\"Helvetica,sans-Serif\" font-size=\"14.00\">value = [138, 0, 0 ... 0, 0, 0]</text>\n<text text-anchor=\"middle\" x=\"854\" y=\"-111.8\" font-family=\"Helvetica,sans-Serif\" font-size=\"14.00\">class = 760</text>\n</g>\n<!-- 14&#45;&gt;15 -->\n<g id=\"edge15\" class=\"edge\">\n<title>14&#45;&gt;15</title>\n<path fill=\"none\" stroke=\"black\" d=\"M1091.97,-222.99C1059.06,-212.41 1023.45,-200.97 990.05,-190.23\"/>\n<polygon fill=\"black\" stroke=\"black\" points=\"990.82,-186.8 980.23,-187.07 988.68,-193.47 990.82,-186.8\"/>\n</g>\n<!-- 18 -->\n<g id=\"node19\" class=\"node\">\n<title>18</title>\n<polygon fill=\"#fbede3\" stroke=\"black\" points=\"1494,-187 1078,-187 1078,-104 1494,-104 1494,-187\"/>\n<text text-anchor=\"middle\" x=\"1286\" y=\"-171.8\" font-family=\"Helvetica,sans-Serif\" font-size=\"14.00\">Renewable_Electricity_Generating_Capacity_per_Capita &lt;= 0.145</text>\n<text text-anchor=\"middle\" x=\"1286\" y=\"-156.8\" font-family=\"Helvetica,sans-Serif\" font-size=\"14.00\">gini = 0.93</text>\n<text text-anchor=\"middle\" x=\"1286\" y=\"-141.8\" font-family=\"Helvetica,sans-Serif\" font-size=\"14.00\">samples = 22</text>\n<text text-anchor=\"middle\" x=\"1286\" y=\"-126.8\" font-family=\"Helvetica,sans-Serif\" font-size=\"14.00\">value = [4, 0, 0 ... 0, 0, 0]</text>\n<text text-anchor=\"middle\" x=\"1286\" y=\"-111.8\" font-family=\"Helvetica,sans-Serif\" font-size=\"14.00\">class = 760</text>\n</g>\n<!-- 14&#45;&gt;18 -->\n<g id=\"edge18\" class=\"edge\">\n<title>14&#45;&gt;18</title>\n<path fill=\"none\" stroke=\"black\" d=\"M1241.59,-222.91C1246.66,-214.2 1252.06,-204.9 1257.29,-195.89\"/>\n<polygon fill=\"black\" stroke=\"black\" points=\"1260.45,-197.43 1262.45,-187.02 1254.4,-193.91 1260.45,-197.43\"/>\n</g>\n<!-- 16 -->\n<g id=\"node17\" class=\"node\">\n<title>16</title>\n<polygon fill=\"#faf0d7\" stroke=\"black\" points=\"932,-68 766,-68 766,0 932,0 932,-68\"/>\n<text text-anchor=\"middle\" x=\"849\" y=\"-52.8\" font-family=\"Helvetica,sans-Serif\" font-size=\"14.00\">gini = 0.778</text>\n<text text-anchor=\"middle\" x=\"849\" y=\"-37.8\" font-family=\"Helvetica,sans-Serif\" font-size=\"14.00\">samples = 6</text>\n<text text-anchor=\"middle\" x=\"849\" y=\"-22.8\" font-family=\"Helvetica,sans-Serif\" font-size=\"14.00\">value = [0, 0, 0 ... 0, 0, 0]</text>\n<text text-anchor=\"middle\" x=\"849\" y=\"-7.8\" font-family=\"Helvetica,sans-Serif\" font-size=\"14.00\">class = 699</text>\n</g>\n<!-- 15&#45;&gt;16 -->\n<g id=\"edge16\" class=\"edge\">\n<title>15&#45;&gt;16</title>\n<path fill=\"none\" stroke=\"black\" d=\"M852.14,-103.73C851.76,-95.52 851.37,-86.86 850.99,-78.56\"/>\n<polygon fill=\"black\" stroke=\"black\" points=\"854.47,-78.13 850.52,-68.3 847.48,-78.45 854.47,-78.13\"/>\n</g>\n<!-- 17 -->\n<g id=\"node18\" class=\"node\">\n<title>17</title>\n<polygon fill=\"#e5823a\" stroke=\"black\" points=\"1131.5,-68 950.5,-68 950.5,0 1131.5,0 1131.5,-68\"/>\n<text text-anchor=\"middle\" x=\"1041\" y=\"-52.8\" font-family=\"Helvetica,sans-Serif\" font-size=\"14.00\">gini = 0.014</text>\n<text text-anchor=\"middle\" x=\"1041\" y=\"-37.8\" font-family=\"Helvetica,sans-Serif\" font-size=\"14.00\">samples = 139</text>\n<text text-anchor=\"middle\" x=\"1041\" y=\"-22.8\" font-family=\"Helvetica,sans-Serif\" font-size=\"14.00\">value = [138, 0, 0 ... 0, 0, 0]</text>\n<text text-anchor=\"middle\" x=\"1041\" y=\"-7.8\" font-family=\"Helvetica,sans-Serif\" font-size=\"14.00\">class = 760</text>\n</g>\n<!-- 15&#45;&gt;17 -->\n<g id=\"edge17\" class=\"edge\">\n<title>15&#45;&gt;17</title>\n<path fill=\"none\" stroke=\"black\" d=\"M923.37,-103.88C940.54,-93.83 958.87,-83.09 975.84,-73.16\"/>\n<polygon fill=\"black\" stroke=\"black\" points=\"977.71,-76.12 984.57,-68.04 974.17,-70.08 977.71,-76.12\"/>\n</g>\n<!-- 19 -->\n<g id=\"node20\" class=\"node\">\n<title>19</title>\n<polygon fill=\"#ffffff\" stroke=\"black\" points=\"1343,-68 1177,-68 1177,0 1343,0 1343,-68\"/>\n<text text-anchor=\"middle\" x=\"1260\" y=\"-52.8\" font-family=\"Helvetica,sans-Serif\" font-size=\"14.00\">gini = 0.947</text>\n<text text-anchor=\"middle\" x=\"1260\" y=\"-37.8\" font-family=\"Helvetica,sans-Serif\" font-size=\"14.00\">samples = 19</text>\n<text text-anchor=\"middle\" x=\"1260\" y=\"-22.8\" font-family=\"Helvetica,sans-Serif\" font-size=\"14.00\">value = [1, 0, 0 ... 0, 0, 0]</text>\n<text text-anchor=\"middle\" x=\"1260\" y=\"-7.8\" font-family=\"Helvetica,sans-Serif\" font-size=\"14.00\">class = 760</text>\n</g>\n<!-- 18&#45;&gt;19 -->\n<g id=\"edge19\" class=\"edge\">\n<title>18&#45;&gt;19</title>\n<path fill=\"none\" stroke=\"black\" d=\"M1276.32,-103.73C1274.35,-95.43 1272.27,-86.67 1270.28,-78.28\"/>\n<polygon fill=\"black\" stroke=\"black\" points=\"1273.62,-77.22 1267.91,-68.3 1266.81,-78.84 1273.62,-77.22\"/>\n</g>\n<!-- 20 -->\n<g id=\"node21\" class=\"node\">\n<title>20</title>\n<polygon fill=\"#e58139\" stroke=\"black\" points=\"1527,-68 1361,-68 1361,0 1527,0 1527,-68\"/>\n<text text-anchor=\"middle\" x=\"1444\" y=\"-52.8\" font-family=\"Helvetica,sans-Serif\" font-size=\"14.00\">gini = 0.0</text>\n<text text-anchor=\"middle\" x=\"1444\" y=\"-37.8\" font-family=\"Helvetica,sans-Serif\" font-size=\"14.00\">samples = 3</text>\n<text text-anchor=\"middle\" x=\"1444\" y=\"-22.8\" font-family=\"Helvetica,sans-Serif\" font-size=\"14.00\">value = [3, 0, 0 ... 0, 0, 0]</text>\n<text text-anchor=\"middle\" x=\"1444\" y=\"-7.8\" font-family=\"Helvetica,sans-Serif\" font-size=\"14.00\">class = 760</text>\n</g>\n<!-- 18&#45;&gt;20 -->\n<g id=\"edge20\" class=\"edge\">\n<title>18&#45;&gt;20</title>\n<path fill=\"none\" stroke=\"black\" d=\"M1344.83,-103.73C1358.86,-94.01 1373.79,-83.66 1387.69,-74.02\"/>\n<polygon fill=\"black\" stroke=\"black\" points=\"1389.98,-76.7 1396.2,-68.13 1385.99,-70.94 1389.98,-76.7\"/>\n</g>\n<!-- 22 -->\n<g id=\"node23\" class=\"node\">\n<title>22</title>\n<polygon fill=\"#e5b139\" stroke=\"black\" points=\"1678,-179.5 1512,-179.5 1512,-111.5 1678,-111.5 1678,-179.5\"/>\n<text text-anchor=\"middle\" x=\"1595\" y=\"-164.3\" font-family=\"Helvetica,sans-Serif\" font-size=\"14.00\">gini = 0.0</text>\n<text text-anchor=\"middle\" x=\"1595\" y=\"-149.3\" font-family=\"Helvetica,sans-Serif\" font-size=\"14.00\">samples = 3</text>\n<text text-anchor=\"middle\" x=\"1595\" y=\"-134.3\" font-family=\"Helvetica,sans-Serif\" font-size=\"14.00\">value = [0, 0, 0 ... 0, 0, 0]</text>\n<text text-anchor=\"middle\" x=\"1595\" y=\"-119.3\" font-family=\"Helvetica,sans-Serif\" font-size=\"14.00\">class = 490</text>\n</g>\n<!-- 21&#45;&gt;22 -->\n<g id=\"edge22\" class=\"edge\">\n<title>21&#45;&gt;22</title>\n<path fill=\"none\" stroke=\"black\" d=\"M1634.18,-222.91C1628.52,-211.87 1622.38,-199.9 1616.68,-188.77\"/>\n<polygon fill=\"black\" stroke=\"black\" points=\"1619.69,-186.97 1612.01,-179.67 1613.46,-190.16 1619.69,-186.97\"/>\n</g>\n<!-- 23 -->\n<g id=\"node24\" class=\"node\">\n<title>23</title>\n<polygon fill=\"#ffffff\" stroke=\"black\" points=\"1992,-187 1696,-187 1696,-104 1992,-104 1992,-187\"/>\n<text text-anchor=\"middle\" x=\"1844\" y=\"-171.8\" font-family=\"Helvetica,sans-Serif\" font-size=\"14.00\">Electricity_from_Fossil_Fuels_(TWh) &lt;= 0.025</text>\n<text text-anchor=\"middle\" x=\"1844\" y=\"-156.8\" font-family=\"Helvetica,sans-Serif\" font-size=\"14.00\">gini = 0.883</text>\n<text text-anchor=\"middle\" x=\"1844\" y=\"-141.8\" font-family=\"Helvetica,sans-Serif\" font-size=\"14.00\">samples = 16</text>\n<text text-anchor=\"middle\" x=\"1844\" y=\"-126.8\" font-family=\"Helvetica,sans-Serif\" font-size=\"14.00\">value = [0, 0, 0 ... 0, 0, 0]</text>\n<text text-anchor=\"middle\" x=\"1844\" y=\"-111.8\" font-family=\"Helvetica,sans-Serif\" font-size=\"14.00\">class = 1220</text>\n</g>\n<!-- 21&#45;&gt;23 -->\n<g id=\"edge23\" class=\"edge\">\n<title>21&#45;&gt;23</title>\n<path fill=\"none\" stroke=\"black\" d=\"M1720.57,-222.91C1736.41,-213.11 1753.44,-202.56 1769.64,-192.53\"/>\n<polygon fill=\"black\" stroke=\"black\" points=\"1771.88,-195.26 1778.54,-187.02 1768.2,-189.31 1771.88,-195.26\"/>\n</g>\n<!-- 24 -->\n<g id=\"node25\" class=\"node\">\n<title>24</title>\n<polygon fill=\"#e58139\" stroke=\"black\" points=\"1835,-68 1669,-68 1669,0 1835,0 1835,-68\"/>\n<text text-anchor=\"middle\" x=\"1752\" y=\"-52.8\" font-family=\"Helvetica,sans-Serif\" font-size=\"14.00\">gini = 0.0</text>\n<text text-anchor=\"middle\" x=\"1752\" y=\"-37.8\" font-family=\"Helvetica,sans-Serif\" font-size=\"14.00\">samples = 3</text>\n<text text-anchor=\"middle\" x=\"1752\" y=\"-22.8\" font-family=\"Helvetica,sans-Serif\" font-size=\"14.00\">value = [0, 0, 0 ... 0, 0, 0]</text>\n<text text-anchor=\"middle\" x=\"1752\" y=\"-7.8\" font-family=\"Helvetica,sans-Serif\" font-size=\"14.00\">class = 1220</text>\n</g>\n<!-- 23&#45;&gt;24 -->\n<g id=\"edge24\" class=\"edge\">\n<title>23&#45;&gt;24</title>\n<path fill=\"none\" stroke=\"black\" d=\"M1809.74,-103.73C1802.16,-94.7 1794.11,-85.12 1786.52,-76.08\"/>\n<polygon fill=\"black\" stroke=\"black\" points=\"1789.09,-73.7 1779.98,-68.3 1783.73,-78.21 1789.09,-73.7\"/>\n</g>\n<!-- 25 -->\n<g id=\"node26\" class=\"node\">\n<title>25</title>\n<polygon fill=\"#fdf4ed\" stroke=\"black\" points=\"2019,-68 1853,-68 1853,0 2019,0 2019,-68\"/>\n<text text-anchor=\"middle\" x=\"1936\" y=\"-52.8\" font-family=\"Helvetica,sans-Serif\" font-size=\"14.00\">gini = 0.876</text>\n<text text-anchor=\"middle\" x=\"1936\" y=\"-37.8\" font-family=\"Helvetica,sans-Serif\" font-size=\"14.00\">samples = 13</text>\n<text text-anchor=\"middle\" x=\"1936\" y=\"-22.8\" font-family=\"Helvetica,sans-Serif\" font-size=\"14.00\">value = [0, 0, 0 ... 0, 0, 0]</text>\n<text text-anchor=\"middle\" x=\"1936\" y=\"-7.8\" font-family=\"Helvetica,sans-Serif\" font-size=\"14.00\">class = 1769</text>\n</g>\n<!-- 23&#45;&gt;25 -->\n<g id=\"edge25\" class=\"edge\">\n<title>23&#45;&gt;25</title>\n<path fill=\"none\" stroke=\"black\" d=\"M1878.26,-103.73C1885.84,-94.7 1893.89,-85.12 1901.48,-76.08\"/>\n<polygon fill=\"black\" stroke=\"black\" points=\"1904.27,-78.21 1908.02,-68.3 1898.91,-73.7 1904.27,-78.21\"/>\n</g>\n<!-- 27 -->\n<g id=\"node28\" class=\"node\">\n<title>27</title>\n<polygon fill=\"#e78a47\" stroke=\"black\" points=\"2304.5,-306 1997.5,-306 1997.5,-223 2304.5,-223 2304.5,-306\"/>\n<text text-anchor=\"middle\" x=\"2151\" y=\"-290.8\" font-family=\"Helvetica,sans-Serif\" font-size=\"14.00\">Access to electricity (% of population) &lt;= 94.928</text>\n<text text-anchor=\"middle\" x=\"2151\" y=\"-275.8\" font-family=\"Helvetica,sans-Serif\" font-size=\"14.00\">gini = 0.124</text>\n<text text-anchor=\"middle\" x=\"2151\" y=\"-260.8\" font-family=\"Helvetica,sans-Serif\" font-size=\"14.00\">samples = 15</text>\n<text text-anchor=\"middle\" x=\"2151\" y=\"-245.8\" font-family=\"Helvetica,sans-Serif\" font-size=\"14.00\">value = [0, 14, 1 ... 0, 0, 0]</text>\n<text text-anchor=\"middle\" x=\"2151\" y=\"-230.8\" font-family=\"Helvetica,sans-Serif\" font-size=\"14.00\">class = 730</text>\n</g>\n<!-- 26&#45;&gt;27 -->\n<g id=\"edge27\" class=\"edge\">\n<title>26&#45;&gt;27</title>\n<path fill=\"none\" stroke=\"black\" d=\"M2151,-341.91C2151,-333.65 2151,-324.86 2151,-316.3\"/>\n<polygon fill=\"black\" stroke=\"black\" points=\"2154.5,-316.02 2151,-306.02 2147.5,-316.02 2154.5,-316.02\"/>\n</g>\n<!-- 30 -->\n<g id=\"node31\" class=\"node\">\n<title>30</title>\n<polygon fill=\"#fffefe\" stroke=\"black\" points=\"2677,-306 2381,-306 2381,-223 2677,-223 2677,-306\"/>\n<text text-anchor=\"middle\" x=\"2529\" y=\"-290.8\" font-family=\"Helvetica,sans-Serif\" font-size=\"14.00\">Electricity_from_Fossil_Fuels_(TWh) &lt;= 0.095</text>\n<text text-anchor=\"middle\" x=\"2529\" y=\"-275.8\" font-family=\"Helvetica,sans-Serif\" font-size=\"14.00\">gini = 0.999</text>\n<text text-anchor=\"middle\" x=\"2529\" y=\"-260.8\" font-family=\"Helvetica,sans-Serif\" font-size=\"14.00\">samples = 2204</text>\n<text text-anchor=\"middle\" x=\"2529\" y=\"-245.8\" font-family=\"Helvetica,sans-Serif\" font-size=\"14.00\">value = [22, 0, 0 ... 1, 1, 1]</text>\n<text text-anchor=\"middle\" x=\"2529\" y=\"-230.8\" font-family=\"Helvetica,sans-Serif\" font-size=\"14.00\">class = 760</text>\n</g>\n<!-- 26&#45;&gt;30 -->\n<g id=\"edge30\" class=\"edge\">\n<title>26&#45;&gt;30</title>\n<path fill=\"none\" stroke=\"black\" d=\"M2281.88,-341.99C2316.2,-331.37 2353.35,-319.87 2388.16,-309.09\"/>\n<polygon fill=\"black\" stroke=\"black\" points=\"2389.39,-312.38 2397.91,-306.07 2387.32,-305.69 2389.39,-312.38\"/>\n</g>\n<!-- 28 -->\n<g id=\"node29\" class=\"node\">\n<title>28</title>\n<polygon fill=\"#e58139\" stroke=\"black\" points=\"2176,-179.5 2010,-179.5 2010,-111.5 2176,-111.5 2176,-179.5\"/>\n<text text-anchor=\"middle\" x=\"2093\" y=\"-164.3\" font-family=\"Helvetica,sans-Serif\" font-size=\"14.00\">gini = 0.0</text>\n<text text-anchor=\"middle\" x=\"2093\" y=\"-149.3\" font-family=\"Helvetica,sans-Serif\" font-size=\"14.00\">samples = 1</text>\n<text text-anchor=\"middle\" x=\"2093\" y=\"-134.3\" font-family=\"Helvetica,sans-Serif\" font-size=\"14.00\">value = [0, 0, 1 ... 0, 0, 0]</text>\n<text text-anchor=\"middle\" x=\"2093\" y=\"-119.3\" font-family=\"Helvetica,sans-Serif\" font-size=\"14.00\">class = 1029</text>\n</g>\n<!-- 27&#45;&gt;28 -->\n<g id=\"edge28\" class=\"edge\">\n<title>27&#45;&gt;28</title>\n<path fill=\"none\" stroke=\"black\" d=\"M2130.88,-222.91C2125.41,-211.87 2119.47,-199.9 2113.96,-188.77\"/>\n<polygon fill=\"black\" stroke=\"black\" points=\"2117.02,-187.07 2109.44,-179.67 2110.75,-190.18 2117.02,-187.07\"/>\n</g>\n<!-- 29 -->\n<g id=\"node30\" class=\"node\">\n<title>29</title>\n<polygon fill=\"#e58139\" stroke=\"black\" points=\"2367.5,-179.5 2194.5,-179.5 2194.5,-111.5 2367.5,-111.5 2367.5,-179.5\"/>\n<text text-anchor=\"middle\" x=\"2281\" y=\"-164.3\" font-family=\"Helvetica,sans-Serif\" font-size=\"14.00\">gini = 0.0</text>\n<text text-anchor=\"middle\" x=\"2281\" y=\"-149.3\" font-family=\"Helvetica,sans-Serif\" font-size=\"14.00\">samples = 14</text>\n<text text-anchor=\"middle\" x=\"2281\" y=\"-134.3\" font-family=\"Helvetica,sans-Serif\" font-size=\"14.00\">value = [0, 14, 0 ... 0, 0, 0]</text>\n<text text-anchor=\"middle\" x=\"2281\" y=\"-119.3\" font-family=\"Helvetica,sans-Serif\" font-size=\"14.00\">class = 730</text>\n</g>\n<!-- 27&#45;&gt;29 -->\n<g id=\"edge29\" class=\"edge\">\n<title>27&#45;&gt;29</title>\n<path fill=\"none\" stroke=\"black\" d=\"M2196.1,-222.91C2209.22,-211.1 2223.54,-198.22 2236.61,-186.45\"/>\n<polygon fill=\"black\" stroke=\"black\" points=\"2239.06,-188.96 2244.15,-179.67 2234.37,-183.76 2239.06,-188.96\"/>\n</g>\n<!-- 31 -->\n<g id=\"node32\" class=\"node\">\n<title>31</title>\n<polygon fill=\"#fffefe\" stroke=\"black\" points=\"2672.5,-187 2385.5,-187 2385.5,-104 2672.5,-104 2672.5,-187\"/>\n<text text-anchor=\"middle\" x=\"2529\" y=\"-171.8\" font-family=\"Helvetica,sans-Serif\" font-size=\"14.00\">Electricity_from_Renewables(TWh) &lt;= 0.155</text>\n<text text-anchor=\"middle\" x=\"2529\" y=\"-156.8\" font-family=\"Helvetica,sans-Serif\" font-size=\"14.00\">gini = 0.99</text>\n<text text-anchor=\"middle\" x=\"2529\" y=\"-141.8\" font-family=\"Helvetica,sans-Serif\" font-size=\"14.00\">samples = 361</text>\n<text text-anchor=\"middle\" x=\"2529\" y=\"-126.8\" font-family=\"Helvetica,sans-Serif\" font-size=\"14.00\">value = [2, 0, 0 ... 0, 0, 0]</text>\n<text text-anchor=\"middle\" x=\"2529\" y=\"-111.8\" font-family=\"Helvetica,sans-Serif\" font-size=\"14.00\">class = 0</text>\n</g>\n<!-- 30&#45;&gt;31 -->\n<g id=\"edge31\" class=\"edge\">\n<title>30&#45;&gt;31</title>\n<path fill=\"none\" stroke=\"black\" d=\"M2529,-222.91C2529,-214.65 2529,-205.86 2529,-197.3\"/>\n<polygon fill=\"black\" stroke=\"black\" points=\"2532.5,-197.02 2529,-187.02 2525.5,-197.02 2532.5,-197.02\"/>\n</g>\n<!-- 34 -->\n<g id=\"node35\" class=\"node\">\n<title>34</title>\n<polygon fill=\"#fffefd\" stroke=\"black\" points=\"3175.5,-187 2690.5,-187 2690.5,-104 3175.5,-104 3175.5,-187\"/>\n<text text-anchor=\"middle\" x=\"2933\" y=\"-171.8\" font-family=\"Helvetica,sans-Serif\" font-size=\"14.00\">Renewable_Energy_Share_in_Total_Final_Energy_Consumption_% &lt;= 94.71</text>\n<text text-anchor=\"middle\" x=\"2933\" y=\"-156.8\" font-family=\"Helvetica,sans-Serif\" font-size=\"14.00\">gini = 0.999</text>\n<text text-anchor=\"middle\" x=\"2933\" y=\"-141.8\" font-family=\"Helvetica,sans-Serif\" font-size=\"14.00\">samples = 1843</text>\n<text text-anchor=\"middle\" x=\"2933\" y=\"-126.8\" font-family=\"Helvetica,sans-Serif\" font-size=\"14.00\">value = [20, 0, 0 ... 1, 1, 1]</text>\n<text text-anchor=\"middle\" x=\"2933\" y=\"-111.8\" font-family=\"Helvetica,sans-Serif\" font-size=\"14.00\">class = 760</text>\n</g>\n<!-- 30&#45;&gt;34 -->\n<g id=\"edge34\" class=\"edge\">\n<title>30&#45;&gt;34</title>\n<path fill=\"none\" stroke=\"black\" d=\"M2668.88,-222.99C2705.72,-212.32 2745.6,-200.77 2782.95,-189.96\"/>\n<polygon fill=\"black\" stroke=\"black\" points=\"2784.26,-193.22 2792.9,-187.07 2782.32,-186.49 2784.26,-193.22\"/>\n</g>\n<!-- 32 -->\n<g id=\"node33\" class=\"node\">\n<title>32</title>\n<polygon fill=\"#fffefd\" stroke=\"black\" points=\"2489,-68 2323,-68 2323,0 2489,0 2489,-68\"/>\n<text text-anchor=\"middle\" x=\"2406\" y=\"-52.8\" font-family=\"Helvetica,sans-Serif\" font-size=\"14.00\">gini = 0.975</text>\n<text text-anchor=\"middle\" x=\"2406\" y=\"-37.8\" font-family=\"Helvetica,sans-Serif\" font-size=\"14.00\">samples = 203</text>\n<text text-anchor=\"middle\" x=\"2406\" y=\"-22.8\" font-family=\"Helvetica,sans-Serif\" font-size=\"14.00\">value = [2, 0, 0 ... 0, 0, 0]</text>\n<text text-anchor=\"middle\" x=\"2406\" y=\"-7.8\" font-family=\"Helvetica,sans-Serif\" font-size=\"14.00\">class = 0</text>\n</g>\n<!-- 31&#45;&gt;32 -->\n<g id=\"edge32\" class=\"edge\">\n<title>31&#45;&gt;32</title>\n<path fill=\"none\" stroke=\"black\" d=\"M2483.2,-103.73C2472.65,-94.33 2461.43,-84.35 2450.92,-74.99\"/>\n<polygon fill=\"black\" stroke=\"black\" points=\"2453.2,-72.33 2443.41,-68.3 2448.55,-77.56 2453.2,-72.33\"/>\n</g>\n<!-- 33 -->\n<g id=\"node34\" class=\"node\">\n<title>33</title>\n<polygon fill=\"#ffffff\" stroke=\"black\" points=\"2673,-68 2507,-68 2507,0 2673,0 2673,-68\"/>\n<text text-anchor=\"middle\" x=\"2590\" y=\"-52.8\" font-family=\"Helvetica,sans-Serif\" font-size=\"14.00\">gini = 0.992</text>\n<text text-anchor=\"middle\" x=\"2590\" y=\"-37.8\" font-family=\"Helvetica,sans-Serif\" font-size=\"14.00\">samples = 158</text>\n<text text-anchor=\"middle\" x=\"2590\" y=\"-22.8\" font-family=\"Helvetica,sans-Serif\" font-size=\"14.00\">value = [0, 0, 0 ... 0, 0, 0]</text>\n<text text-anchor=\"middle\" x=\"2590\" y=\"-7.8\" font-family=\"Helvetica,sans-Serif\" font-size=\"14.00\">class = 5139</text>\n</g>\n<!-- 31&#45;&gt;33 -->\n<g id=\"edge33\" class=\"edge\">\n<title>31&#45;&gt;33</title>\n<path fill=\"none\" stroke=\"black\" d=\"M2551.71,-103.73C2556.54,-95.06 2561.65,-85.9 2566.5,-77.18\"/>\n<polygon fill=\"black\" stroke=\"black\" points=\"2569.64,-78.74 2571.45,-68.3 2563.53,-75.33 2569.64,-78.74\"/>\n</g>\n<!-- 35 -->\n<g id=\"node36\" class=\"node\">\n<title>35</title>\n<polygon fill=\"#fffefd\" stroke=\"black\" points=\"2925.5,-68 2752.5,-68 2752.5,0 2925.5,0 2925.5,-68\"/>\n<text text-anchor=\"middle\" x=\"2839\" y=\"-52.8\" font-family=\"Helvetica,sans-Serif\" font-size=\"14.00\">gini = 0.999</text>\n<text text-anchor=\"middle\" x=\"2839\" y=\"-37.8\" font-family=\"Helvetica,sans-Serif\" font-size=\"14.00\">samples = 1840</text>\n<text text-anchor=\"middle\" x=\"2839\" y=\"-22.8\" font-family=\"Helvetica,sans-Serif\" font-size=\"14.00\">value = [20, 0, 0 ... 1, 1, 1]</text>\n<text text-anchor=\"middle\" x=\"2839\" y=\"-7.8\" font-family=\"Helvetica,sans-Serif\" font-size=\"14.00\">class = 760</text>\n</g>\n<!-- 34&#45;&gt;35 -->\n<g id=\"edge35\" class=\"edge\">\n<title>34&#45;&gt;35</title>\n<path fill=\"none\" stroke=\"black\" d=\"M2898,-103.73C2890.25,-94.7 2882.03,-85.12 2874.27,-76.08\"/>\n<polygon fill=\"black\" stroke=\"black\" points=\"2876.76,-73.61 2867.59,-68.3 2871.44,-78.17 2876.76,-73.61\"/>\n</g>\n<!-- 36 -->\n<g id=\"node37\" class=\"node\">\n<title>36</title>\n<polygon fill=\"#e5b439\" stroke=\"black\" points=\"3110,-68 2944,-68 2944,0 3110,0 3110,-68\"/>\n<text text-anchor=\"middle\" x=\"3027\" y=\"-52.8\" font-family=\"Helvetica,sans-Serif\" font-size=\"14.00\">gini = 0.0</text>\n<text text-anchor=\"middle\" x=\"3027\" y=\"-37.8\" font-family=\"Helvetica,sans-Serif\" font-size=\"14.00\">samples = 3</text>\n<text text-anchor=\"middle\" x=\"3027\" y=\"-22.8\" font-family=\"Helvetica,sans-Serif\" font-size=\"14.00\">value = [0, 0, 0 ... 0, 0, 0]</text>\n<text text-anchor=\"middle\" x=\"3027\" y=\"-7.8\" font-family=\"Helvetica,sans-Serif\" font-size=\"14.00\">class = 500</text>\n</g>\n<!-- 34&#45;&gt;36 -->\n<g id=\"edge36\" class=\"edge\">\n<title>34&#45;&gt;36</title>\n<path fill=\"none\" stroke=\"black\" d=\"M2968,-103.73C2975.75,-94.7 2983.97,-85.12 2991.73,-76.08\"/>\n<polygon fill=\"black\" stroke=\"black\" points=\"2994.56,-78.17 2998.41,-68.3 2989.24,-73.61 2994.56,-78.17\"/>\n</g>\n</g>\n</svg>\n",
            "text/plain": [
              "<graphviz.sources.Source at 0x7f4bb3b64520>"
            ]
          },
          "metadata": {},
          "execution_count": 12
        }
      ]
    },
    {
      "cell_type": "markdown",
      "source": [
        "# Regression"
      ],
      "metadata": {
        "id": "L9b41xDto80O"
      }
    },
    {
      "cell_type": "code",
      "source": [
        "from sklearn.linear_model import LinearRegression\n",
        "from sklearn.metrics import r2_score\n",
        "test_set = (X_test, y_test)\n",
        "IndVal = y_test\n",
        "DepVal = X_test\n",
        "\n",
        "#Fitting to model\n",
        "Model_LR = LinearRegression().fit(DepVal, IndVal)\n",
        "\n",
        "#Results\n",
        "print('Coefficent of the Model:', Model_LR.coef_,'\\n')\n",
        "print('Intercept of the Model:', Model_LR.intercept_)"
      ],
      "metadata": {
        "colab": {
          "base_uri": "https://localhost:8080/"
        },
        "id": "UWtas2dzo-ZU",
        "outputId": "290ae7a8-afe1-40b4-c503-e8d97d71f4e5"
      },
      "execution_count": 13,
      "outputs": [
        {
          "output_type": "stream",
          "name": "stdout",
          "text": [
            "Coefficent of the Model: [ 3.33541730e+02 -4.38846364e+02 -2.38911166e+01 -3.24155038e+02\n",
            "  2.09594532e+03 -6.23925857e+02  8.03801166e+02  4.24067263e+02\n",
            " -1.25924771e-01  4.76193810e+03  2.79806802e+03 -1.72659493e-01] \n",
            "\n",
            "Intercept of the Model: -42257.42278007002\n"
          ]
        }
      ]
    },
    {
      "cell_type": "code",
      "source": [
        "#Predictions\n",
        "Model_LR.predict(DepVal)"
      ],
      "metadata": {
        "colab": {
          "base_uri": "https://localhost:8080/"
        },
        "id": "Y2JQJssqpAoe",
        "outputId": "e59d592e-a761-4c49-f10f-dee4da524d22"
      },
      "execution_count": 14,
      "outputs": [
        {
          "output_type": "execute_result",
          "data": {
            "text/plain": [
              "array([-22279.64377793, -49692.65079811,   9589.24963568, ...,\n",
              "        48636.75229099,   -519.62239072,  28308.0418917 ])"
            ]
          },
          "metadata": {},
          "execution_count": 14
        }
      ]
    },
    {
      "cell_type": "code",
      "source": [
        "#Variance\n",
        "r2_score(y_true= IndVal,\n",
        "         y_pred= Model_LR.predict(DepVal))"
      ],
      "metadata": {
        "colab": {
          "base_uri": "https://localhost:8080/"
        },
        "id": "0kkCCGxKpCIg",
        "outputId": "7dc3ec08-630c-44f8-a8e5-50b9a4836eb3"
      },
      "execution_count": 15,
      "outputs": [
        {
          "output_type": "execute_result",
          "data": {
            "text/plain": [
              "0.9676001939652727"
            ]
          },
          "metadata": {},
          "execution_count": 15
        }
      ]
    },
    {
      "cell_type": "code",
      "source": [
        "from plotnine import ggplot, aes, geom_point, geom_line\n",
        "from plotnine.themes import theme_minimal\n",
        "\n",
        "Fitted = Model_LR.predict(X_test)\n",
        "Fitted_df = pd.DataFrame(data=Fitted)\n",
        "\n",
        "ggplot(aes(DepVal,IndVal),test_set) + geom_point(alpha = 0.5, color = \"#2c3e50\") +geom_line(aes(y= 'Fitted_df'), color = 'blue') + theme_minimal()"
      ],
      "metadata": {
        "colab": {
          "base_uri": "https://localhost:8080/",
          "height": 1000
        },
        "id": "1X-ZlUEVpDnC",
        "outputId": "50d1898c-a32e-4b77-d484-73b380d3b6cf"
      },
      "execution_count": 16,
      "outputs": [
        {
          "output_type": "error",
          "ename": "TypeError",
          "evalue": "ignored",
          "traceback": [
            "\u001b[0;31m---------------------------------------------------------------------------\u001b[0m",
            "\u001b[0;31mTypeError\u001b[0m                                 Traceback (most recent call last)",
            "\u001b[0;32m<ipython-input-16-aeafbe8e465f>\u001b[0m in \u001b[0;36m<cell line: 7>\u001b[0;34m()\u001b[0m\n\u001b[1;32m      5\u001b[0m \u001b[0mFitted_df\u001b[0m \u001b[0;34m=\u001b[0m \u001b[0mpd\u001b[0m\u001b[0;34m.\u001b[0m\u001b[0mDataFrame\u001b[0m\u001b[0;34m(\u001b[0m\u001b[0mdata\u001b[0m\u001b[0;34m=\u001b[0m\u001b[0mFitted\u001b[0m\u001b[0;34m)\u001b[0m\u001b[0;34m\u001b[0m\u001b[0;34m\u001b[0m\u001b[0m\n\u001b[1;32m      6\u001b[0m \u001b[0;34m\u001b[0m\u001b[0m\n\u001b[0;32m----> 7\u001b[0;31m \u001b[0mggplot\u001b[0m\u001b[0;34m(\u001b[0m\u001b[0maes\u001b[0m\u001b[0;34m(\u001b[0m\u001b[0mDepVal\u001b[0m\u001b[0;34m,\u001b[0m\u001b[0mIndVal\u001b[0m\u001b[0;34m)\u001b[0m\u001b[0;34m,\u001b[0m\u001b[0mtest_set\u001b[0m\u001b[0;34m)\u001b[0m \u001b[0;34m+\u001b[0m \u001b[0mgeom_point\u001b[0m\u001b[0;34m(\u001b[0m\u001b[0malpha\u001b[0m \u001b[0;34m=\u001b[0m \u001b[0;36m0.5\u001b[0m\u001b[0;34m,\u001b[0m \u001b[0mcolor\u001b[0m \u001b[0;34m=\u001b[0m \u001b[0;34m\"#2c3e50\"\u001b[0m\u001b[0;34m)\u001b[0m \u001b[0;34m+\u001b[0m\u001b[0mgeom_line\u001b[0m\u001b[0;34m(\u001b[0m\u001b[0maes\u001b[0m\u001b[0;34m(\u001b[0m\u001b[0my\u001b[0m\u001b[0;34m=\u001b[0m \u001b[0;34m'Fitted_df'\u001b[0m\u001b[0;34m)\u001b[0m\u001b[0;34m,\u001b[0m \u001b[0mcolor\u001b[0m \u001b[0;34m=\u001b[0m \u001b[0;34m'blue'\u001b[0m\u001b[0;34m)\u001b[0m \u001b[0;34m+\u001b[0m \u001b[0mtheme_minimal\u001b[0m\u001b[0;34m(\u001b[0m\u001b[0;34m)\u001b[0m\u001b[0;34m\u001b[0m\u001b[0;34m\u001b[0m\u001b[0m\n\u001b[0m",
            "\u001b[0;32m/usr/local/lib/python3.10/dist-packages/plotnine/ggplot.py\u001b[0m in \u001b[0;36m__init__\u001b[0;34m(self, data, mapping, environment)\u001b[0m\n\u001b[1;32m     82\u001b[0m \u001b[0;34m\u001b[0m\u001b[0m\n\u001b[1;32m     83\u001b[0m         \u001b[0;31m# Allow some sloppiness\u001b[0m\u001b[0;34m\u001b[0m\u001b[0;34m\u001b[0m\u001b[0m\n\u001b[0;32m---> 84\u001b[0;31m         \u001b[0mdata\u001b[0m\u001b[0;34m,\u001b[0m \u001b[0mmapping\u001b[0m \u001b[0;34m=\u001b[0m \u001b[0morder_as_data_mapping\u001b[0m\u001b[0;34m(\u001b[0m\u001b[0mdata\u001b[0m\u001b[0;34m,\u001b[0m \u001b[0mmapping\u001b[0m\u001b[0;34m)\u001b[0m\u001b[0;34m\u001b[0m\u001b[0;34m\u001b[0m\u001b[0m\n\u001b[0m\u001b[1;32m     85\u001b[0m         \u001b[0mself\u001b[0m\u001b[0;34m.\u001b[0m\u001b[0mdata\u001b[0m \u001b[0;34m=\u001b[0m \u001b[0mdata\u001b[0m\u001b[0;34m\u001b[0m\u001b[0;34m\u001b[0m\u001b[0m\n\u001b[1;32m     86\u001b[0m         \u001b[0mself\u001b[0m\u001b[0;34m.\u001b[0m\u001b[0mmapping\u001b[0m \u001b[0;34m=\u001b[0m \u001b[0mmapping\u001b[0m \u001b[0;32mif\u001b[0m \u001b[0mmapping\u001b[0m \u001b[0;32mis\u001b[0m \u001b[0;32mnot\u001b[0m \u001b[0;32mNone\u001b[0m \u001b[0;32melse\u001b[0m \u001b[0maes\u001b[0m\u001b[0;34m(\u001b[0m\u001b[0;34m)\u001b[0m\u001b[0;34m\u001b[0m\u001b[0;34m\u001b[0m\u001b[0m\n",
            "\u001b[0;32m/usr/local/lib/python3.10/dist-packages/plotnine/utils.py\u001b[0m in \u001b[0;36morder_as_data_mapping\u001b[0;34m(arg1, arg2)\u001b[0m\n\u001b[1;32m    967\u001b[0m                 \u001b[0;32mraise\u001b[0m \u001b[0mTypeError\u001b[0m\u001b[0;34m(\u001b[0m\u001b[0;34m\"Expected a single dataframe, found two\"\u001b[0m\u001b[0;34m)\u001b[0m\u001b[0;34m\u001b[0m\u001b[0;34m\u001b[0m\u001b[0m\n\u001b[1;32m    968\u001b[0m         \u001b[0;32melif\u001b[0m \u001b[0marg\u001b[0m \u001b[0;32mis\u001b[0m \u001b[0;32mnot\u001b[0m \u001b[0;32mNone\u001b[0m\u001b[0;34m:\u001b[0m\u001b[0;34m\u001b[0m\u001b[0;34m\u001b[0m\u001b[0m\n\u001b[0;32m--> 969\u001b[0;31m             raise TypeError(\n\u001b[0m\u001b[1;32m    970\u001b[0m                 \u001b[0;34mf\"Bad type of argument {arg!r}, expected a dataframe \"\u001b[0m\u001b[0;34m\u001b[0m\u001b[0;34m\u001b[0m\u001b[0m\n\u001b[1;32m    971\u001b[0m                 \u001b[0;34m\"or a mapping.\"\u001b[0m\u001b[0;34m\u001b[0m\u001b[0;34m\u001b[0m\u001b[0m\n",
            "\u001b[0;31mTypeError\u001b[0m: Bad type of argument (      Access to electricity (% of population)  Access_Clean_Fuels_for_Cooking  \\\n945                                 80.951810                            81.0   \n650                                100.000000                             0.0   \n399                                100.000000                             0.0   \n1446                                90.295815                            76.2   \n3128                                76.568580                            18.7   \n...                                       ...                             ...   \n1962                               100.000000                           100.0   \n2741                               100.000000                            87.1   \n1577                                97.062800                            77.0   \n3342                                99.400000                            99.0   \n3623                                35.425453                            13.4   \n\n      Renewable_Electricity_Generating_Capacity_per_Capita  \\\n945                                              110.27      \n650                                              193.81      \n399                                                0.00      \n1446                                              61.44      \n3128                                              66.56      \n...                                                 ...      \n1962                                               0.00      \n2741                                               0.00      \n1577                                              27.68      \n3342                                               7.94      \n3623                                             148.58      \n\n      Renewable_Energy_Share_in_Total_Final_Energy_Consumption_%  \\\n945                                               11.06            \n650                                                0.00            \n399                                                0.46            \n1446                                              22.18            \n3128                                              61.61            \n...                                                 ...            \n1962                                               3.96            \n2741                                              23.35            \n1577                                               0.35            \n3342                                              14.61            \n3623                                              83.07            \n\n      Electricity_from_Fossil_Fuels_(TWh)  Electricity_from_Nuclear(TWh)  \\\n945                                  0.04                           0.00   \n650                                  0.67                           0.00   \n399                                  0.00                           0.00   \n1446                                 0.99                           0.00   \n3128                                 4.94                           0.00   \n...                                   ...                            ...   \n1962                                 2.44                           0.00   \n2741                                28.15                          11.51   \n1577                                29.74                           0.00   \n3342                                13.44                           0.00   \n3623                                 0.65                           0.00   \n\n      Electricity_from_Renewables(TWh)  Low-carbon_Electricity  \\\n945                               0.03               42.857143   \n650                               0.02                2.898551   \n399                               0.00                0.000000   \n1446                              0.15               13.157896   \n3128                              2.94               37.309643   \n...                                ...                     ...   \n1962                              0.28               10.294118   \n2741                             24.29               55.981236   \n1577                              0.61                2.009885   \n3342                              0.07                0.518135   \n3623                             10.97               94.406200   \n\n      Primary energy consumption per capita (kWh/person)  \\\n945                                           7741.9917    \n650                                          41981.3800    \n399                                          39297.8800    \n1446                                         12459.0880    \n3128                                          2745.2893    \n...                                                 ...    \n1962                                        101834.5700    \n2741                                         19747.1910    \n1577                                         14176.4290    \n3342                                          9715.2180    \n3623                                          2846.6990    \n\n      Energy_Intensity_Levels_of_Primary_Energy  gdp_growth  gdp_per_capita  \n945                                        2.46    2.340219     4787.801441  \n650                                        0.00   -6.730287    85082.526860  \n399                                        1.52    9.317156    56284.168650  \n1446                                       3.95    3.734374     6124.953670  \n3128                                       2.88    5.445061     1065.784437  \n...                                         ...         ...             ...  \n1962                                       3.24   -0.300176   119932.243700  \n2741                                       2.61    7.319449    10807.009170  \n1577                                       5.57    1.761480     1494.388802  \n3342                                       3.91    4.237782     4307.580023  \n3623                                       7.33    3.776679     1280.806543  \n\n[1095 rows x 12 columns], 945       130\n650         0\n399       517\n1446     2470\n3128    12869\n        ...  \n1962    11020\n2741    74209\n1577    97550\n3342    25250\n3623     5320\nName: CO2_Emissions(kT), Length: 1095, dtype: int64), expected a dataframe or a mapping."
          ]
        }
      ]
    },
    {
      "cell_type": "markdown",
      "source": [
        "# K-Means"
      ],
      "metadata": {
        "id": "zN5OFW9MpHO4"
      }
    },
    {
      "cell_type": "code",
      "source": [
        "from sklearn.preprocessing import StandardScaler\n",
        "from sklearn.cluster import KMeans\n",
        "\n",
        "#Scaling and Intializing a function for Identifying the Optimal amount of clusters for the data\n",
        "scaler = StandardScaler()\n",
        "Scaled_data = scaler.fit_transform(X_test)\n",
        "\n",
        "def optim_k_means(data, max_k):\n",
        "  means = []\n",
        "  intertias = []\n",
        "  for k in range(1, max_k):\n",
        "    kmeans = KMeans(n_clusters=k)\n",
        "    kmeans.fit(data)\n",
        "\n",
        "    means.append(k)\n",
        "    intertias.append(kmeans.inertia_)\n",
        "\n",
        "  fig = plt.subplots(figsize= (10, 5))\n",
        "  plt.plot(means, intertias, 'o-')\n",
        "  plt.xlabel('Number of Clusters')\n",
        "  plt.ylabel('Inertia')\n",
        "  plt.grid(True)\n",
        "  plt.show()"
      ],
      "metadata": {
        "id": "BgNXZkxHpJy2"
      },
      "execution_count": 17,
      "outputs": []
    },
    {
      "cell_type": "code",
      "source": [
        "#Graphing the Optimal Amount of Clusters\n",
        "optim_k_means(Scaled_data, 10)\n"
      ],
      "metadata": {
        "colab": {
          "base_uri": "https://localhost:8080/",
          "height": 621
        },
        "id": "EWC4NeWkpLca",
        "outputId": "1dd44bea-2130-4c0e-ac16-b51a0f1319d5"
      },
      "execution_count": 18,
      "outputs": [
        {
          "output_type": "stream",
          "name": "stderr",
          "text": [
            "/usr/local/lib/python3.10/dist-packages/sklearn/cluster/_kmeans.py:870: FutureWarning: The default value of `n_init` will change from 10 to 'auto' in 1.4. Set the value of `n_init` explicitly to suppress the warning\n",
            "/usr/local/lib/python3.10/dist-packages/sklearn/cluster/_kmeans.py:870: FutureWarning: The default value of `n_init` will change from 10 to 'auto' in 1.4. Set the value of `n_init` explicitly to suppress the warning\n",
            "/usr/local/lib/python3.10/dist-packages/sklearn/cluster/_kmeans.py:870: FutureWarning: The default value of `n_init` will change from 10 to 'auto' in 1.4. Set the value of `n_init` explicitly to suppress the warning\n",
            "/usr/local/lib/python3.10/dist-packages/sklearn/cluster/_kmeans.py:870: FutureWarning: The default value of `n_init` will change from 10 to 'auto' in 1.4. Set the value of `n_init` explicitly to suppress the warning\n",
            "/usr/local/lib/python3.10/dist-packages/sklearn/cluster/_kmeans.py:870: FutureWarning: The default value of `n_init` will change from 10 to 'auto' in 1.4. Set the value of `n_init` explicitly to suppress the warning\n",
            "/usr/local/lib/python3.10/dist-packages/sklearn/cluster/_kmeans.py:870: FutureWarning: The default value of `n_init` will change from 10 to 'auto' in 1.4. Set the value of `n_init` explicitly to suppress the warning\n",
            "/usr/local/lib/python3.10/dist-packages/sklearn/cluster/_kmeans.py:870: FutureWarning: The default value of `n_init` will change from 10 to 'auto' in 1.4. Set the value of `n_init` explicitly to suppress the warning\n",
            "/usr/local/lib/python3.10/dist-packages/sklearn/cluster/_kmeans.py:870: FutureWarning: The default value of `n_init` will change from 10 to 'auto' in 1.4. Set the value of `n_init` explicitly to suppress the warning\n",
            "/usr/local/lib/python3.10/dist-packages/sklearn/cluster/_kmeans.py:870: FutureWarning: The default value of `n_init` will change from 10 to 'auto' in 1.4. Set the value of `n_init` explicitly to suppress the warning\n"
          ]
        },
        {
          "output_type": "display_data",
          "data": {
            "text/plain": [
              "<Figure size 1000x500 with 1 Axes>"
            ],
            "image/png": "[encoded data removed]"
          },
          "metadata": {}
        }
      ]
    },
    {
      "cell_type": "code",
      "source": [
        "#Apply K Means Clustering\n",
        "kmeans = KMeans(n_clusters=4)\n",
        "\n",
        "kmeans.fit(X_test)\n",
        "\n",
        "X_test['kmeans_4'] = kmeans.labels_"
      ],
      "metadata": {
        "colab": {
          "base_uri": "https://localhost:8080/"
        },
        "id": "cmhf6a2hpNnh",
        "outputId": "5ec82299-e942-426d-ef22-a3633703ec00"
      },
      "execution_count": 19,
      "outputs": [
        {
          "output_type": "stream",
          "name": "stderr",
          "text": [
            "/usr/local/lib/python3.10/dist-packages/sklearn/cluster/_kmeans.py:870: FutureWarning: The default value of `n_init` will change from 10 to 'auto' in 1.4. Set the value of `n_init` explicitly to suppress the warning\n"
          ]
        }
      ]
    },
    {
      "cell_type": "code",
      "source": [
        "#Plotting Results\n",
        "plt.scatter(x=X_test, y= X_test, c=X_test['kmeans_4'])\n",
        "plt.show()"
      ],
      "metadata": {
        "colab": {
          "base_uri": "https://localhost:8080/",
          "height": 861
        },
        "id": "-N-yg0pwpPfi",
        "outputId": "4e3d8274-997d-4a23-aabf-107c5135e23b"
      },
      "execution_count": 20,
      "outputs": [
        {
          "output_type": "error",
          "ename": "ValueError",
          "evalue": "ignored",
          "traceback": [
            "\u001b[0;31m---------------------------------------------------------------------------\u001b[0m",
            "\u001b[0;31mValueError\u001b[0m                                Traceback (most recent call last)",
            "\u001b[0;32m/usr/local/lib/python3.10/dist-packages/matplotlib/axes/_axes.py\u001b[0m in \u001b[0;36m_parse_scatter_color_args\u001b[0;34m(c, edgecolors, kwargs, xsize, get_next_color_func)\u001b[0m\n\u001b[1;32m   4438\u001b[0m             \u001b[0;32mtry\u001b[0m\u001b[0;34m:\u001b[0m  \u001b[0;31m# Is 'c' acceptable as PathCollection facecolors?\u001b[0m\u001b[0;34m\u001b[0m\u001b[0;34m\u001b[0m\u001b[0m\n\u001b[0;32m-> 4439\u001b[0;31m                 \u001b[0mcolors\u001b[0m \u001b[0;34m=\u001b[0m \u001b[0mmcolors\u001b[0m\u001b[0;34m.\u001b[0m\u001b[0mto_rgba_array\u001b[0m\u001b[0;34m(\u001b[0m\u001b[0mc\u001b[0m\u001b[0;34m)\u001b[0m\u001b[0;34m\u001b[0m\u001b[0;34m\u001b[0m\u001b[0m\n\u001b[0m\u001b[1;32m   4440\u001b[0m             \u001b[0;32mexcept\u001b[0m \u001b[0;34m(\u001b[0m\u001b[0mTypeError\u001b[0m\u001b[0;34m,\u001b[0m \u001b[0mValueError\u001b[0m\u001b[0;34m)\u001b[0m \u001b[0;32mas\u001b[0m \u001b[0merr\u001b[0m\u001b[0;34m:\u001b[0m\u001b[0;34m\u001b[0m\u001b[0;34m\u001b[0m\u001b[0m\n",
            "\u001b[0;32m/usr/local/lib/python3.10/dist-packages/matplotlib/colors.py\u001b[0m in \u001b[0;36mto_rgba_array\u001b[0;34m(c, alpha)\u001b[0m\n\u001b[1;32m    486\u001b[0m     \u001b[0;32melse\u001b[0m\u001b[0;34m:\u001b[0m\u001b[0;34m\u001b[0m\u001b[0;34m\u001b[0m\u001b[0m\n\u001b[0;32m--> 487\u001b[0;31m         \u001b[0mrgba\u001b[0m \u001b[0;34m=\u001b[0m \u001b[0mnp\u001b[0m\u001b[0;34m.\u001b[0m\u001b[0marray\u001b[0m\u001b[0;34m(\u001b[0m\u001b[0;34m[\u001b[0m\u001b[0mto_rgba\u001b[0m\u001b[0;34m(\u001b[0m\u001b[0mcc\u001b[0m\u001b[0;34m)\u001b[0m \u001b[0;32mfor\u001b[0m \u001b[0mcc\u001b[0m \u001b[0;32min\u001b[0m \u001b[0mc\u001b[0m\u001b[0;34m]\u001b[0m\u001b[0;34m)\u001b[0m\u001b[0;34m\u001b[0m\u001b[0;34m\u001b[0m\u001b[0m\n\u001b[0m\u001b[1;32m    488\u001b[0m \u001b[0;34m\u001b[0m\u001b[0m\n",
            "\u001b[0;32m/usr/local/lib/python3.10/dist-packages/matplotlib/colors.py\u001b[0m in \u001b[0;36m<listcomp>\u001b[0;34m(.0)\u001b[0m\n\u001b[1;32m    486\u001b[0m     \u001b[0;32melse\u001b[0m\u001b[0;34m:\u001b[0m\u001b[0;34m\u001b[0m\u001b[0;34m\u001b[0m\u001b[0m\n\u001b[0;32m--> 487\u001b[0;31m         \u001b[0mrgba\u001b[0m \u001b[0;34m=\u001b[0m \u001b[0mnp\u001b[0m\u001b[0;34m.\u001b[0m\u001b[0marray\u001b[0m\u001b[0;34m(\u001b[0m\u001b[0;34m[\u001b[0m\u001b[0mto_rgba\u001b[0m\u001b[0;34m(\u001b[0m\u001b[0mcc\u001b[0m\u001b[0;34m)\u001b[0m \u001b[0;32mfor\u001b[0m \u001b[0mcc\u001b[0m \u001b[0;32min\u001b[0m \u001b[0mc\u001b[0m\u001b[0;34m]\u001b[0m\u001b[0;34m)\u001b[0m\u001b[0;34m\u001b[0m\u001b[0;34m\u001b[0m\u001b[0m\n\u001b[0m\u001b[1;32m    488\u001b[0m \u001b[0;34m\u001b[0m\u001b[0m\n",
            "\u001b[0;32m/usr/local/lib/python3.10/dist-packages/matplotlib/colors.py\u001b[0m in \u001b[0;36mto_rgba\u001b[0;34m(c, alpha)\u001b[0m\n\u001b[1;32m    298\u001b[0m     \u001b[0;32mif\u001b[0m \u001b[0mrgba\u001b[0m \u001b[0;32mis\u001b[0m \u001b[0;32mNone\u001b[0m\u001b[0;34m:\u001b[0m  \u001b[0;31m# Suppress exception chaining of cache lookup failure.\u001b[0m\u001b[0;34m\u001b[0m\u001b[0;34m\u001b[0m\u001b[0m\n\u001b[0;32m--> 299\u001b[0;31m         \u001b[0mrgba\u001b[0m \u001b[0;34m=\u001b[0m \u001b[0m_to_rgba_no_colorcycle\u001b[0m\u001b[0;34m(\u001b[0m\u001b[0mc\u001b[0m\u001b[0;34m,\u001b[0m \u001b[0malpha\u001b[0m\u001b[0;34m)\u001b[0m\u001b[0;34m\u001b[0m\u001b[0;34m\u001b[0m\u001b[0m\n\u001b[0m\u001b[1;32m    300\u001b[0m         \u001b[0;32mtry\u001b[0m\u001b[0;34m:\u001b[0m\u001b[0;34m\u001b[0m\u001b[0;34m\u001b[0m\u001b[0m\n",
            "\u001b[0;32m/usr/local/lib/python3.10/dist-packages/matplotlib/colors.py\u001b[0m in \u001b[0;36m_to_rgba_no_colorcycle\u001b[0;34m(c, alpha)\u001b[0m\n\u001b[1;32m    380\u001b[0m     \u001b[0;32mif\u001b[0m \u001b[0;32mnot\u001b[0m \u001b[0mnp\u001b[0m\u001b[0;34m.\u001b[0m\u001b[0miterable\u001b[0m\u001b[0;34m(\u001b[0m\u001b[0mc\u001b[0m\u001b[0;34m)\u001b[0m\u001b[0;34m:\u001b[0m\u001b[0;34m\u001b[0m\u001b[0;34m\u001b[0m\u001b[0m\n\u001b[0;32m--> 381\u001b[0;31m         \u001b[0;32mraise\u001b[0m \u001b[0mValueError\u001b[0m\u001b[0;34m(\u001b[0m\u001b[0;34mf\"Invalid RGBA argument: {orig_c!r}\"\u001b[0m\u001b[0;34m)\u001b[0m\u001b[0;34m\u001b[0m\u001b[0;34m\u001b[0m\u001b[0m\n\u001b[0m\u001b[1;32m    382\u001b[0m     \u001b[0;32mif\u001b[0m \u001b[0mlen\u001b[0m\u001b[0;34m(\u001b[0m\u001b[0mc\u001b[0m\u001b[0;34m)\u001b[0m \u001b[0;32mnot\u001b[0m \u001b[0;32min\u001b[0m \u001b[0;34m[\u001b[0m\u001b[0;36m3\u001b[0m\u001b[0;34m,\u001b[0m \u001b[0;36m4\u001b[0m\u001b[0;34m]\u001b[0m\u001b[0;34m:\u001b[0m\u001b[0;34m\u001b[0m\u001b[0;34m\u001b[0m\u001b[0m\n",
            "\u001b[0;31mValueError\u001b[0m: Invalid RGBA argument: 2.0",
            "\nThe above exception was the direct cause of the following exception:\n",
            "\u001b[0;31mValueError\u001b[0m                                Traceback (most recent call last)",
            "\u001b[0;32m<ipython-input-20-310d3720a25d>\u001b[0m in \u001b[0;36m<cell line: 2>\u001b[0;34m()\u001b[0m\n\u001b[1;32m      1\u001b[0m \u001b[0;31m#Plotting Results\u001b[0m\u001b[0;34m\u001b[0m\u001b[0;34m\u001b[0m\u001b[0m\n\u001b[0;32m----> 2\u001b[0;31m \u001b[0mplt\u001b[0m\u001b[0;34m.\u001b[0m\u001b[0mscatter\u001b[0m\u001b[0;34m(\u001b[0m\u001b[0mx\u001b[0m\u001b[0;34m=\u001b[0m\u001b[0mX_test\u001b[0m\u001b[0;34m,\u001b[0m \u001b[0my\u001b[0m\u001b[0;34m=\u001b[0m \u001b[0mX_test\u001b[0m\u001b[0;34m,\u001b[0m \u001b[0mc\u001b[0m\u001b[0;34m=\u001b[0m\u001b[0mX_test\u001b[0m\u001b[0;34m[\u001b[0m\u001b[0;34m'kmeans_4'\u001b[0m\u001b[0;34m]\u001b[0m\u001b[0;34m)\u001b[0m\u001b[0;34m\u001b[0m\u001b[0;34m\u001b[0m\u001b[0m\n\u001b[0m\u001b[1;32m      3\u001b[0m \u001b[0mplt\u001b[0m\u001b[0;34m.\u001b[0m\u001b[0mshow\u001b[0m\u001b[0;34m(\u001b[0m\u001b[0;34m)\u001b[0m\u001b[0;34m\u001b[0m\u001b[0;34m\u001b[0m\u001b[0m\n",
            "\u001b[0;32m/usr/local/lib/python3.10/dist-packages/matplotlib/pyplot.py\u001b[0m in \u001b[0;36mscatter\u001b[0;34m(x, y, s, c, marker, cmap, norm, vmin, vmax, alpha, linewidths, edgecolors, plotnonfinite, data, **kwargs)\u001b[0m\n\u001b[1;32m   2860\u001b[0m         \u001b[0mvmin\u001b[0m\u001b[0;34m=\u001b[0m\u001b[0;32mNone\u001b[0m\u001b[0;34m,\u001b[0m \u001b[0mvmax\u001b[0m\u001b[0;34m=\u001b[0m\u001b[0;32mNone\u001b[0m\u001b[0;34m,\u001b[0m \u001b[0malpha\u001b[0m\u001b[0;34m=\u001b[0m\u001b[0;32mNone\u001b[0m\u001b[0;34m,\u001b[0m \u001b[0mlinewidths\u001b[0m\u001b[0;34m=\u001b[0m\u001b[0;32mNone\u001b[0m\u001b[0;34m,\u001b[0m \u001b[0;34m*\u001b[0m\u001b[0;34m,\u001b[0m\u001b[0;34m\u001b[0m\u001b[0;34m\u001b[0m\u001b[0m\n\u001b[1;32m   2861\u001b[0m         edgecolors=None, plotnonfinite=False, data=None, **kwargs):\n\u001b[0;32m-> 2862\u001b[0;31m     __ret = gca().scatter(\n\u001b[0m\u001b[1;32m   2863\u001b[0m         \u001b[0mx\u001b[0m\u001b[0;34m,\u001b[0m \u001b[0my\u001b[0m\u001b[0;34m,\u001b[0m \u001b[0ms\u001b[0m\u001b[0;34m=\u001b[0m\u001b[0ms\u001b[0m\u001b[0;34m,\u001b[0m \u001b[0mc\u001b[0m\u001b[0;34m=\u001b[0m\u001b[0mc\u001b[0m\u001b[0;34m,\u001b[0m \u001b[0mmarker\u001b[0m\u001b[0;34m=\u001b[0m\u001b[0mmarker\u001b[0m\u001b[0;34m,\u001b[0m \u001b[0mcmap\u001b[0m\u001b[0;34m=\u001b[0m\u001b[0mcmap\u001b[0m\u001b[0;34m,\u001b[0m \u001b[0mnorm\u001b[0m\u001b[0;34m=\u001b[0m\u001b[0mnorm\u001b[0m\u001b[0;34m,\u001b[0m\u001b[0;34m\u001b[0m\u001b[0;34m\u001b[0m\u001b[0m\n\u001b[1;32m   2864\u001b[0m         \u001b[0mvmin\u001b[0m\u001b[0;34m=\u001b[0m\u001b[0mvmin\u001b[0m\u001b[0;34m,\u001b[0m \u001b[0mvmax\u001b[0m\u001b[0;34m=\u001b[0m\u001b[0mvmax\u001b[0m\u001b[0;34m,\u001b[0m \u001b[0malpha\u001b[0m\u001b[0;34m=\u001b[0m\u001b[0malpha\u001b[0m\u001b[0;34m,\u001b[0m \u001b[0mlinewidths\u001b[0m\u001b[0;34m=\u001b[0m\u001b[0mlinewidths\u001b[0m\u001b[0;34m,\u001b[0m\u001b[0;34m\u001b[0m\u001b[0;34m\u001b[0m\u001b[0m\n",
            "\u001b[0;32m/usr/local/lib/python3.10/dist-packages/matplotlib/__init__.py\u001b[0m in \u001b[0;36minner\u001b[0;34m(ax, data, *args, **kwargs)\u001b[0m\n\u001b[1;32m   1440\u001b[0m     \u001b[0;32mdef\u001b[0m \u001b[0minner\u001b[0m\u001b[0;34m(\u001b[0m\u001b[0max\u001b[0m\u001b[0;34m,\u001b[0m \u001b[0;34m*\u001b[0m\u001b[0margs\u001b[0m\u001b[0;34m,\u001b[0m \u001b[0mdata\u001b[0m\u001b[0;34m=\u001b[0m\u001b[0;32mNone\u001b[0m\u001b[0;34m,\u001b[0m \u001b[0;34m**\u001b[0m\u001b[0mkwargs\u001b[0m\u001b[0;34m)\u001b[0m\u001b[0;34m:\u001b[0m\u001b[0;34m\u001b[0m\u001b[0;34m\u001b[0m\u001b[0m\n\u001b[1;32m   1441\u001b[0m         \u001b[0;32mif\u001b[0m \u001b[0mdata\u001b[0m \u001b[0;32mis\u001b[0m \u001b[0;32mNone\u001b[0m\u001b[0;34m:\u001b[0m\u001b[0;34m\u001b[0m\u001b[0;34m\u001b[0m\u001b[0m\n\u001b[0;32m-> 1442\u001b[0;31m             \u001b[0;32mreturn\u001b[0m \u001b[0mfunc\u001b[0m\u001b[0;34m(\u001b[0m\u001b[0max\u001b[0m\u001b[0;34m,\u001b[0m \u001b[0;34m*\u001b[0m\u001b[0mmap\u001b[0m\u001b[0;34m(\u001b[0m\u001b[0msanitize_sequence\u001b[0m\u001b[0;34m,\u001b[0m \u001b[0margs\u001b[0m\u001b[0;34m)\u001b[0m\u001b[0;34m,\u001b[0m \u001b[0;34m**\u001b[0m\u001b[0mkwargs\u001b[0m\u001b[0;34m)\u001b[0m\u001b[0;34m\u001b[0m\u001b[0;34m\u001b[0m\u001b[0m\n\u001b[0m\u001b[1;32m   1443\u001b[0m \u001b[0;34m\u001b[0m\u001b[0m\n\u001b[1;32m   1444\u001b[0m         \u001b[0mbound\u001b[0m \u001b[0;34m=\u001b[0m \u001b[0mnew_sig\u001b[0m\u001b[0;34m.\u001b[0m\u001b[0mbind\u001b[0m\u001b[0;34m(\u001b[0m\u001b[0max\u001b[0m\u001b[0;34m,\u001b[0m \u001b[0;34m*\u001b[0m\u001b[0margs\u001b[0m\u001b[0;34m,\u001b[0m \u001b[0;34m**\u001b[0m\u001b[0mkwargs\u001b[0m\u001b[0;34m)\u001b[0m\u001b[0;34m\u001b[0m\u001b[0;34m\u001b[0m\u001b[0m\n",
            "\u001b[0;32m/usr/local/lib/python3.10/dist-packages/matplotlib/axes/_axes.py\u001b[0m in \u001b[0;36mscatter\u001b[0;34m(self, x, y, s, c, marker, cmap, norm, vmin, vmax, alpha, linewidths, edgecolors, plotnonfinite, **kwargs)\u001b[0m\n\u001b[1;32m   4600\u001b[0m             \u001b[0morig_edgecolor\u001b[0m \u001b[0;34m=\u001b[0m \u001b[0mkwargs\u001b[0m\u001b[0;34m.\u001b[0m\u001b[0mget\u001b[0m\u001b[0;34m(\u001b[0m\u001b[0;34m'edgecolor'\u001b[0m\u001b[0;34m,\u001b[0m \u001b[0;32mNone\u001b[0m\u001b[0;34m)\u001b[0m\u001b[0;34m\u001b[0m\u001b[0;34m\u001b[0m\u001b[0m\n\u001b[1;32m   4601\u001b[0m         \u001b[0mc\u001b[0m\u001b[0;34m,\u001b[0m \u001b[0mcolors\u001b[0m\u001b[0;34m,\u001b[0m \u001b[0medgecolors\u001b[0m \u001b[0;34m=\u001b[0m\u001b[0;31m \u001b[0m\u001b[0;31m\\\u001b[0m\u001b[0;34m\u001b[0m\u001b[0;34m\u001b[0m\u001b[0m\n\u001b[0;32m-> 4602\u001b[0;31m             self._parse_scatter_color_args(\n\u001b[0m\u001b[1;32m   4603\u001b[0m                 \u001b[0mc\u001b[0m\u001b[0;34m,\u001b[0m \u001b[0medgecolors\u001b[0m\u001b[0;34m,\u001b[0m \u001b[0mkwargs\u001b[0m\u001b[0;34m,\u001b[0m \u001b[0mx\u001b[0m\u001b[0;34m.\u001b[0m\u001b[0msize\u001b[0m\u001b[0;34m,\u001b[0m\u001b[0;34m\u001b[0m\u001b[0;34m\u001b[0m\u001b[0m\n\u001b[1;32m   4604\u001b[0m                 get_next_color_func=self._get_patches_for_fill.get_next_color)\n",
            "\u001b[0;32m/usr/local/lib/python3.10/dist-packages/matplotlib/axes/_axes.py\u001b[0m in \u001b[0;36m_parse_scatter_color_args\u001b[0;34m(c, edgecolors, kwargs, xsize, get_next_color_func)\u001b[0m\n\u001b[1;32m   4443\u001b[0m                 \u001b[0;32melse\u001b[0m\u001b[0;34m:\u001b[0m\u001b[0;34m\u001b[0m\u001b[0;34m\u001b[0m\u001b[0m\n\u001b[1;32m   4444\u001b[0m                     \u001b[0;32mif\u001b[0m \u001b[0;32mnot\u001b[0m \u001b[0mvalid_shape\u001b[0m\u001b[0;34m:\u001b[0m\u001b[0;34m\u001b[0m\u001b[0;34m\u001b[0m\u001b[0m\n\u001b[0;32m-> 4445\u001b[0;31m                         \u001b[0;32mraise\u001b[0m \u001b[0minvalid_shape_exception\u001b[0m\u001b[0;34m(\u001b[0m\u001b[0mc\u001b[0m\u001b[0;34m.\u001b[0m\u001b[0msize\u001b[0m\u001b[0;34m,\u001b[0m \u001b[0mxsize\u001b[0m\u001b[0;34m)\u001b[0m \u001b[0;32mfrom\u001b[0m \u001b[0merr\u001b[0m\u001b[0;34m\u001b[0m\u001b[0;34m\u001b[0m\u001b[0m\n\u001b[0m\u001b[1;32m   4446\u001b[0m                     \u001b[0;31m# Both the mapping *and* the RGBA conversion failed: pretty\u001b[0m\u001b[0;34m\u001b[0m\u001b[0;34m\u001b[0m\u001b[0m\n\u001b[1;32m   4447\u001b[0m                     \u001b[0;31m# severe failure => one may appreciate a verbose feedback.\u001b[0m\u001b[0;34m\u001b[0m\u001b[0;34m\u001b[0m\u001b[0m\n",
            "\u001b[0;31mValueError\u001b[0m: 'c' argument has 1095 elements, which is inconsistent with 'x' and 'y' with size 14235."
          ]
        },
        {
          "output_type": "display_data",
          "data": {
            "text/plain": [
              "<Figure size 640x480 with 1 Axes>"
            ],
            "image/png": "[encoded data removed]"
          },
          "metadata": {}
        }
      ]
    }
  ]
}