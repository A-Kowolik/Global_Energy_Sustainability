{
  "nbformat": 4,
  "nbformat_minor": 0,
  "metadata": {
    "colab": {
      "provenance": []
    },
    "kernelspec": {
      "name": "python3",
      "display_name": "Python 3"
    },
    "language_info": {
      "name": "python"
    }
  },
  "cells": [
    {
      "cell_type": "markdown",
      "source": [
        "# Link to Git Hub:\n",
        "https://github.com/A-Kowolik/Global_Energy_Sustainability/tree/main"
      ],
      "metadata": {
        "id": "C1ZVlGVLVEiX"
      }
    },
    {
      "cell_type": "markdown",
      "source": [
        "Modules Used for Preliminary analysis"
      ],
      "metadata": {
        "id": "rxhejfWTVJUV"
      }
    },
    {
      "cell_type": "code",
      "execution_count": null,
      "metadata": {
        "id": "oKn-8TSnU_jE"
      },
      "outputs": [],
      "source": [
        "import numpy as np\n",
        "import pandas as pd\n",
        "from google.colab import files\n",
        "import matplotlib.pyplot as plt\n",
        "\n",
        "import statsmodels.api as sm\n",
        "from sklearn.model_selection import train_test_split\n",
        "from sklearn.tree import DecisionTreeRegressor\n",
        "from sklearn import tree\n",
        "import graphviz\n",
        "\n",
        "from sklearn import linear_model\n",
        "from sklearn.linear_model import LinearRegression\n",
        "from sklearn.metrics import r2_score"
      ]
    },
    {
      "cell_type": "markdown",
      "source": [
        "File Upload"
      ],
      "metadata": {
        "id": "oFcHSKD3WNoe"
      }
    },
    {
      "cell_type": "code",
      "source": [
        "uploaded = files.upload()"
      ],
      "metadata": {
        "colab": {
          "base_uri": "https://localhost:8080/",
          "height": 73
        },
        "id": "vYygqFacWN8m",
        "outputId": "2751a128-1270-4c19-8e43-112287ad42d4"
      },
      "execution_count": null,
      "outputs": [
        {
          "output_type": "display_data",
          "data": {
            "text/plain": [
              "<IPython.core.display.HTML object>"
            ],
            "text/html": [
              "\n",
              "     <input type=\"file\" id=\"files-847c8fea-653c-4287-b198-888429b1d605\" name=\"files[]\" multiple disabled\n",
              "        style=\"border:none\" />\n",
              "     <output id=\"result-847c8fea-653c-4287-b198-888429b1d605\">\n",
              "      Upload widget is only available when the cell has been executed in the\n",
              "      current browser session. Please rerun this cell to enable.\n",
              "      </output>\n",
              "      <script>// Copyright 2017 Google LLC\n",
              "//\n",
              "// Licensed under the Apache License, Version 2.0 (the \"License\");\n",
              "// you may not use this file except in compliance with the License.\n",
              "// You may obtain a copy of the License at\n",
              "//\n",
              "//      http://www.apache.org/licenses/LICENSE-2.0\n",
              "//\n",
              "// Unless required by applicable law or agreed to in writing, software\n",
              "// distributed under the License is distributed on an \"AS IS\" BASIS,\n",
              "// WITHOUT WARRANTIES OR CONDITIONS OF ANY KIND, either express or implied.\n",
              "// See the License for the specific language governing permissions and\n",
              "// limitations under the License.\n",
              "\n",
              "/**\n",
              " * @fileoverview Helpers for google.colab Python module.\n",
              " */\n",
              "(function(scope) {\n",
              "function span(text, styleAttributes = {}) {\n",
              "  const element = document.createElement('span');\n",
              "  element.textContent = text;\n",
              "  for (const key of Object.keys(styleAttributes)) {\n",
              "    element.style[key] = styleAttributes[key];\n",
              "  }\n",
              "  return element;\n",
              "}\n",
              "\n",
              "// Max number of bytes which will be uploaded at a time.\n",
              "const MAX_PAYLOAD_SIZE = 100 * 1024;\n",
              "\n",
              "function _uploadFiles(inputId, outputId) {\n",
              "  const steps = uploadFilesStep(inputId, outputId);\n",
              "  const outputElement = document.getElementById(outputId);\n",
              "  // Cache steps on the outputElement to make it available for the next call\n",
              "  // to uploadFilesContinue from Python.\n",
              "  outputElement.steps = steps;\n",
              "\n",
              "  return _uploadFilesContinue(outputId);\n",
              "}\n",
              "\n",
              "// This is roughly an async generator (not supported in the browser yet),\n",
              "// where there are multiple asynchronous steps and the Python side is going\n",
              "// to poll for completion of each step.\n",
              "// This uses a Promise to block the python side on completion of each step,\n",
              "// then passes the result of the previous step as the input to the next step.\n",
              "function _uploadFilesContinue(outputId) {\n",
              "  const outputElement = document.getElementById(outputId);\n",
              "  const steps = outputElement.steps;\n",
              "\n",
              "  const next = steps.next(outputElement.lastPromiseValue);\n",
              "  return Promise.resolve(next.value.promise).then((value) => {\n",
              "    // Cache the last promise value to make it available to the next\n",
              "    // step of the generator.\n",
              "    outputElement.lastPromiseValue = value;\n",
              "    return next.value.response;\n",
              "  });\n",
              "}\n",
              "\n",
              "/**\n",
              " * Generator function which is called between each async step of the upload\n",
              " * process.\n",
              " * @param {string} inputId Element ID of the input file picker element.\n",
              " * @param {string} outputId Element ID of the output display.\n",
              " * @return {!Iterable<!Object>} Iterable of next steps.\n",
              " */\n",
              "function* uploadFilesStep(inputId, outputId) {\n",
              "  const inputElement = document.getElementById(inputId);\n",
              "  inputElement.disabled = false;\n",
              "\n",
              "  const outputElement = document.getElementById(outputId);\n",
              "  outputElement.innerHTML = '';\n",
              "\n",
              "  const pickedPromise = new Promise((resolve) => {\n",
              "    inputElement.addEventListener('change', (e) => {\n",
              "      resolve(e.target.files);\n",
              "    });\n",
              "  });\n",
              "\n",
              "  const cancel = document.createElement('button');\n",
              "  inputElement.parentElement.appendChild(cancel);\n",
              "  cancel.textContent = 'Cancel upload';\n",
              "  const cancelPromise = new Promise((resolve) => {\n",
              "    cancel.onclick = () => {\n",
              "      resolve(null);\n",
              "    };\n",
              "  });\n",
              "\n",
              "  // Wait for the user to pick the files.\n",
              "  const files = yield {\n",
              "    promise: Promise.race([pickedPromise, cancelPromise]),\n",
              "    response: {\n",
              "      action: 'starting',\n",
              "    }\n",
              "  };\n",
              "\n",
              "  cancel.remove();\n",
              "\n",
              "  // Disable the input element since further picks are not allowed.\n",
              "  inputElement.disabled = true;\n",
              "\n",
              "  if (!files) {\n",
              "    return {\n",
              "      response: {\n",
              "        action: 'complete',\n",
              "      }\n",
              "    };\n",
              "  }\n",
              "\n",
              "  for (const file of files) {\n",
              "    const li = document.createElement('li');\n",
              "    li.append(span(file.name, {fontWeight: 'bold'}));\n",
              "    li.append(span(\n",
              "        `(${file.type || 'n/a'}) - ${file.size} bytes, ` +\n",
              "        `last modified: ${\n",
              "            file.lastModifiedDate ? file.lastModifiedDate.toLocaleDateString() :\n",
              "                                    'n/a'} - `));\n",
              "    const percent = span('0% done');\n",
              "    li.appendChild(percent);\n",
              "\n",
              "    outputElement.appendChild(li);\n",
              "\n",
              "    const fileDataPromise = new Promise((resolve) => {\n",
              "      const reader = new FileReader();\n",
              "      reader.onload = (e) => {\n",
              "        resolve(e.target.result);\n",
              "      };\n",
              "      reader.readAsArrayBuffer(file);\n",
              "    });\n",
              "    // Wait for the data to be ready.\n",
              "    let fileData = yield {\n",
              "      promise: fileDataPromise,\n",
              "      response: {\n",
              "        action: 'continue',\n",
              "      }\n",
              "    };\n",
              "\n",
              "    // Use a chunked sending to avoid message size limits. See b/62115660.\n",
              "    let position = 0;\n",
              "    do {\n",
              "      const length = Math.min(fileData.byteLength - position, MAX_PAYLOAD_SIZE);\n",
              "      const chunk = new Uint8Array(fileData, position, length);\n",
              "      position += length;\n",
              "\n",
              "      const base64 = btoa(String.fromCharCode.apply(null, chunk));\n",
              "      yield {\n",
              "        response: {\n",
              "          action: 'append',\n",
              "          file: file.name,\n",
              "          data: base64,\n",
              "        },\n",
              "      };\n",
              "\n",
              "      let percentDone = fileData.byteLength === 0 ?\n",
              "          100 :\n",
              "          Math.round((position / fileData.byteLength) * 100);\n",
              "      percent.textContent = `${percentDone}% done`;\n",
              "\n",
              "    } while (position < fileData.byteLength);\n",
              "  }\n",
              "\n",
              "  // All done.\n",
              "  yield {\n",
              "    response: {\n",
              "      action: 'complete',\n",
              "    }\n",
              "  };\n",
              "}\n",
              "\n",
              "scope.google = scope.google || {};\n",
              "scope.google.colab = scope.google.colab || {};\n",
              "scope.google.colab._files = {\n",
              "  _uploadFiles,\n",
              "  _uploadFilesContinue,\n",
              "};\n",
              "})(self);\n",
              "</script> "
            ]
          },
          "metadata": {}
        },
        {
          "output_type": "stream",
          "name": "stdout",
          "text": [
            "Saving global-data-on-sustainable-energy.csv to global-data-on-sustainable-energy.csv\n"
          ]
        }
      ]
    },
    {
      "cell_type": "markdown",
      "source": [
        "# Importing the dataset & Showcase"
      ],
      "metadata": {
        "id": "8uT_Dr6tVQA6"
      }
    },
    {
      "cell_type": "code",
      "source": [
        "path = '/content/global-data-on-sustainable-energy.csv'\n",
        "SustainEnergyDataCV = pd.read_csv(path)\n",
        "SustainEnergyData = pd.DataFrame(data=SustainEnergyDataCV)\n",
        "SustainEnergyData.head(5)"
      ],
      "metadata": {
        "colab": {
          "base_uri": "https://localhost:8080/",
          "height": 377
        },
        "id": "nSZS_zSOVQtM",
        "outputId": "9324f6a7-3b61-4f89-be90-c93e319434fc"
      },
      "execution_count": null,
      "outputs": [
        {
          "output_type": "execute_result",
          "data": {
            "text/plain": [
              "        Entity  Year  Access to electricity (% of population)  \\\n",
              "0  Afghanistan  2000                                 1.613591   \n",
              "1  Afghanistan  2001                                 4.074574   \n",
              "2  Afghanistan  2002                                 9.409158   \n",
              "3  Afghanistan  2003                                14.738506   \n",
              "4  Afghanistan  2004                                20.064968   \n",
              "\n",
              "   Access to clean fuels for cooking  \\\n",
              "0                                6.2   \n",
              "1                                7.2   \n",
              "2                                8.2   \n",
              "3                                9.5   \n",
              "4                               10.9   \n",
              "\n",
              "   Renewable-electricity-generating-capacity-per-capita  \\\n",
              "0                                               9.22      \n",
              "1                                               8.86      \n",
              "2                                               8.47      \n",
              "3                                               8.09      \n",
              "4                                               7.75      \n",
              "\n",
              "   Financial flows to developing countries (US $)  \\\n",
              "0                                         20000.0   \n",
              "1                                        130000.0   \n",
              "2                                       3950000.0   \n",
              "3                                      25970000.0   \n",
              "4                                             NaN   \n",
              "\n",
              "   Renewable energy share in the total final energy consumption (%)  \\\n",
              "0                                              44.99                  \n",
              "1                                              45.60                  \n",
              "2                                              37.83                  \n",
              "3                                              36.66                  \n",
              "4                                              44.24                  \n",
              "\n",
              "   Electricity from fossil fuels (TWh)  Electricity from nuclear (TWh)  \\\n",
              "0                                 0.16                             0.0   \n",
              "1                                 0.09                             0.0   \n",
              "2                                 0.13                             0.0   \n",
              "3                                 0.31                             0.0   \n",
              "4                                 0.33                             0.0   \n",
              "\n",
              "   Electricity from renewables (TWh)  ...  \\\n",
              "0                               0.31  ...   \n",
              "1                               0.50  ...   \n",
              "2                               0.56  ...   \n",
              "3                               0.63  ...   \n",
              "4                               0.56  ...   \n",
              "\n",
              "   Primary energy consumption per capita (kWh/person)  \\\n",
              "0                                          302.59482    \n",
              "1                                          236.89185    \n",
              "2                                          210.86215    \n",
              "3                                          229.96822    \n",
              "4                                          204.23125    \n",
              "\n",
              "   Energy intensity level of primary energy (MJ/$2017 PPP GDP)  \\\n",
              "0                                               1.64             \n",
              "1                                               1.74             \n",
              "2                                               1.40             \n",
              "3                                               1.40             \n",
              "4                                               1.20             \n",
              "\n",
              "   Value_co2_emissions_kt_by_country  \\\n",
              "0                         760.000000   \n",
              "1                         730.000000   \n",
              "2                        1029.999971   \n",
              "3                        1220.000029   \n",
              "4                        1029.999971   \n",
              "\n",
              "   Renewables (% equivalent primary energy)  gdp_growth  gdp_per_capita  \\\n",
              "0                                       NaN         NaN             NaN   \n",
              "1                                       NaN         NaN             NaN   \n",
              "2                                       NaN         NaN      179.426579   \n",
              "3                                       NaN    8.832278      190.683814   \n",
              "4                                       NaN    1.414118      211.382074   \n",
              "\n",
              "   Density\\n(P/Km2) Land Area(Km2)  Latitude  Longitude  \n",
              "0                60       652230.0  33.93911  67.709953  \n",
              "1                60       652230.0  33.93911  67.709953  \n",
              "2                60       652230.0  33.93911  67.709953  \n",
              "3                60       652230.0  33.93911  67.709953  \n",
              "4                60       652230.0  33.93911  67.709953  \n",
              "\n",
              "[5 rows x 21 columns]"
            ],
            "text/html": [
              "\n",
              "  <div id=\"df-7b032253-cb9b-47b2-b5db-5022c37dc243\" class=\"colab-df-container\">\n",
              "    <div>\n",
              "<style scoped>\n",
              "    .dataframe tbody tr th:only-of-type {\n",
              "        vertical-align: middle;\n",
              "    }\n",
              "\n",
              "    .dataframe tbody tr th {\n",
              "        vertical-align: top;\n",
              "    }\n",
              "\n",
              "    .dataframe thead th {\n",
              "        text-align: right;\n",
              "    }\n",
              "</style>\n",
              "<table border=\"1\" class=\"dataframe\">\n",
              "  <thead>\n",
              "    <tr style=\"text-align: right;\">\n",
              "      <th></th>\n",
              "      <th>Entity</th>\n",
              "      <th>Year</th>\n",
              "      <th>Access to electricity (% of population)</th>\n",
              "      <th>Access to clean fuels for cooking</th>\n",
              "      <th>Renewable-electricity-generating-capacity-per-capita</th>\n",
              "      <th>Financial flows to developing countries (US $)</th>\n",
              "      <th>Renewable energy share in the total final energy consumption (%)</th>\n",
              "      <th>Electricity from fossil fuels (TWh)</th>\n",
              "      <th>Electricity from nuclear (TWh)</th>\n",
              "      <th>Electricity from renewables (TWh)</th>\n",
              "      <th>...</th>\n",
              "      <th>Primary energy consumption per capita (kWh/person)</th>\n",
              "      <th>Energy intensity level of primary energy (MJ/$2017 PPP GDP)</th>\n",
              "      <th>Value_co2_emissions_kt_by_country</th>\n",
              "      <th>Renewables (% equivalent primary energy)</th>\n",
              "      <th>gdp_growth</th>\n",
              "      <th>gdp_per_capita</th>\n",
              "      <th>Density\\n(P/Km2)</th>\n",
              "      <th>Land Area(Km2)</th>\n",
              "      <th>Latitude</th>\n",
              "      <th>Longitude</th>\n",
              "    </tr>\n",
              "  </thead>\n",
              "  <tbody>\n",
              "    <tr>\n",
              "      <th>0</th>\n",
              "      <td>Afghanistan</td>\n",
              "      <td>2000</td>\n",
              "      <td>1.613591</td>\n",
              "      <td>6.2</td>\n",
              "      <td>9.22</td>\n",
              "      <td>20000.0</td>\n",
              "      <td>44.99</td>\n",
              "      <td>0.16</td>\n",
              "      <td>0.0</td>\n",
              "      <td>0.31</td>\n",
              "      <td>...</td>\n",
              "      <td>302.59482</td>\n",
              "      <td>1.64</td>\n",
              "      <td>760.000000</td>\n",
              "      <td>NaN</td>\n",
              "      <td>NaN</td>\n",
              "      <td>NaN</td>\n",
              "      <td>60</td>\n",
              "      <td>652230.0</td>\n",
              "      <td>33.93911</td>\n",
              "      <td>67.709953</td>\n",
              "    </tr>\n",
              "    <tr>\n",
              "      <th>1</th>\n",
              "      <td>Afghanistan</td>\n",
              "      <td>2001</td>\n",
              "      <td>4.074574</td>\n",
              "      <td>7.2</td>\n",
              "      <td>8.86</td>\n",
              "      <td>130000.0</td>\n",
              "      <td>45.60</td>\n",
              "      <td>0.09</td>\n",
              "      <td>0.0</td>\n",
              "      <td>0.50</td>\n",
              "      <td>...</td>\n",
              "      <td>236.89185</td>\n",
              "      <td>1.74</td>\n",
              "      <td>730.000000</td>\n",
              "      <td>NaN</td>\n",
              "      <td>NaN</td>\n",
              "      <td>NaN</td>\n",
              "      <td>60</td>\n",
              "      <td>652230.0</td>\n",
              "      <td>33.93911</td>\n",
              "      <td>67.709953</td>\n",
              "    </tr>\n",
              "    <tr>\n",
              "      <th>2</th>\n",
              "      <td>Afghanistan</td>\n",
              "      <td>2002</td>\n",
              "      <td>9.409158</td>\n",
              "      <td>8.2</td>\n",
              "      <td>8.47</td>\n",
              "      <td>3950000.0</td>\n",
              "      <td>37.83</td>\n",
              "      <td>0.13</td>\n",
              "      <td>0.0</td>\n",
              "      <td>0.56</td>\n",
              "      <td>...</td>\n",
              "      <td>210.86215</td>\n",
              "      <td>1.40</td>\n",
              "      <td>1029.999971</td>\n",
              "      <td>NaN</td>\n",
              "      <td>NaN</td>\n",
              "      <td>179.426579</td>\n",
              "      <td>60</td>\n",
              "      <td>652230.0</td>\n",
              "      <td>33.93911</td>\n",
              "      <td>67.709953</td>\n",
              "    </tr>\n",
              "    <tr>\n",
              "      <th>3</th>\n",
              "      <td>Afghanistan</td>\n",
              "      <td>2003</td>\n",
              "      <td>14.738506</td>\n",
              "      <td>9.5</td>\n",
              "      <td>8.09</td>\n",
              "      <td>25970000.0</td>\n",
              "      <td>36.66</td>\n",
              "      <td>0.31</td>\n",
              "      <td>0.0</td>\n",
              "      <td>0.63</td>\n",
              "      <td>...</td>\n",
              "      <td>229.96822</td>\n",
              "      <td>1.40</td>\n",
              "      <td>1220.000029</td>\n",
              "      <td>NaN</td>\n",
              "      <td>8.832278</td>\n",
              "      <td>190.683814</td>\n",
              "      <td>60</td>\n",
              "      <td>652230.0</td>\n",
              "      <td>33.93911</td>\n",
              "      <td>67.709953</td>\n",
              "    </tr>\n",
              "    <tr>\n",
              "      <th>4</th>\n",
              "      <td>Afghanistan</td>\n",
              "      <td>2004</td>\n",
              "      <td>20.064968</td>\n",
              "      <td>10.9</td>\n",
              "      <td>7.75</td>\n",
              "      <td>NaN</td>\n",
              "      <td>44.24</td>\n",
              "      <td>0.33</td>\n",
              "      <td>0.0</td>\n",
              "      <td>0.56</td>\n",
              "      <td>...</td>\n",
              "      <td>204.23125</td>\n",
              "      <td>1.20</td>\n",
              "      <td>1029.999971</td>\n",
              "      <td>NaN</td>\n",
              "      <td>1.414118</td>\n",
              "      <td>211.382074</td>\n",
              "      <td>60</td>\n",
              "      <td>652230.0</td>\n",
              "      <td>33.93911</td>\n",
              "      <td>67.709953</td>\n",
              "    </tr>\n",
              "  </tbody>\n",
              "</table>\n",
              "<p>5 rows × 21 columns</p>\n",
              "</div>\n",
              "    <div class=\"colab-df-buttons\">\n",
              "\n",
              "  <div class=\"colab-df-container\">\n",
              "    <button class=\"colab-df-convert\" onclick=\"convertToInteractive('df-7b032253-cb9b-47b2-b5db-5022c37dc243')\"\n",
              "            title=\"Convert this dataframe to an interactive table.\"\n",
              "            style=\"display:none;\">\n",
              "\n",
              "  <svg xmlns=\"http://www.w3.org/2000/svg\" height=\"24px\" viewBox=\"0 -960 960 960\">\n",
              "    <path d=\"M120-120v-720h720v720H120Zm60-500h600v-160H180v160Zm220 220h160v-160H400v160Zm0 220h160v-160H400v160ZM180-400h160v-160H180v160Zm440 0h160v-160H620v160ZM180-180h160v-160H180v160Zm440 0h160v-160H620v160Z\"/>\n",
              "  </svg>\n",
              "    </button>\n",
              "\n",
              "  <style>\n",
              "    .colab-df-container {\n",
              "      display:flex;\n",
              "      gap: 12px;\n",
              "    }\n",
              "\n",
              "    .colab-df-convert {\n",
              "      background-color: #E8F0FE;\n",
              "      border: none;\n",
              "      border-radius: 50%;\n",
              "      cursor: pointer;\n",
              "      display: none;\n",
              "      fill: #1967D2;\n",
              "      height: 32px;\n",
              "      padding: 0 0 0 0;\n",
              "      width: 32px;\n",
              "    }\n",
              "\n",
              "    .colab-df-convert:hover {\n",
              "      background-color: #E2EBFA;\n",
              "      box-shadow: 0px 1px 2px rgba(60, 64, 67, 0.3), 0px 1px 3px 1px rgba(60, 64, 67, 0.15);\n",
              "      fill: #174EA6;\n",
              "    }\n",
              "\n",
              "    .colab-df-buttons div {\n",
              "      margin-bottom: 4px;\n",
              "    }\n",
              "\n",
              "    [theme=dark] .colab-df-convert {\n",
              "      background-color: #3B4455;\n",
              "      fill: #D2E3FC;\n",
              "    }\n",
              "\n",
              "    [theme=dark] .colab-df-convert:hover {\n",
              "      background-color: #434B5C;\n",
              "      box-shadow: 0px 1px 3px 1px rgba(0, 0, 0, 0.15);\n",
              "      filter: drop-shadow(0px 1px 2px rgba(0, 0, 0, 0.3));\n",
              "      fill: #FFFFFF;\n",
              "    }\n",
              "  </style>\n",
              "\n",
              "    <script>\n",
              "      const buttonEl =\n",
              "        document.querySelector('#df-7b032253-cb9b-47b2-b5db-5022c37dc243 button.colab-df-convert');\n",
              "      buttonEl.style.display =\n",
              "        google.colab.kernel.accessAllowed ? 'block' : 'none';\n",
              "\n",
              "      async function convertToInteractive(key) {\n",
              "        const element = document.querySelector('#df-7b032253-cb9b-47b2-b5db-5022c37dc243');\n",
              "        const dataTable =\n",
              "          await google.colab.kernel.invokeFunction('convertToInteractive',\n",
              "                                                    [key], {});\n",
              "        if (!dataTable) return;\n",
              "\n",
              "        const docLinkHtml = 'Like what you see? Visit the ' +\n",
              "          '<a target=\"_blank\" href=https://colab.research.google.com/notebooks/data_table.ipynb>data table notebook</a>'\n",
              "          + ' to learn more about interactive tables.';\n",
              "        element.innerHTML = '';\n",
              "        dataTable['output_type'] = 'display_data';\n",
              "        await google.colab.output.renderOutput(dataTable, element);\n",
              "        const docLink = document.createElement('div');\n",
              "        docLink.innerHTML = docLinkHtml;\n",
              "        element.appendChild(docLink);\n",
              "      }\n",
              "    </script>\n",
              "  </div>\n",
              "\n",
              "\n",
              "<div id=\"df-7e430a13-f583-4122-b7a6-633fd2839963\">\n",
              "  <button class=\"colab-df-quickchart\" onclick=\"quickchart('df-7e430a13-f583-4122-b7a6-633fd2839963')\"\n",
              "            title=\"Suggest charts\"\n",
              "            style=\"display:none;\">\n",
              "\n",
              "<svg xmlns=\"http://www.w3.org/2000/svg\" height=\"24px\"viewBox=\"0 0 24 24\"\n",
              "     width=\"24px\">\n",
              "    <g>\n",
              "        <path d=\"M19 3H5c-1.1 0-2 .9-2 2v14c0 1.1.9 2 2 2h14c1.1 0 2-.9 2-2V5c0-1.1-.9-2-2-2zM9 17H7v-7h2v7zm4 0h-2V7h2v10zm4 0h-2v-4h2v4z\"/>\n",
              "    </g>\n",
              "</svg>\n",
              "  </button>\n",
              "\n",
              "<style>\n",
              "  .colab-df-quickchart {\n",
              "      --bg-color: #E8F0FE;\n",
              "      --fill-color: #1967D2;\n",
              "      --hover-bg-color: #E2EBFA;\n",
              "      --hover-fill-color: #174EA6;\n",
              "      --disabled-fill-color: #AAA;\n",
              "      --disabled-bg-color: #DDD;\n",
              "  }\n",
              "\n",
              "  [theme=dark] .colab-df-quickchart {\n",
              "      --bg-color: #3B4455;\n",
              "      --fill-color: #D2E3FC;\n",
              "      --hover-bg-color: #434B5C;\n",
              "      --hover-fill-color: #FFFFFF;\n",
              "      --disabled-bg-color: #3B4455;\n",
              "      --disabled-fill-color: #666;\n",
              "  }\n",
              "\n",
              "  .colab-df-quickchart {\n",
              "    background-color: var(--bg-color);\n",
              "    border: none;\n",
              "    border-radius: 50%;\n",
              "    cursor: pointer;\n",
              "    display: none;\n",
              "    fill: var(--fill-color);\n",
              "    height: 32px;\n",
              "    padding: 0;\n",
              "    width: 32px;\n",
              "  }\n",
              "\n",
              "  .colab-df-quickchart:hover {\n",
              "    background-color: var(--hover-bg-color);\n",
              "    box-shadow: 0 1px 2px rgba(60, 64, 67, 0.3), 0 1px 3px 1px rgba(60, 64, 67, 0.15);\n",
              "    fill: var(--button-hover-fill-color);\n",
              "  }\n",
              "\n",
              "  .colab-df-quickchart-complete:disabled,\n",
              "  .colab-df-quickchart-complete:disabled:hover {\n",
              "    background-color: var(--disabled-bg-color);\n",
              "    fill: var(--disabled-fill-color);\n",
              "    box-shadow: none;\n",
              "  }\n",
              "\n",
              "  .colab-df-spinner {\n",
              "    border: 2px solid var(--fill-color);\n",
              "    border-color: transparent;\n",
              "    border-bottom-color: var(--fill-color);\n",
              "    animation:\n",
              "      spin 1s steps(1) infinite;\n",
              "  }\n",
              "\n",
              "  @keyframes spin {\n",
              "    0% {\n",
              "      border-color: transparent;\n",
              "      border-bottom-color: var(--fill-color);\n",
              "      border-left-color: var(--fill-color);\n",
              "    }\n",
              "    20% {\n",
              "      border-color: transparent;\n",
              "      border-left-color: var(--fill-color);\n",
              "      border-top-color: var(--fill-color);\n",
              "    }\n",
              "    30% {\n",
              "      border-color: transparent;\n",
              "      border-left-color: var(--fill-color);\n",
              "      border-top-color: var(--fill-color);\n",
              "      border-right-color: var(--fill-color);\n",
              "    }\n",
              "    40% {\n",
              "      border-color: transparent;\n",
              "      border-right-color: var(--fill-color);\n",
              "      border-top-color: var(--fill-color);\n",
              "    }\n",
              "    60% {\n",
              "      border-color: transparent;\n",
              "      border-right-color: var(--fill-color);\n",
              "    }\n",
              "    80% {\n",
              "      border-color: transparent;\n",
              "      border-right-color: var(--fill-color);\n",
              "      border-bottom-color: var(--fill-color);\n",
              "    }\n",
              "    90% {\n",
              "      border-color: transparent;\n",
              "      border-bottom-color: var(--fill-color);\n",
              "    }\n",
              "  }\n",
              "</style>\n",
              "\n",
              "  <script>\n",
              "    async function quickchart(key) {\n",
              "      const quickchartButtonEl =\n",
              "        document.querySelector('#' + key + ' button');\n",
              "      quickchartButtonEl.disabled = true;  // To prevent multiple clicks.\n",
              "      quickchartButtonEl.classList.add('colab-df-spinner');\n",
              "      try {\n",
              "        const charts = await google.colab.kernel.invokeFunction(\n",
              "            'suggestCharts', [key], {});\n",
              "      } catch (error) {\n",
              "        console.error('Error during call to suggestCharts:', error);\n",
              "      }\n",
              "      quickchartButtonEl.classList.remove('colab-df-spinner');\n",
              "      quickchartButtonEl.classList.add('colab-df-quickchart-complete');\n",
              "    }\n",
              "    (() => {\n",
              "      let quickchartButtonEl =\n",
              "        document.querySelector('#df-7e430a13-f583-4122-b7a6-633fd2839963 button');\n",
              "      quickchartButtonEl.style.display =\n",
              "        google.colab.kernel.accessAllowed ? 'block' : 'none';\n",
              "    })();\n",
              "  </script>\n",
              "</div>\n",
              "    </div>\n",
              "  </div>\n"
            ]
          },
          "metadata": {},
          "execution_count": 20
        }
      ]
    },
    {
      "cell_type": "markdown",
      "source": [
        "# Cleaning Data"
      ],
      "metadata": {
        "id": "IUVdsX7oVYBh"
      }
    },
    {
      "cell_type": "markdown",
      "source": [
        "Column Rename"
      ],
      "metadata": {
        "id": "8fqBOlqxVbIS"
      }
    },
    {
      "cell_type": "code",
      "source": [
        "SustainEnergyData = SustainEnergyData.rename(columns = {\"Density\\\\n(P/Km2)\":\"Density\",\n",
        "                                                        \"Value_co2_emissions_kt_by_country\":\"CO2_Emissions(kT)\",\n",
        "                                                        \"Financial flows to developing countries (US $)\":\"Financial_flow_developing_countries\",\n",
        "                                                        \"Renewables (% equivalent primary energy)\": \"Renewables_%\", \"Land Area(Km2)\":\"Land_Area\",\n",
        "                                                        \"Access to clean fuels for cooking\": \"Access_Clean_Fuels_for_Cooking\", \"Renewable-electricity-generating-capacity-per-capita\":\"Renewable_Electricity_Generating_Capacity_per_Capita\",\n",
        "                                                        \"Renewable energy share in the total final energy consumption (%)\":\"Renewable_Energy_Share_in_Total_Final_Energy_Consumption_%\",\n",
        "                                                        \"Electricity from fossil fuels (TWh)\": \"Electricity_from_Fossil_Fuels_(TWh)\", \"Electricity from nuclear (TWh)\":\"Electricity_from_Nuclear(TWh)\",\n",
        "                                                        \"Electricity from renewables (TWh)\": \"Electricity_from_Renewables(TWh)\", \"Low-carbon electricity (% electricity)\":\"Low-carbon_Electricity\",\n",
        "                                                        \"Energy intensity level of primary energy (MJ/$2017 PPP GDP)\":\"Energy_Intensity_Levels_of_Primary_Energy\"})"
      ],
      "metadata": {
        "id": "VJPy14T0VYrc"
      },
      "execution_count": null,
      "outputs": []
    },
    {
      "cell_type": "code",
      "source": [
        "for col in SustainEnergyData:\n",
        "  print(col)"
      ],
      "metadata": {
        "colab": {
          "base_uri": "https://localhost:8080/"
        },
        "id": "NgS8vJJoVhYd",
        "outputId": "e5ae44e2-722f-4be7-cbee-15119a036337"
      },
      "execution_count": null,
      "outputs": [
        {
          "output_type": "stream",
          "name": "stdout",
          "text": [
            "Entity\n",
            "Year\n",
            "Access to electricity (% of population)\n",
            "Access_Clean_Fuels_for_Cooking\n",
            "Renewable_Electricity_Generating_Capacity_per_Capita\n",
            "Financial_flow_developing_countries\n",
            "Renewable_Energy_Share_in_Total_Final_Energy_Consumption_%\n",
            "Electricity_from_Fossil_Fuels_(TWh)\n",
            "Electricity_from_Nuclear(TWh)\n",
            "Electricity_from_Renewables(TWh)\n",
            "Low-carbon_Electricity\n",
            "Primary energy consumption per capita (kWh/person)\n",
            "Energy_Intensity_Levels_of_Primary_Energy\n",
            "CO2_Emissions(kT)\n",
            "Renewables_%\n",
            "gdp_growth\n",
            "gdp_per_capita\n",
            "Density\n",
            "Land_Area\n",
            "Latitude\n",
            "Longitude\n"
          ]
        }
      ]
    },
    {
      "cell_type": "markdown",
      "source": [
        "Dropping Columns"
      ],
      "metadata": {
        "id": "pWQp0P8mVnI3"
      }
    },
    {
      "cell_type": "code",
      "source": [
        "#removal of these columns are because they do not have bearing on the questions or in the case of\n",
        "#Financial Flow Developing Countries, Renewable (% equivalent primary energy) they have over half of the data missing\n",
        "SustainEnergyData = SustainEnergyData.drop(['Entity','Year','Density','Latitude', 'Longitude', \"Land_Area\", \"Renewables_%\", \"Financial_flow_developing_countries\"], axis=1)"
      ],
      "metadata": {
        "id": "vu9CAg3HVnnn"
      },
      "execution_count": null,
      "outputs": []
    },
    {
      "cell_type": "code",
      "source": [
        "for col in SustainEnergyData:\n",
        "  print(col)"
      ],
      "metadata": {
        "colab": {
          "base_uri": "https://localhost:8080/"
        },
        "id": "-NcwSSSVVtWB",
        "outputId": "90fbf6f1-9fc4-49fa-cb05-96c63237c6ff"
      },
      "execution_count": null,
      "outputs": [
        {
          "output_type": "stream",
          "name": "stdout",
          "text": [
            "Access to electricity (% of population)\n",
            "Access_Clean_Fuels_for_Cooking\n",
            "Renewable_Electricity_Generating_Capacity_per_Capita\n",
            "Renewable_Energy_Share_in_Total_Final_Energy_Consumption_%\n",
            "Electricity_from_Fossil_Fuels_(TWh)\n",
            "Electricity_from_Nuclear(TWh)\n",
            "Electricity_from_Renewables(TWh)\n",
            "Low-carbon_Electricity\n",
            "Primary energy consumption per capita (kWh/person)\n",
            "Energy_Intensity_Levels_of_Primary_Energy\n",
            "CO2_Emissions(kT)\n",
            "gdp_growth\n",
            "gdp_per_capita\n"
          ]
        }
      ]
    },
    {
      "cell_type": "markdown",
      "source": [
        "Replacing NAs with Zeros"
      ],
      "metadata": {
        "id": "UkDlrywLVuAQ"
      }
    },
    {
      "cell_type": "code",
      "source": [
        "#Settign the NAs to Zeros since majority of columns have some missing data\n",
        "Cleaned_SustainEnergyData = SustainEnergyData.fillna(0)"
      ],
      "metadata": {
        "id": "rbAUACM9VuSD"
      },
      "execution_count": null,
      "outputs": []
    },
    {
      "cell_type": "code",
      "source": [
        "Cleaned_SustainEnergyData.isnull().sum()"
      ],
      "metadata": {
        "colab": {
          "base_uri": "https://localhost:8080/"
        },
        "id": "Qxs8NL-1Vz8R",
        "outputId": "af09e824-713f-4871-e378-45d2e9652c66"
      },
      "execution_count": null,
      "outputs": [
        {
          "output_type": "execute_result",
          "data": {
            "text/plain": [
              "Access to electricity (% of population)                       0\n",
              "Access_Clean_Fuels_for_Cooking                                0\n",
              "Renewable_Electricity_Generating_Capacity_per_Capita          0\n",
              "Renewable_Energy_Share_in_Total_Final_Energy_Consumption_%    0\n",
              "Electricity_from_Fossil_Fuels_(TWh)                           0\n",
              "Electricity_from_Nuclear(TWh)                                 0\n",
              "Electricity_from_Renewables(TWh)                              0\n",
              "Low-carbon_Electricity                                        0\n",
              "Primary energy consumption per capita (kWh/person)            0\n",
              "Energy_Intensity_Levels_of_Primary_Energy                     0\n",
              "CO2_Emissions(kT)                                             0\n",
              "gdp_growth                                                    0\n",
              "gdp_per_capita                                                0\n",
              "dtype: int64"
            ]
          },
          "metadata": {},
          "execution_count": 10
        }
      ]
    },
    {
      "cell_type": "code",
      "source": [
        "Cleaned_SustainEnergyData[\"CO2_Emissions(kT)\"] = Cleaned_SustainEnergyData[\"CO2_Emissions(kT)\"].astype(float).astype(int)"
      ],
      "metadata": {
        "id": "U-H0HgvLV1Y0"
      },
      "execution_count": null,
      "outputs": []
    },
    {
      "cell_type": "markdown",
      "source": [
        "# Stepwise Regression"
      ],
      "metadata": {
        "id": "ptZjVutBV3oD"
      }
    },
    {
      "cell_type": "code",
      "source": [
        "y_col = \"CO2_Emissions(kT)\"\n",
        "x_col = Cleaned_SustainEnergyData.columns[Cleaned_SustainEnergyData.columns != \"CO2_Emissions(kT)\"]\n",
        "\n",
        "def get_stats():\n",
        "  x= Cleaned_SustainEnergyData[x_col]\n",
        "  y= Cleaned_SustainEnergyData[y_col]\n",
        "  results = sm.OLS(y, x).fit()\n",
        "  print(results.summary())\n",
        "get_stats()"
      ],
      "metadata": {
        "colab": {
          "base_uri": "https://localhost:8080/"
        },
        "id": "zDByhS3_V6Mw",
        "outputId": "0525f9e5-5164-4940-a5b6-bc498cfb7585"
      },
      "execution_count": null,
      "outputs": [
        {
          "output_type": "stream",
          "name": "stdout",
          "text": [
            "                                 OLS Regression Results                                \n",
            "=======================================================================================\n",
            "Dep. Variable:      CO2_Emissions(kT)   R-squared (uncentered):                   0.907\n",
            "Model:                            OLS   Adj. R-squared (uncentered):              0.907\n",
            "Method:                 Least Squares   F-statistic:                              2957.\n",
            "Date:                Sat, 25 Nov 2023   Prob (F-statistic):                        0.00\n",
            "Time:                        18:04:09   Log-Likelihood:                         -50168.\n",
            "No. Observations:                3649   AIC:                                  1.004e+05\n",
            "Df Residuals:                    3637   BIC:                                  1.004e+05\n",
            "Df Model:                          12                                                  \n",
            "Covariance Type:            nonrobust                                                  \n",
            "==============================================================================================================================\n",
            "                                                                 coef    std err          t      P>|t|      [0.025      0.975]\n",
            "------------------------------------------------------------------------------------------------------------------------------\n",
            "Access to electricity (% of population)                      -97.2532    142.795     -0.681      0.496    -377.219     182.712\n",
            "Access_Clean_Fuels_for_Cooking                              -298.8447    153.371     -1.949      0.051    -599.547       1.858\n",
            "Renewable_Electricity_Generating_Capacity_per_Capita         -32.5423     19.250     -1.690      0.091     -70.285       5.200\n",
            "Renewable_Energy_Share_in_Total_Final_Energy_Consumption_%  -770.4202    168.265     -4.579      0.000   -1100.322    -440.518\n",
            "Electricity_from_Fossil_Fuels_(TWh)                         2206.3970     24.925     88.521      0.000    2157.528    2255.266\n",
            "Electricity_from_Nuclear(TWh)                               -631.1361     73.320     -8.608      0.000    -774.888    -487.384\n",
            "Electricity_from_Renewables(TWh)                            -529.8335     72.158     -7.343      0.000    -671.308    -388.359\n",
            "Low-carbon_Electricity                                       859.2576    141.455      6.074      0.000     581.919    1136.596\n",
            "Primary energy consumption per capita (kWh/person)            -0.0483      0.170     -0.284      0.776      -0.382       0.285\n",
            "Energy_Intensity_Levels_of_Primary_Energy                   5065.2889   1192.212      4.249      0.000    2727.818    7402.760\n",
            "gdp_growth                                                  2005.2895    698.186      2.872      0.004     636.415    3374.164\n",
            "gdp_per_capita                                                 0.1273      0.287      0.443      0.658      -0.436       0.691\n",
            "==============================================================================\n",
            "Omnibus:                     8943.859   Durbin-Watson:                   1.498\n",
            "Prob(Omnibus):                  0.000   Jarque-Bera (JB):        185613130.062\n",
            "Skew:                         -25.251   Prob(JB):                         0.00\n",
            "Kurtosis:                    1106.745   Cond. No.                     1.50e+04\n",
            "==============================================================================\n",
            "\n",
            "Notes:\n",
            "[1] R² is computed without centering (uncentered) since the model does not contain a constant.\n",
            "[2] Standard Errors assume that the covariance matrix of the errors is correctly specified.\n",
            "[3] The condition number is large, 1.5e+04. This might indicate that there are\n",
            "strong multicollinearity or other numerical problems.\n"
          ]
        }
      ]
    },
    {
      "cell_type": "markdown",
      "source": [
        "Dropping GDP Growth, Access to Clean Fuels for Cooking Column"
      ],
      "metadata": {
        "id": "KEJAoPcpXqqP"
      }
    },
    {
      "cell_type": "code",
      "source": [
        "Cleaned_SustainEnergyData = Cleaned_SustainEnergyData.drop(['gdp_growth'], axis=1)"
      ],
      "metadata": {
        "id": "Tk03WKVkXq-H"
      },
      "execution_count": null,
      "outputs": []
    },
    {
      "cell_type": "markdown",
      "source": [
        "Iteration of Stepwise Regression  "
      ],
      "metadata": {
        "id": "lbQzcb_lZZHe"
      }
    },
    {
      "cell_type": "code",
      "source": [
        "y_col = \"CO2_Emissions(kT)\"\n",
        "x_col = Cleaned_SustainEnergyData.columns[Cleaned_SustainEnergyData.columns != \"CO2_Emissions(kT)\"]\n",
        "def get_stats():\n",
        "  x= Cleaned_SustainEnergyData[x_col]\n",
        "  y= Cleaned_SustainEnergyData[y_col]\n",
        "  results = sm.OLS(y, x).fit()\n",
        "  print(results.summary())\n",
        "get_stats()"
      ],
      "metadata": {
        "colab": {
          "base_uri": "https://localhost:8080/"
        },
        "id": "xfudKkJ2ZZje",
        "outputId": "6193fcdd-c82c-40c0-8129-ead000891dff"
      },
      "execution_count": null,
      "outputs": [
        {
          "output_type": "stream",
          "name": "stdout",
          "text": [
            "                                 OLS Regression Results                                \n",
            "=======================================================================================\n",
            "Dep. Variable:      CO2_Emissions(kT)   R-squared (uncentered):                   0.907\n",
            "Model:                            OLS   Adj. R-squared (uncentered):              0.907\n",
            "Method:                 Least Squares   F-statistic:                              3219.\n",
            "Date:                Sat, 25 Nov 2023   Prob (F-statistic):                        0.00\n",
            "Time:                        18:04:12   Log-Likelihood:                         -50172.\n",
            "No. Observations:                3649   AIC:                                  1.004e+05\n",
            "Df Residuals:                    3638   BIC:                                  1.004e+05\n",
            "Df Model:                          11                                                  \n",
            "Covariance Type:            nonrobust                                                  \n",
            "==============================================================================================================================\n",
            "                                                                 coef    std err          t      P>|t|      [0.025      0.975]\n",
            "------------------------------------------------------------------------------------------------------------------------------\n",
            "Access to electricity (% of population)                      -60.3916    142.358     -0.424      0.671    -339.502     218.718\n",
            "Access_Clean_Fuels_for_Cooking                              -303.6227    153.515     -1.978      0.048    -604.607      -2.639\n",
            "Renewable_Electricity_Generating_Capacity_per_Capita         -32.6196     19.270     -1.693      0.091     -70.400       5.161\n",
            "Renewable_Energy_Share_in_Total_Final_Energy_Consumption_%  -697.5829    166.508     -4.189      0.000   -1024.041    -371.124\n",
            "Electricity_from_Fossil_Fuels_(TWh)                         2211.3117     24.891     88.839      0.000    2162.510    2260.114\n",
            "Electricity_from_Nuclear(TWh)                               -643.3520     73.269     -8.781      0.000    -787.005    -499.699\n",
            "Electricity_from_Renewables(TWh)                            -537.6348     72.179     -7.449      0.000    -679.150    -396.120\n",
            "Low-carbon_Electricity                                       848.7867    141.548      5.996      0.000     571.265    1126.309\n",
            "Primary energy consumption per capita (kWh/person)            -0.0324      0.170     -0.190      0.849      -0.366       0.301\n",
            "Energy_Intensity_Levels_of_Primary_Energy                   5435.3280   1186.411      4.581      0.000    3109.232    7761.424\n",
            "gdp_per_capita                                                 0.0892      0.287      0.310      0.756      -0.474       0.653\n",
            "==============================================================================\n",
            "Omnibus:                     8935.212   Durbin-Watson:                   1.497\n",
            "Prob(Omnibus):                  0.000   Jarque-Bera (JB):        184372064.309\n",
            "Skew:                         -25.190   Prob(JB):                         0.00\n",
            "Kurtosis:                    1103.047   Cond. No.                     1.49e+04\n",
            "==============================================================================\n",
            "\n",
            "Notes:\n",
            "[1] R² is computed without centering (uncentered) since the model does not contain a constant.\n",
            "[2] Standard Errors assume that the covariance matrix of the errors is correctly specified.\n",
            "[3] The condition number is large, 1.49e+04. This might indicate that there are\n",
            "strong multicollinearity or other numerical problems.\n"
          ]
        }
      ]
    },
    {
      "cell_type": "code",
      "source": [
        "Cleaned_SustainEnergyData = Cleaned_SustainEnergyData.drop(['Access_Clean_Fuels_for_Cooking'], axis=1)"
      ],
      "metadata": {
        "id": "XK3fFHb8awsp"
      },
      "execution_count": null,
      "outputs": []
    },
    {
      "cell_type": "code",
      "source": [
        "y_col = \"CO2_Emissions(kT)\"\n",
        "x_col = Cleaned_SustainEnergyData.columns[Cleaned_SustainEnergyData.columns != \"CO2_Emissions(kT)\"]\n",
        "def get_stats():\n",
        "  x= Cleaned_SustainEnergyData[x_col]\n",
        "  y= Cleaned_SustainEnergyData[y_col]\n",
        "  results = sm.OLS(y, x).fit()\n",
        "  print(results.summary())\n",
        "get_stats()"
      ],
      "metadata": {
        "colab": {
          "base_uri": "https://localhost:8080/"
        },
        "id": "IjExf6rqazho",
        "outputId": "3caaf089-4f0c-4ca2-99e5-a880c2a80695"
      },
      "execution_count": null,
      "outputs": [
        {
          "output_type": "stream",
          "name": "stdout",
          "text": [
            "                                 OLS Regression Results                                \n",
            "=======================================================================================\n",
            "Dep. Variable:      CO2_Emissions(kT)   R-squared (uncentered):                   0.907\n",
            "Model:                            OLS   Adj. R-squared (uncentered):              0.906\n",
            "Method:                 Least Squares   F-statistic:                              3537.\n",
            "Date:                Sat, 25 Nov 2023   Prob (F-statistic):                        0.00\n",
            "Time:                        18:04:16   Log-Likelihood:                         -50174.\n",
            "No. Observations:                3649   AIC:                                  1.004e+05\n",
            "Df Residuals:                    3639   BIC:                                  1.004e+05\n",
            "Df Model:                          10                                                  \n",
            "Covariance Type:            nonrobust                                                  \n",
            "==============================================================================================================================\n",
            "                                                                 coef    std err          t      P>|t|      [0.025      0.975]\n",
            "------------------------------------------------------------------------------------------------------------------------------\n",
            "Access to electricity (% of population)                     -285.5235     85.526     -3.338      0.001    -453.207    -117.840\n",
            "Renewable_Electricity_Generating_Capacity_per_Capita         -31.0007     19.260     -1.610      0.108     -68.762       6.761\n",
            "Renewable_Energy_Share_in_Total_Final_Energy_Consumption_%  -611.3106    160.757     -3.803      0.000    -926.494    -296.127\n",
            "Electricity_from_Fossil_Fuels_(TWh)                         2214.0281     24.863     89.048      0.000    2165.281    2262.775\n",
            "Electricity_from_Nuclear(TWh)                               -653.0531     73.134     -8.930      0.000    -796.441    -509.665\n",
            "Electricity_from_Renewables(TWh)                            -544.2233     72.131     -7.545      0.000    -685.644    -402.803\n",
            "Low-carbon_Electricity                                       800.7240    139.503      5.740      0.000     527.213    1074.235\n",
            "Primary energy consumption per capita (kWh/person)            -0.1003      0.167     -0.602      0.547      -0.427       0.227\n",
            "Energy_Intensity_Levels_of_Primary_Energy                   5362.9542   1186.320      4.521      0.000    3037.035    7688.873\n",
            "gdp_per_capita                                                 0.1317      0.287      0.459      0.646      -0.430       0.694\n",
            "==============================================================================\n",
            "Omnibus:                     8923.480   Durbin-Watson:                   1.494\n",
            "Prob(Omnibus):                  0.000   Jarque-Bera (JB):        182961839.737\n",
            "Skew:                         -25.107   Prob(JB):                         0.00\n",
            "Kurtosis:                    1098.831   Cond. No.                     1.49e+04\n",
            "==============================================================================\n",
            "\n",
            "Notes:\n",
            "[1] R² is computed without centering (uncentered) since the model does not contain a constant.\n",
            "[2] Standard Errors assume that the covariance matrix of the errors is correctly specified.\n",
            "[3] The condition number is large, 1.49e+04. This might indicate that there are\n",
            "strong multicollinearity or other numerical problems.\n"
          ]
        }
      ]
    },
    {
      "cell_type": "markdown",
      "source": [
        "# Spliting the data"
      ],
      "metadata": {
        "id": "U6Xl8q4LWDTC"
      }
    },
    {
      "cell_type": "code",
      "source": [
        "# Split dataset into training set and test set\n",
        "# Our class column is CO2_Emissions(kT)\n",
        "class_col_name='CO2_Emissions(kT)'\n",
        "\n",
        "feature_names=Cleaned_SustainEnergyData.columns[Cleaned_SustainEnergyData.columns != class_col_name]\n",
        "# 70% training and 30% test\n",
        "X_train, X_test, y_train, y_test = train_test_split(Cleaned_SustainEnergyData.loc[:, feature_names], Cleaned_SustainEnergyData[class_col_name], test_size=0.3,random_state=1)"
      ],
      "metadata": {
        "id": "UqtIxtt9WD8P"
      },
      "execution_count": null,
      "outputs": []
    },
    {
      "cell_type": "markdown",
      "source": [
        "# Decision Tree"
      ],
      "metadata": {
        "id": "2MfhnkhzWYnv"
      }
    },
    {
      "cell_type": "code",
      "source": [
        "clf = DecisionTreeRegressor(max_depth=5, random_state=123)\n",
        "Mod = clf.fit(X_train, y_train)\n",
        "print(\"Successfuly trained the decision tree...\")"
      ],
      "metadata": {
        "colab": {
          "base_uri": "https://localhost:8080/"
        },
        "id": "ZrBsvSffWZK6",
        "outputId": "f9faf142-ca02-4f02-dfb7-78fc18206bc1"
      },
      "execution_count": null,
      "outputs": [
        {
          "output_type": "stream",
          "name": "stdout",
          "text": [
            "Successfuly trained the decision tree...\n"
          ]
        }
      ]
    },
    {
      "cell_type": "markdown",
      "source": [
        "Visualization of Decision Tree"
      ],
      "metadata": {
        "id": "V1XNmkToWYh6"
      }
    },
    {
      "cell_type": "code",
      "source": [
        "dot_data = tree.export_graphviz(clf, out_file=None,\n",
        "                                feature_names= feature_names,\n",
        "                                filled=True)\n",
        "# Plot tree\n",
        "graph = graphviz.Source(dot_data, format=\"png\")\n",
        "graph"
      ],
      "metadata": {
        "colab": {
          "base_uri": "https://localhost:8080/",
          "height": 816
        },
        "id": "6zoRKDAqWkC4",
        "outputId": "ac932b44-41b2-40ef-f2ec-7a75c8895d9a"
      },
      "execution_count": null,
      "outputs": [
        {
          "output_type": "execute_result",
          "data": {
            "image/svg+xml": "<?xml version=\"1.0\" encoding=\"UTF-8\" standalone=\"no\"?>\n<!DOCTYPE svg PUBLIC \"-//W3C//DTD SVG 1.1//EN\"\n \"http://www.w3.org/Graphics/SVG/1.1/DTD/svg11.dtd\">\n<!-- Generated by graphviz version 2.43.0 (0)\n -->\n<!-- Title: Tree Pages: 1 -->\n<svg width=\"5908pt\" height=\"581pt\"\n viewBox=\"0.00 0.00 5908.00 581.00\" xmlns=\"http://www.w3.org/2000/svg\" xmlns:xlink=\"http://www.w3.org/1999/xlink\">\n<g id=\"graph0\" class=\"graph\" transform=\"scale(1 1) rotate(0) translate(4 577)\">\n<title>Tree</title>\n<polygon fill=\"white\" stroke=\"transparent\" points=\"-4,4 -4,-577 5904,-577 5904,4 -4,4\"/>\n<!-- 0 -->\n<g id=\"node1\" class=\"node\">\n<title>0</title>\n<polygon fill=\"#fffdfc\" stroke=\"black\" points=\"3547,-573 3228,-573 3228,-505 3547,-505 3547,-573\"/>\n<text text-anchor=\"middle\" x=\"3387.5\" y=\"-557.8\" font-family=\"Helvetica,sans-Serif\" font-size=\"14.00\">Electricity_from_Fossil_Fuels_(TWh) &lt;= 1305.525</text>\n<text text-anchor=\"middle\" x=\"3387.5\" y=\"-542.8\" font-family=\"Helvetica,sans-Serif\" font-size=\"14.00\">squared_error = 536671538060.112</text>\n<text text-anchor=\"middle\" x=\"3387.5\" y=\"-527.8\" font-family=\"Helvetica,sans-Serif\" font-size=\"14.00\">samples = 2554</text>\n<text text-anchor=\"middle\" x=\"3387.5\" y=\"-512.8\" font-family=\"Helvetica,sans-Serif\" font-size=\"14.00\">value = 144206.178</text>\n</g>\n<!-- 1 -->\n<g id=\"node2\" class=\"node\">\n<title>1</title>\n<polygon fill=\"#fffefe\" stroke=\"black\" points=\"2824,-469 2513,-469 2513,-401 2824,-401 2824,-469\"/>\n<text text-anchor=\"middle\" x=\"2668.5\" y=\"-453.8\" font-family=\"Helvetica,sans-Serif\" font-size=\"14.00\">Electricity_from_Fossil_Fuels_(TWh) &lt;= 349.165</text>\n<text text-anchor=\"middle\" x=\"2668.5\" y=\"-438.8\" font-family=\"Helvetica,sans-Serif\" font-size=\"14.00\">squared_error = 44040088772.038</text>\n<text text-anchor=\"middle\" x=\"2668.5\" y=\"-423.8\" font-family=\"Helvetica,sans-Serif\" font-size=\"14.00\">samples = 2524</text>\n<text text-anchor=\"middle\" x=\"2668.5\" y=\"-408.8\" font-family=\"Helvetica,sans-Serif\" font-size=\"14.00\">value = 74014.838</text>\n</g>\n<!-- 0&#45;&gt;1 -->\n<g id=\"edge1\" class=\"edge\">\n<title>0&#45;&gt;1</title>\n<path fill=\"none\" stroke=\"black\" d=\"M3227.93,-515.36C3111.05,-498.78 2952.82,-476.34 2834.47,-459.55\"/>\n<polygon fill=\"black\" stroke=\"black\" points=\"2834.62,-456.03 2824.23,-458.09 2833.63,-462.96 2834.62,-456.03\"/>\n<text text-anchor=\"middle\" x=\"2839.24\" y=\"-474.38\" font-family=\"Helvetica,sans-Serif\" font-size=\"14.00\">True</text>\n</g>\n<!-- 32 -->\n<g id=\"node33\" class=\"node\">\n<title>32</title>\n<polygon fill=\"#f0b88f\" stroke=\"black\" points=\"4314,-469 4073,-469 4073,-401 4314,-401 4314,-469\"/>\n<text text-anchor=\"middle\" x=\"4193.5\" y=\"-453.8\" font-family=\"Helvetica,sans-Serif\" font-size=\"14.00\">gdp_per_capita &lt;= 10289.307</text>\n<text text-anchor=\"middle\" x=\"4193.5\" y=\"-438.8\" font-family=\"Helvetica,sans-Serif\" font-size=\"14.00\">squared_error = 6694767047409.312</text>\n<text text-anchor=\"middle\" x=\"4193.5\" y=\"-423.8\" font-family=\"Helvetica,sans-Serif\" font-size=\"14.00\">samples = 30</text>\n<text text-anchor=\"middle\" x=\"4193.5\" y=\"-408.8\" font-family=\"Helvetica,sans-Serif\" font-size=\"14.00\">value = 6049637.6</text>\n</g>\n<!-- 0&#45;&gt;32 -->\n<g id=\"edge32\" class=\"edge\">\n<title>0&#45;&gt;32</title>\n<path fill=\"none\" stroke=\"black\" d=\"M3547.22,-517.79C3698.26,-498.67 3922.15,-470.34 4062.83,-452.54\"/>\n<polygon fill=\"black\" stroke=\"black\" points=\"4063.33,-456 4072.81,-451.27 4062.45,-449.06 4063.33,-456\"/>\n<text text-anchor=\"middle\" x=\"4057.49\" y=\"-467.33\" font-family=\"Helvetica,sans-Serif\" font-size=\"14.00\">False</text>\n</g>\n<!-- 2 -->\n<g id=\"node3\" class=\"node\">\n<title>2</title>\n<polygon fill=\"#fffefe\" stroke=\"black\" points=\"1509.5,-365 1205.5,-365 1205.5,-297 1509.5,-297 1509.5,-365\"/>\n<text text-anchor=\"middle\" x=\"1357.5\" y=\"-349.8\" font-family=\"Helvetica,sans-Serif\" font-size=\"14.00\">Electricity_from_Fossil_Fuels_(TWh) &lt;= 55.145</text>\n<text text-anchor=\"middle\" x=\"1357.5\" y=\"-334.8\" font-family=\"Helvetica,sans-Serif\" font-size=\"14.00\">squared_error = 11744647108.796</text>\n<text text-anchor=\"middle\" x=\"1357.5\" y=\"-319.8\" font-family=\"Helvetica,sans-Serif\" font-size=\"14.00\">samples = 2479</text>\n<text text-anchor=\"middle\" x=\"1357.5\" y=\"-304.8\" font-family=\"Helvetica,sans-Serif\" font-size=\"14.00\">value = 52664.99</text>\n</g>\n<!-- 1&#45;&gt;2 -->\n<g id=\"edge2\" class=\"edge\">\n<title>1&#45;&gt;2</title>\n<path fill=\"none\" stroke=\"black\" d=\"M2512.96,-421.9C2262.89,-402.44 1773.79,-364.39 1519.6,-344.61\"/>\n<polygon fill=\"black\" stroke=\"black\" points=\"1519.79,-341.12 1509.54,-343.83 1519.24,-348.09 1519.79,-341.12\"/>\n</g>\n<!-- 17 -->\n<g id=\"node18\" class=\"node\">\n<title>17</title>\n<polygon fill=\"#fcf0e8\" stroke=\"black\" points=\"2820.5,-365 2516.5,-365 2516.5,-297 2820.5,-297 2820.5,-365\"/>\n<text text-anchor=\"middle\" x=\"2668.5\" y=\"-349.8\" font-family=\"Helvetica,sans-Serif\" font-size=\"14.00\">Electricity_from_Fossil_Fuels_(TWh) &lt;= 922.66</text>\n<text text-anchor=\"middle\" x=\"2668.5\" y=\"-334.8\" font-family=\"Helvetica,sans-Serif\" font-size=\"14.00\">squared_error = 414745731855.529</text>\n<text text-anchor=\"middle\" x=\"2668.5\" y=\"-319.8\" font-family=\"Helvetica,sans-Serif\" font-size=\"14.00\">samples = 45</text>\n<text text-anchor=\"middle\" x=\"2668.5\" y=\"-304.8\" font-family=\"Helvetica,sans-Serif\" font-size=\"14.00\">value = 1250154.267</text>\n</g>\n<!-- 1&#45;&gt;17 -->\n<g id=\"edge17\" class=\"edge\">\n<title>1&#45;&gt;17</title>\n<path fill=\"none\" stroke=\"black\" d=\"M2668.5,-400.88C2668.5,-392.78 2668.5,-383.98 2668.5,-375.47\"/>\n<polygon fill=\"black\" stroke=\"black\" points=\"2672,-375.3 2668.5,-365.3 2665,-375.3 2672,-375.3\"/>\n</g>\n<!-- 3 -->\n<g id=\"node4\" class=\"node\">\n<title>3</title>\n<polygon fill=\"#ffffff\" stroke=\"black\" points=\"845.5,-261 541.5,-261 541.5,-193 845.5,-193 845.5,-261\"/>\n<text text-anchor=\"middle\" x=\"693.5\" y=\"-245.8\" font-family=\"Helvetica,sans-Serif\" font-size=\"14.00\">Electricity_from_Fossil_Fuels_(TWh) &lt;= 20.765</text>\n<text text-anchor=\"middle\" x=\"693.5\" y=\"-230.8\" font-family=\"Helvetica,sans-Serif\" font-size=\"14.00\">squared_error = 1212476735.132</text>\n<text text-anchor=\"middle\" x=\"693.5\" y=\"-215.8\" font-family=\"Helvetica,sans-Serif\" font-size=\"14.00\">samples = 2134</text>\n<text text-anchor=\"middle\" x=\"693.5\" y=\"-200.8\" font-family=\"Helvetica,sans-Serif\" font-size=\"14.00\">value = 19538.437</text>\n</g>\n<!-- 2&#45;&gt;3 -->\n<g id=\"edge3\" class=\"edge\">\n<title>2&#45;&gt;3</title>\n<path fill=\"none\" stroke=\"black\" d=\"M1205.16,-306.6C1100.75,-290.56 962.41,-269.31 855.91,-252.95\"/>\n<polygon fill=\"black\" stroke=\"black\" points=\"856.12,-249.44 845.7,-251.38 855.05,-256.36 856.12,-249.44\"/>\n</g>\n<!-- 10 -->\n<g id=\"node11\" class=\"node\">\n<title>10</title>\n<polygon fill=\"#fefcfa\" stroke=\"black\" points=\"1509.5,-261 1205.5,-261 1205.5,-193 1509.5,-193 1509.5,-261\"/>\n<text text-anchor=\"middle\" x=\"1357.5\" y=\"-245.8\" font-family=\"Helvetica,sans-Serif\" font-size=\"14.00\">Electricity_from_Fossil_Fuels_(TWh) &lt;= 109.84</text>\n<text text-anchor=\"middle\" x=\"1357.5\" y=\"-230.8\" font-family=\"Helvetica,sans-Serif\" font-size=\"14.00\">squared_error = 28117815147.583</text>\n<text text-anchor=\"middle\" x=\"1357.5\" y=\"-215.8\" font-family=\"Helvetica,sans-Serif\" font-size=\"14.00\">samples = 345</text>\n<text text-anchor=\"middle\" x=\"1357.5\" y=\"-200.8\" font-family=\"Helvetica,sans-Serif\" font-size=\"14.00\">value = 257569.522</text>\n</g>\n<!-- 2&#45;&gt;10 -->\n<g id=\"edge10\" class=\"edge\">\n<title>2&#45;&gt;10</title>\n<path fill=\"none\" stroke=\"black\" d=\"M1357.5,-296.88C1357.5,-288.78 1357.5,-279.98 1357.5,-271.47\"/>\n<polygon fill=\"black\" stroke=\"black\" points=\"1361,-271.3 1357.5,-261.3 1354,-271.3 1361,-271.3\"/>\n</g>\n<!-- 4 -->\n<g id=\"node5\" class=\"node\">\n<title>4</title>\n<polygon fill=\"#ffffff\" stroke=\"black\" points=\"463,-157 174,-157 174,-89 463,-89 463,-157\"/>\n<text text-anchor=\"middle\" x=\"318.5\" y=\"-141.8\" font-family=\"Helvetica,sans-Serif\" font-size=\"14.00\">Electricity_from_Fossil_Fuels_(TWh) &lt;= 6.64</text>\n<text text-anchor=\"middle\" x=\"318.5\" y=\"-126.8\" font-family=\"Helvetica,sans-Serif\" font-size=\"14.00\">squared_error = 221716678.084</text>\n<text text-anchor=\"middle\" x=\"318.5\" y=\"-111.8\" font-family=\"Helvetica,sans-Serif\" font-size=\"14.00\">samples = 1807</text>\n<text text-anchor=\"middle\" x=\"318.5\" y=\"-96.8\" font-family=\"Helvetica,sans-Serif\" font-size=\"14.00\">value = 9480.471</text>\n</g>\n<!-- 3&#45;&gt;4 -->\n<g id=\"edge4\" class=\"edge\">\n<title>3&#45;&gt;4</title>\n<path fill=\"none\" stroke=\"black\" d=\"M572.01,-192.95C532.98,-182.34 489.57,-170.53 449.86,-159.73\"/>\n<polygon fill=\"black\" stroke=\"black\" points=\"450.69,-156.33 440.12,-157.08 448.85,-163.08 450.69,-156.33\"/>\n</g>\n<!-- 7 -->\n<g id=\"node8\" class=\"node\">\n<title>7</title>\n<polygon fill=\"#fffefe\" stroke=\"black\" points=\"833.5,-157 553.5,-157 553.5,-89 833.5,-89 833.5,-157\"/>\n<text text-anchor=\"middle\" x=\"693.5\" y=\"-141.8\" font-family=\"Helvetica,sans-Serif\" font-size=\"14.00\">Electricity_from_Renewables(TWh) &lt;= 58.5</text>\n<text text-anchor=\"middle\" x=\"693.5\" y=\"-126.8\" font-family=\"Helvetica,sans-Serif\" font-size=\"14.00\">squared_error = 3039221404.188</text>\n<text text-anchor=\"middle\" x=\"693.5\" y=\"-111.8\" font-family=\"Helvetica,sans-Serif\" font-size=\"14.00\">samples = 327</text>\n<text text-anchor=\"middle\" x=\"693.5\" y=\"-96.8\" font-family=\"Helvetica,sans-Serif\" font-size=\"14.00\">value = 75118.694</text>\n</g>\n<!-- 3&#45;&gt;7 -->\n<g id=\"edge7\" class=\"edge\">\n<title>3&#45;&gt;7</title>\n<path fill=\"none\" stroke=\"black\" d=\"M693.5,-192.88C693.5,-184.78 693.5,-175.98 693.5,-167.47\"/>\n<polygon fill=\"black\" stroke=\"black\" points=\"697,-167.3 693.5,-157.3 690,-167.3 697,-167.3\"/>\n</g>\n<!-- 5 -->\n<g id=\"node6\" class=\"node\">\n<title>5</title>\n<polygon fill=\"#ffffff\" stroke=\"black\" points=\"203,-53 0,-53 0,0 203,0 203,-53\"/>\n<text text-anchor=\"middle\" x=\"101.5\" y=\"-37.8\" font-family=\"Helvetica,sans-Serif\" font-size=\"14.00\">squared_error = 64848813.273</text>\n<text text-anchor=\"middle\" x=\"101.5\" y=\"-22.8\" font-family=\"Helvetica,sans-Serif\" font-size=\"14.00\">samples = 1503</text>\n<text text-anchor=\"middle\" x=\"101.5\" y=\"-7.8\" font-family=\"Helvetica,sans-Serif\" font-size=\"14.00\">value = 5011.931</text>\n</g>\n<!-- 4&#45;&gt;5 -->\n<g id=\"edge5\" class=\"edge\">\n<title>4&#45;&gt;5</title>\n<path fill=\"none\" stroke=\"black\" d=\"M242.6,-88.95C218.86,-78.61 192.83,-67.27 169.66,-57.18\"/>\n<polygon fill=\"black\" stroke=\"black\" points=\"170.82,-53.87 160.25,-53.09 168.03,-60.29 170.82,-53.87\"/>\n</g>\n<!-- 6 -->\n<g id=\"node7\" class=\"node\">\n<title>6</title>\n<polygon fill=\"#fffffe\" stroke=\"black\" points=\"416.5,-53 220.5,-53 220.5,0 416.5,0 416.5,-53\"/>\n<text text-anchor=\"middle\" x=\"318.5\" y=\"-37.8\" font-family=\"Helvetica,sans-Serif\" font-size=\"14.00\">squared_error = 410468843.9</text>\n<text text-anchor=\"middle\" x=\"318.5\" y=\"-22.8\" font-family=\"Helvetica,sans-Serif\" font-size=\"14.00\">samples = 304</text>\n<text text-anchor=\"middle\" x=\"318.5\" y=\"-7.8\" font-family=\"Helvetica,sans-Serif\" font-size=\"14.00\">value = 31573.283</text>\n</g>\n<!-- 4&#45;&gt;6 -->\n<g id=\"edge6\" class=\"edge\">\n<title>4&#45;&gt;6</title>\n<path fill=\"none\" stroke=\"black\" d=\"M318.5,-88.95C318.5,-80.72 318.5,-71.85 318.5,-63.48\"/>\n<polygon fill=\"black\" stroke=\"black\" points=\"322,-63.24 318.5,-53.24 315,-63.24 322,-63.24\"/>\n</g>\n<!-- 8 -->\n<g id=\"node9\" class=\"node\">\n<title>8</title>\n<polygon fill=\"#fffefe\" stroke=\"black\" points=\"646,-53 435,-53 435,0 646,0 646,-53\"/>\n<text text-anchor=\"middle\" x=\"540.5\" y=\"-37.8\" font-family=\"Helvetica,sans-Serif\" font-size=\"14.00\">squared_error = 913480349.697</text>\n<text text-anchor=\"middle\" x=\"540.5\" y=\"-22.8\" font-family=\"Helvetica,sans-Serif\" font-size=\"14.00\">samples = 317</text>\n<text text-anchor=\"middle\" x=\"540.5\" y=\"-7.8\" font-family=\"Helvetica,sans-Serif\" font-size=\"14.00\">value = 66907.719</text>\n</g>\n<!-- 7&#45;&gt;8 -->\n<g id=\"edge8\" class=\"edge\">\n<title>7&#45;&gt;8</title>\n<path fill=\"none\" stroke=\"black\" d=\"M639.99,-88.95C623.99,-79.07 606.52,-68.28 590.74,-58.53\"/>\n<polygon fill=\"black\" stroke=\"black\" points=\"592.52,-55.51 582.17,-53.24 588.84,-61.47 592.52,-55.51\"/>\n</g>\n<!-- 9 -->\n<g id=\"node10\" class=\"node\">\n<title>9</title>\n<polygon fill=\"#fefbf9\" stroke=\"black\" points=\"867,-53 664,-53 664,0 867,0 867,-53\"/>\n<text text-anchor=\"middle\" x=\"765.5\" y=\"-37.8\" font-family=\"Helvetica,sans-Serif\" font-size=\"14.00\">squared_error = 538201446.84</text>\n<text text-anchor=\"middle\" x=\"765.5\" y=\"-22.8\" font-family=\"Helvetica,sans-Serif\" font-size=\"14.00\">samples = 10</text>\n<text text-anchor=\"middle\" x=\"765.5\" y=\"-7.8\" font-family=\"Helvetica,sans-Serif\" font-size=\"14.00\">value = 335406.6</text>\n</g>\n<!-- 7&#45;&gt;9 -->\n<g id=\"edge9\" class=\"edge\">\n<title>7&#45;&gt;9</title>\n<path fill=\"none\" stroke=\"black\" d=\"M718.68,-88.95C725.51,-79.98 732.92,-70.27 739.78,-61.26\"/>\n<polygon fill=\"black\" stroke=\"black\" points=\"742.61,-63.31 745.89,-53.24 737.05,-59.07 742.61,-63.31\"/>\n</g>\n<!-- 11 -->\n<g id=\"node12\" class=\"node\">\n<title>11</title>\n<polygon fill=\"#fffdfc\" stroke=\"black\" points=\"1339.5,-157 1113.5,-157 1113.5,-89 1339.5,-89 1339.5,-157\"/>\n<text text-anchor=\"middle\" x=\"1226.5\" y=\"-141.8\" font-family=\"Helvetica,sans-Serif\" font-size=\"14.00\">Low&#45;carbon_Electricity &lt;= 45.28</text>\n<text text-anchor=\"middle\" x=\"1226.5\" y=\"-126.8\" font-family=\"Helvetica,sans-Serif\" font-size=\"14.00\">squared_error = 10888472687.319</text>\n<text text-anchor=\"middle\" x=\"1226.5\" y=\"-111.8\" font-family=\"Helvetica,sans-Serif\" font-size=\"14.00\">samples = 159</text>\n<text text-anchor=\"middle\" x=\"1226.5\" y=\"-96.8\" font-family=\"Helvetica,sans-Serif\" font-size=\"14.00\">value = 164190.145</text>\n</g>\n<!-- 10&#45;&gt;11 -->\n<g id=\"edge11\" class=\"edge\">\n<title>10&#45;&gt;11</title>\n<path fill=\"none\" stroke=\"black\" d=\"M1314.97,-192.88C1302.96,-183.53 1289.76,-173.26 1277.32,-163.57\"/>\n<polygon fill=\"black\" stroke=\"black\" points=\"1279.31,-160.68 1269.27,-157.3 1275.01,-166.2 1279.31,-160.68\"/>\n</g>\n<!-- 14 -->\n<g id=\"node15\" class=\"node\">\n<title>14</title>\n<polygon fill=\"#fefbf9\" stroke=\"black\" points=\"1617.5,-157 1357.5,-157 1357.5,-89 1617.5,-89 1617.5,-157\"/>\n<text text-anchor=\"middle\" x=\"1487.5\" y=\"-141.8\" font-family=\"Helvetica,sans-Serif\" font-size=\"14.00\">Electricity_from_Nuclear(TWh) &lt;= 67.02</text>\n<text text-anchor=\"middle\" x=\"1487.5\" y=\"-126.8\" font-family=\"Helvetica,sans-Serif\" font-size=\"14.00\">squared_error = 29020260170.874</text>\n<text text-anchor=\"middle\" x=\"1487.5\" y=\"-111.8\" font-family=\"Helvetica,sans-Serif\" font-size=\"14.00\">samples = 186</text>\n<text text-anchor=\"middle\" x=\"1487.5\" y=\"-96.8\" font-family=\"Helvetica,sans-Serif\" font-size=\"14.00\">value = 337393.828</text>\n</g>\n<!-- 10&#45;&gt;14 -->\n<g id=\"edge14\" class=\"edge\">\n<title>10&#45;&gt;14</title>\n<path fill=\"none\" stroke=\"black\" d=\"M1399.71,-192.88C1411.63,-183.53 1424.72,-173.26 1437.07,-163.57\"/>\n<polygon fill=\"black\" stroke=\"black\" points=\"1439.35,-166.23 1445.06,-157.3 1435.03,-160.72 1439.35,-166.23\"/>\n</g>\n<!-- 12 -->\n<g id=\"node13\" class=\"node\">\n<title>12</title>\n<polygon fill=\"#fffdfd\" stroke=\"black\" points=\"1103.5,-53 885.5,-53 885.5,0 1103.5,0 1103.5,-53\"/>\n<text text-anchor=\"middle\" x=\"994.5\" y=\"-37.8\" font-family=\"Helvetica,sans-Serif\" font-size=\"14.00\">squared_error = 5507746907.492</text>\n<text text-anchor=\"middle\" x=\"994.5\" y=\"-22.8\" font-family=\"Helvetica,sans-Serif\" font-size=\"14.00\">samples = 126</text>\n<text text-anchor=\"middle\" x=\"994.5\" y=\"-7.8\" font-family=\"Helvetica,sans-Serif\" font-size=\"14.00\">value = 132524.127</text>\n</g>\n<!-- 11&#45;&gt;12 -->\n<g id=\"edge12\" class=\"edge\">\n<title>11&#45;&gt;12</title>\n<path fill=\"none\" stroke=\"black\" d=\"M1145.36,-88.95C1119.75,-78.52 1091.65,-67.07 1066.71,-56.91\"/>\n<polygon fill=\"black\" stroke=\"black\" points=\"1067.9,-53.62 1057.32,-53.09 1065.26,-60.1 1067.9,-53.62\"/>\n</g>\n<!-- 13 -->\n<g id=\"node14\" class=\"node\">\n<title>13</title>\n<polygon fill=\"#fefcfa\" stroke=\"black\" points=\"1347.5,-53 1121.5,-53 1121.5,0 1347.5,0 1347.5,-53\"/>\n<text text-anchor=\"middle\" x=\"1234.5\" y=\"-37.8\" font-family=\"Helvetica,sans-Serif\" font-size=\"14.00\">squared_error = 12986022039.093</text>\n<text text-anchor=\"middle\" x=\"1234.5\" y=\"-22.8\" font-family=\"Helvetica,sans-Serif\" font-size=\"14.00\">samples = 33</text>\n<text text-anchor=\"middle\" x=\"1234.5\" y=\"-7.8\" font-family=\"Helvetica,sans-Serif\" font-size=\"14.00\">value = 285096.758</text>\n</g>\n<!-- 11&#45;&gt;13 -->\n<g id=\"edge13\" class=\"edge\">\n<title>11&#45;&gt;13</title>\n<path fill=\"none\" stroke=\"black\" d=\"M1229.3,-88.95C1230,-80.62 1230.76,-71.65 1231.48,-63.2\"/>\n<polygon fill=\"black\" stroke=\"black\" points=\"1234.97,-63.5 1232.32,-53.24 1227.99,-62.91 1234.97,-63.5\"/>\n</g>\n<!-- 15 -->\n<g id=\"node16\" class=\"node\">\n<title>15</title>\n<polygon fill=\"#fefbf9\" stroke=\"black\" points=\"1591.5,-53 1365.5,-53 1365.5,0 1591.5,0 1591.5,-53\"/>\n<text text-anchor=\"middle\" x=\"1478.5\" y=\"-37.8\" font-family=\"Helvetica,sans-Serif\" font-size=\"14.00\">squared_error = 25670812552.083</text>\n<text text-anchor=\"middle\" x=\"1478.5\" y=\"-22.8\" font-family=\"Helvetica,sans-Serif\" font-size=\"14.00\">samples = 158</text>\n<text text-anchor=\"middle\" x=\"1478.5\" y=\"-7.8\" font-family=\"Helvetica,sans-Serif\" font-size=\"14.00\">value = 303359.456</text>\n</g>\n<!-- 14&#45;&gt;15 -->\n<g id=\"edge15\" class=\"edge\">\n<title>14&#45;&gt;15</title>\n<path fill=\"none\" stroke=\"black\" d=\"M1484.35,-88.95C1483.56,-80.62 1482.7,-71.65 1481.9,-63.2\"/>\n<polygon fill=\"black\" stroke=\"black\" points=\"1485.38,-62.86 1480.95,-53.24 1478.42,-63.52 1485.38,-62.86\"/>\n</g>\n<!-- 16 -->\n<g id=\"node17\" class=\"node\">\n<title>16</title>\n<polygon fill=\"#fef9f5\" stroke=\"black\" points=\"1827.5,-53 1609.5,-53 1609.5,0 1827.5,0 1827.5,-53\"/>\n<text text-anchor=\"middle\" x=\"1718.5\" y=\"-37.8\" font-family=\"Helvetica,sans-Serif\" font-size=\"14.00\">squared_error = 4500750692.566</text>\n<text text-anchor=\"middle\" x=\"1718.5\" y=\"-22.8\" font-family=\"Helvetica,sans-Serif\" font-size=\"14.00\">samples = 28</text>\n<text text-anchor=\"middle\" x=\"1718.5\" y=\"-7.8\" font-family=\"Helvetica,sans-Serif\" font-size=\"14.00\">value = 529444.929</text>\n</g>\n<!-- 14&#45;&gt;16 -->\n<g id=\"edge16\" class=\"edge\">\n<title>14&#45;&gt;16</title>\n<path fill=\"none\" stroke=\"black\" d=\"M1568.29,-88.95C1593.79,-78.52 1621.77,-67.07 1646.6,-56.91\"/>\n<polygon fill=\"black\" stroke=\"black\" points=\"1648.02,-60.11 1655.95,-53.09 1645.37,-53.63 1648.02,-60.11\"/>\n</g>\n<!-- 18 -->\n<g id=\"node19\" class=\"node\">\n<title>18</title>\n<polygon fill=\"#fcf3ec\" stroke=\"black\" points=\"2658,-261 2347,-261 2347,-193 2658,-193 2658,-261\"/>\n<text text-anchor=\"middle\" x=\"2502.5\" y=\"-245.8\" font-family=\"Helvetica,sans-Serif\" font-size=\"14.00\">Electricity_from_Fossil_Fuels_(TWh) &lt;= 510.355</text>\n<text text-anchor=\"middle\" x=\"2502.5\" y=\"-230.8\" font-family=\"Helvetica,sans-Serif\" font-size=\"14.00\">squared_error = 86421501428.674</text>\n<text text-anchor=\"middle\" x=\"2502.5\" y=\"-215.8\" font-family=\"Helvetica,sans-Serif\" font-size=\"14.00\">samples = 39</text>\n<text text-anchor=\"middle\" x=\"2502.5\" y=\"-200.8\" font-family=\"Helvetica,sans-Serif\" font-size=\"14.00\">value = 1037799.308</text>\n</g>\n<!-- 17&#45;&gt;18 -->\n<g id=\"edge18\" class=\"edge\">\n<title>17&#45;&gt;18</title>\n<path fill=\"none\" stroke=\"black\" d=\"M2614.6,-296.88C2598.87,-287.21 2581.53,-276.56 2565.3,-266.59\"/>\n<polygon fill=\"black\" stroke=\"black\" points=\"2566.76,-263.38 2556.41,-261.12 2563.1,-269.34 2566.76,-263.38\"/>\n</g>\n<!-- 25 -->\n<g id=\"node26\" class=\"node\">\n<title>25</title>\n<polygon fill=\"#f9e0ce\" stroke=\"black\" points=\"2964.5,-261 2704.5,-261 2704.5,-193 2964.5,-193 2964.5,-261\"/>\n<text text-anchor=\"middle\" x=\"2834.5\" y=\"-245.8\" font-family=\"Helvetica,sans-Serif\" font-size=\"14.00\">Electricity_from_Nuclear(TWh) &lt;= 25.39</text>\n<text text-anchor=\"middle\" x=\"2834.5\" y=\"-230.8\" font-family=\"Helvetica,sans-Serif\" font-size=\"14.00\">squared_error = 350490085331.25</text>\n<text text-anchor=\"middle\" x=\"2834.5\" y=\"-215.8\" font-family=\"Helvetica,sans-Serif\" font-size=\"14.00\">samples = 6</text>\n<text text-anchor=\"middle\" x=\"2834.5\" y=\"-200.8\" font-family=\"Helvetica,sans-Serif\" font-size=\"14.00\">value = 2630461.5</text>\n</g>\n<!-- 17&#45;&gt;25 -->\n<g id=\"edge25\" class=\"edge\">\n<title>17&#45;&gt;25</title>\n<path fill=\"none\" stroke=\"black\" d=\"M2722.4,-296.88C2738.13,-287.21 2755.47,-276.56 2771.7,-266.59\"/>\n<polygon fill=\"black\" stroke=\"black\" points=\"2773.9,-269.34 2780.59,-261.12 2770.24,-263.38 2773.9,-269.34\"/>\n</g>\n<!-- 19 -->\n<g id=\"node20\" class=\"node\">\n<title>19</title>\n<polygon fill=\"#fdf6f0\" stroke=\"black\" points=\"2296.5,-157 2078.5,-157 2078.5,-89 2296.5,-89 2296.5,-157\"/>\n<text text-anchor=\"middle\" x=\"2187.5\" y=\"-141.8\" font-family=\"Helvetica,sans-Serif\" font-size=\"14.00\">gdp_per_capita &lt;= 34275.711</text>\n<text text-anchor=\"middle\" x=\"2187.5\" y=\"-126.8\" font-family=\"Helvetica,sans-Serif\" font-size=\"14.00\">squared_error = 2271870697.529</text>\n<text text-anchor=\"middle\" x=\"2187.5\" y=\"-111.8\" font-family=\"Helvetica,sans-Serif\" font-size=\"14.00\">samples = 15</text>\n<text text-anchor=\"middle\" x=\"2187.5\" y=\"-96.8\" font-family=\"Helvetica,sans-Serif\" font-size=\"14.00\">value = 806409.733</text>\n</g>\n<!-- 18&#45;&gt;19 -->\n<g id=\"edge19\" class=\"edge\">\n<title>18&#45;&gt;19</title>\n<path fill=\"none\" stroke=\"black\" d=\"M2400.23,-192.88C2367.94,-182.43 2332.1,-170.82 2299.18,-160.16\"/>\n<polygon fill=\"black\" stroke=\"black\" points=\"2300.12,-156.79 2289.53,-157.04 2297.96,-163.45 2300.12,-156.79\"/>\n</g>\n<!-- 22 -->\n<g id=\"node23\" class=\"node\">\n<title>22</title>\n<polygon fill=\"#fcf1e9\" stroke=\"black\" points=\"2675,-157 2330,-157 2330,-89 2675,-89 2675,-157\"/>\n<text text-anchor=\"middle\" x=\"2502.5\" y=\"-141.8\" font-family=\"Helvetica,sans-Serif\" font-size=\"14.00\">Energy_Intensity_Levels_of_Primary_Energy &lt;= 1.665</text>\n<text text-anchor=\"middle\" x=\"2502.5\" y=\"-126.8\" font-family=\"Helvetica,sans-Serif\" font-size=\"14.00\">squared_error = 84637305277.331</text>\n<text text-anchor=\"middle\" x=\"2502.5\" y=\"-111.8\" font-family=\"Helvetica,sans-Serif\" font-size=\"14.00\">samples = 24</text>\n<text text-anchor=\"middle\" x=\"2502.5\" y=\"-96.8\" font-family=\"Helvetica,sans-Serif\" font-size=\"14.00\">value = 1182417.792</text>\n</g>\n<!-- 18&#45;&gt;22 -->\n<g id=\"edge22\" class=\"edge\">\n<title>18&#45;&gt;22</title>\n<path fill=\"none\" stroke=\"black\" d=\"M2502.5,-192.88C2502.5,-184.78 2502.5,-175.98 2502.5,-167.47\"/>\n<polygon fill=\"black\" stroke=\"black\" points=\"2506,-167.3 2502.5,-157.3 2499,-167.3 2506,-167.3\"/>\n</g>\n<!-- 20 -->\n<g id=\"node21\" class=\"node\">\n<title>20</title>\n<polygon fill=\"#fdf5ef\" stroke=\"black\" points=\"2063.5,-53 1845.5,-53 1845.5,0 2063.5,0 2063.5,-53\"/>\n<text text-anchor=\"middle\" x=\"1954.5\" y=\"-37.8\" font-family=\"Helvetica,sans-Serif\" font-size=\"14.00\">squared_error = 1565505884.583</text>\n<text text-anchor=\"middle\" x=\"1954.5\" y=\"-22.8\" font-family=\"Helvetica,sans-Serif\" font-size=\"14.00\">samples = 6</text>\n<text text-anchor=\"middle\" x=\"1954.5\" y=\"-7.8\" font-family=\"Helvetica,sans-Serif\" font-size=\"14.00\">value = 851176.5</text>\n</g>\n<!-- 19&#45;&gt;20 -->\n<g id=\"edge20\" class=\"edge\">\n<title>19&#45;&gt;20</title>\n<path fill=\"none\" stroke=\"black\" d=\"M2106.01,-88.95C2080.29,-78.52 2052.07,-67.07 2027.02,-56.91\"/>\n<polygon fill=\"black\" stroke=\"black\" points=\"2028.17,-53.6 2017.59,-53.09 2025.54,-60.09 2028.17,-53.6\"/>\n</g>\n<!-- 21 -->\n<g id=\"node22\" class=\"node\">\n<title>21</title>\n<polygon fill=\"#fdf6f1\" stroke=\"black\" points=\"2293,-53 2082,-53 2082,0 2293,0 2293,-53\"/>\n<text text-anchor=\"middle\" x=\"2187.5\" y=\"-37.8\" font-family=\"Helvetica,sans-Serif\" font-size=\"14.00\">squared_error = 516043464.173</text>\n<text text-anchor=\"middle\" x=\"2187.5\" y=\"-22.8\" font-family=\"Helvetica,sans-Serif\" font-size=\"14.00\">samples = 9</text>\n<text text-anchor=\"middle\" x=\"2187.5\" y=\"-7.8\" font-family=\"Helvetica,sans-Serif\" font-size=\"14.00\">value = 776565.222</text>\n</g>\n<!-- 19&#45;&gt;21 -->\n<g id=\"edge21\" class=\"edge\">\n<title>19&#45;&gt;21</title>\n<path fill=\"none\" stroke=\"black\" d=\"M2187.5,-88.95C2187.5,-80.72 2187.5,-71.85 2187.5,-63.48\"/>\n<polygon fill=\"black\" stroke=\"black\" points=\"2191,-63.24 2187.5,-53.24 2184,-63.24 2191,-63.24\"/>\n</g>\n<!-- 23 -->\n<g id=\"node24\" class=\"node\">\n<title>23</title>\n<polygon fill=\"#ffffff\" stroke=\"black\" points=\"2447.5,-53 2311.5,-53 2311.5,0 2447.5,0 2447.5,-53\"/>\n<text text-anchor=\"middle\" x=\"2379.5\" y=\"-37.8\" font-family=\"Helvetica,sans-Serif\" font-size=\"14.00\">squared_error = 0.0</text>\n<text text-anchor=\"middle\" x=\"2379.5\" y=\"-22.8\" font-family=\"Helvetica,sans-Serif\" font-size=\"14.00\">samples = 1</text>\n<text text-anchor=\"middle\" x=\"2379.5\" y=\"-7.8\" font-family=\"Helvetica,sans-Serif\" font-size=\"14.00\">value = 0.0</text>\n</g>\n<!-- 22&#45;&gt;23 -->\n<g id=\"edge23\" class=\"edge\">\n<title>22&#45;&gt;23</title>\n<path fill=\"none\" stroke=\"black\" d=\"M2459.48,-88.95C2446.98,-79.34 2433.35,-68.87 2420.95,-59.34\"/>\n<polygon fill=\"black\" stroke=\"black\" points=\"2423.06,-56.55 2413,-53.24 2418.8,-62.1 2423.06,-56.55\"/>\n</g>\n<!-- 24 -->\n<g id=\"node25\" class=\"node\">\n<title>24</title>\n<polygon fill=\"#fcf0e8\" stroke=\"black\" points=\"2691.5,-53 2465.5,-53 2465.5,0 2691.5,0 2691.5,-53\"/>\n<text text-anchor=\"middle\" x=\"2578.5\" y=\"-37.8\" font-family=\"Helvetica,sans-Serif\" font-size=\"14.00\">squared_error = 24886783546.106</text>\n<text text-anchor=\"middle\" x=\"2578.5\" y=\"-22.8\" font-family=\"Helvetica,sans-Serif\" font-size=\"14.00\">samples = 23</text>\n<text text-anchor=\"middle\" x=\"2578.5\" y=\"-7.8\" font-family=\"Helvetica,sans-Serif\" font-size=\"14.00\">value = 1233827.261</text>\n</g>\n<!-- 22&#45;&gt;24 -->\n<g id=\"edge24\" class=\"edge\">\n<title>22&#45;&gt;24</title>\n<path fill=\"none\" stroke=\"black\" d=\"M2529.08,-88.95C2536.29,-79.98 2544.11,-70.27 2551.35,-61.26\"/>\n<polygon fill=\"black\" stroke=\"black\" points=\"2554.26,-63.22 2557.8,-53.24 2548.81,-58.84 2554.26,-63.22\"/>\n</g>\n<!-- 26 -->\n<g id=\"node27\" class=\"node\">\n<title>26</title>\n<polygon fill=\"#f7d7bf\" stroke=\"black\" points=\"2936,-157 2733,-157 2733,-89 2936,-89 2936,-157\"/>\n<text text-anchor=\"middle\" x=\"2834.5\" y=\"-141.8\" font-family=\"Helvetica,sans-Serif\" font-size=\"14.00\">gdp_per_capita &lt;= 1006.24</text>\n<text text-anchor=\"middle\" x=\"2834.5\" y=\"-126.8\" font-family=\"Helvetica,sans-Serif\" font-size=\"14.00\">squared_error = 8331125625.0</text>\n<text text-anchor=\"middle\" x=\"2834.5\" y=\"-111.8\" font-family=\"Helvetica,sans-Serif\" font-size=\"14.00\">samples = 2</text>\n<text text-anchor=\"middle\" x=\"2834.5\" y=\"-96.8\" font-family=\"Helvetica,sans-Serif\" font-size=\"14.00\">value = 3437805.0</text>\n</g>\n<!-- 25&#45;&gt;26 -->\n<g id=\"edge26\" class=\"edge\">\n<title>25&#45;&gt;26</title>\n<path fill=\"none\" stroke=\"black\" d=\"M2834.5,-192.88C2834.5,-184.78 2834.5,-175.98 2834.5,-167.47\"/>\n<polygon fill=\"black\" stroke=\"black\" points=\"2838,-167.3 2834.5,-157.3 2831,-167.3 2838,-167.3\"/>\n</g>\n<!-- 29 -->\n<g id=\"node30\" class=\"node\">\n<title>29</title>\n<polygon fill=\"#fae5d6\" stroke=\"black\" points=\"3270.5,-157 2968.5,-157 2968.5,-89 3270.5,-89 3270.5,-157\"/>\n<text text-anchor=\"middle\" x=\"3119.5\" y=\"-141.8\" font-family=\"Helvetica,sans-Serif\" font-size=\"14.00\">Electricity_from_Renewables(TWh) &lt;= 219.055</text>\n<text text-anchor=\"middle\" x=\"3119.5\" y=\"-126.8\" font-family=\"Helvetica,sans-Serif\" font-size=\"14.00\">squared_error = 32716919940.188</text>\n<text text-anchor=\"middle\" x=\"3119.5\" y=\"-111.8\" font-family=\"Helvetica,sans-Serif\" font-size=\"14.00\">samples = 4</text>\n<text text-anchor=\"middle\" x=\"3119.5\" y=\"-96.8\" font-family=\"Helvetica,sans-Serif\" font-size=\"14.00\">value = 2226789.75</text>\n</g>\n<!-- 25&#45;&gt;29 -->\n<g id=\"edge29\" class=\"edge\">\n<title>25&#45;&gt;29</title>\n<path fill=\"none\" stroke=\"black\" d=\"M2927.03,-192.88C2955.92,-182.54 2987.95,-171.08 3017.46,-160.52\"/>\n<polygon fill=\"black\" stroke=\"black\" points=\"3018.71,-163.79 3026.95,-157.12 3016.35,-157.2 3018.71,-163.79\"/>\n</g>\n<!-- 27 -->\n<g id=\"node28\" class=\"node\">\n<title>27</title>\n<polygon fill=\"#f7d8c1\" stroke=\"black\" points=\"2845.5,-53 2709.5,-53 2709.5,0 2845.5,0 2845.5,-53\"/>\n<text text-anchor=\"middle\" x=\"2777.5\" y=\"-37.8\" font-family=\"Helvetica,sans-Serif\" font-size=\"14.00\">squared_error = 0.0</text>\n<text text-anchor=\"middle\" x=\"2777.5\" y=\"-22.8\" font-family=\"Helvetica,sans-Serif\" font-size=\"14.00\">samples = 1</text>\n<text text-anchor=\"middle\" x=\"2777.5\" y=\"-7.8\" font-family=\"Helvetica,sans-Serif\" font-size=\"14.00\">value = 3346530.0</text>\n</g>\n<!-- 26&#45;&gt;27 -->\n<g id=\"edge27\" class=\"edge\">\n<title>26&#45;&gt;27</title>\n<path fill=\"none\" stroke=\"black\" d=\"M2814.56,-88.95C2809.27,-80.17 2803.53,-70.66 2798.2,-61.82\"/>\n<polygon fill=\"black\" stroke=\"black\" points=\"2801.19,-59.99 2793.02,-53.24 2795.19,-63.61 2801.19,-59.99\"/>\n</g>\n<!-- 28 -->\n<g id=\"node29\" class=\"node\">\n<title>28</title>\n<polygon fill=\"#f6d5be\" stroke=\"black\" points=\"2999.5,-53 2863.5,-53 2863.5,0 2999.5,0 2999.5,-53\"/>\n<text text-anchor=\"middle\" x=\"2931.5\" y=\"-37.8\" font-family=\"Helvetica,sans-Serif\" font-size=\"14.00\">squared_error = 0.0</text>\n<text text-anchor=\"middle\" x=\"2931.5\" y=\"-22.8\" font-family=\"Helvetica,sans-Serif\" font-size=\"14.00\">samples = 1</text>\n<text text-anchor=\"middle\" x=\"2931.5\" y=\"-7.8\" font-family=\"Helvetica,sans-Serif\" font-size=\"14.00\">value = 3529080.0</text>\n</g>\n<!-- 26&#45;&gt;28 -->\n<g id=\"edge28\" class=\"edge\">\n<title>26&#45;&gt;28</title>\n<path fill=\"none\" stroke=\"black\" d=\"M2868.43,-88.95C2877.91,-79.71 2888.21,-69.67 2897.69,-60.44\"/>\n<polygon fill=\"black\" stroke=\"black\" points=\"2900.36,-62.72 2905.08,-53.24 2895.48,-57.71 2900.36,-62.72\"/>\n</g>\n<!-- 30 -->\n<g id=\"node31\" class=\"node\">\n<title>30</title>\n<polygon fill=\"#fae7d9\" stroke=\"black\" points=\"3221,-53 3018,-53 3018,0 3221,0 3221,-53\"/>\n<text text-anchor=\"middle\" x=\"3119.5\" y=\"-37.8\" font-family=\"Helvetica,sans-Serif\" font-size=\"14.00\">squared_error = 8610912025.0</text>\n<text text-anchor=\"middle\" x=\"3119.5\" y=\"-22.8\" font-family=\"Helvetica,sans-Serif\" font-size=\"14.00\">samples = 2</text>\n<text text-anchor=\"middle\" x=\"3119.5\" y=\"-7.8\" font-family=\"Helvetica,sans-Serif\" font-size=\"14.00\">value = 2065225.0</text>\n</g>\n<!-- 29&#45;&gt;30 -->\n<g id=\"edge30\" class=\"edge\">\n<title>29&#45;&gt;30</title>\n<path fill=\"none\" stroke=\"black\" d=\"M3119.5,-88.95C3119.5,-80.72 3119.5,-71.85 3119.5,-63.48\"/>\n<polygon fill=\"black\" stroke=\"black\" points=\"3123,-63.24 3119.5,-53.24 3116,-63.24 3123,-63.24\"/>\n</g>\n<!-- 31 -->\n<g id=\"node32\" class=\"node\">\n<title>31</title>\n<polygon fill=\"#f9e3d3\" stroke=\"black\" points=\"3450,-53 3239,-53 3239,0 3450,0 3450,-53\"/>\n<text text-anchor=\"middle\" x=\"3344.5\" y=\"-37.8\" font-family=\"Helvetica,sans-Serif\" font-size=\"14.00\">squared_error = 4616590970.25</text>\n<text text-anchor=\"middle\" x=\"3344.5\" y=\"-22.8\" font-family=\"Helvetica,sans-Serif\" font-size=\"14.00\">samples = 2</text>\n<text text-anchor=\"middle\" x=\"3344.5\" y=\"-7.8\" font-family=\"Helvetica,sans-Serif\" font-size=\"14.00\">value = 2388354.5</text>\n</g>\n<!-- 29&#45;&gt;31 -->\n<g id=\"edge31\" class=\"edge\">\n<title>29&#45;&gt;31</title>\n<path fill=\"none\" stroke=\"black\" d=\"M3198.19,-88.95C3222.92,-78.56 3250.04,-67.17 3274.15,-57.05\"/>\n<polygon fill=\"black\" stroke=\"black\" points=\"3275.71,-60.19 3283.58,-53.09 3273,-53.73 3275.71,-60.19\"/>\n</g>\n<!-- 33 -->\n<g id=\"node34\" class=\"node\">\n<title>33</title>\n<polygon fill=\"#eba06a\" stroke=\"black\" points=\"4353,-365 4034,-365 4034,-297 4353,-297 4353,-365\"/>\n<text text-anchor=\"middle\" x=\"4193.5\" y=\"-349.8\" font-family=\"Helvetica,sans-Serif\" font-size=\"14.00\">Electricity_from_Fossil_Fuels_(TWh) &lt;= 3591.985</text>\n<text text-anchor=\"middle\" x=\"4193.5\" y=\"-334.8\" font-family=\"Helvetica,sans-Serif\" font-size=\"14.00\">squared_error = 5816858638832.734</text>\n<text text-anchor=\"middle\" x=\"4193.5\" y=\"-319.8\" font-family=\"Helvetica,sans-Serif\" font-size=\"14.00\">samples = 12</text>\n<text text-anchor=\"middle\" x=\"4193.5\" y=\"-304.8\" font-family=\"Helvetica,sans-Serif\" font-size=\"14.00\">value = 8035094.417</text>\n</g>\n<!-- 32&#45;&gt;33 -->\n<g id=\"edge33\" class=\"edge\">\n<title>32&#45;&gt;33</title>\n<path fill=\"none\" stroke=\"black\" d=\"M4193.5,-400.88C4193.5,-392.78 4193.5,-383.98 4193.5,-375.47\"/>\n<polygon fill=\"black\" stroke=\"black\" points=\"4197,-375.3 4193.5,-365.3 4190,-375.3 4197,-375.3\"/>\n</g>\n<!-- 48 -->\n<g id=\"node49\" class=\"node\">\n<title>48</title>\n<polygon fill=\"#f4c7a8\" stroke=\"black\" points=\"5115,-365 4638,-365 4638,-297 5115,-297 5115,-365\"/>\n<text text-anchor=\"middle\" x=\"4876.5\" y=\"-349.8\" font-family=\"Helvetica,sans-Serif\" font-size=\"14.00\">Renewable_Energy_Share_in_Total_Final_Energy_Consumption_% &lt;= 2.34</text>\n<text text-anchor=\"middle\" x=\"4876.5\" y=\"-334.8\" font-family=\"Helvetica,sans-Serif\" font-size=\"14.00\">squared_error = 2899996241073.535</text>\n<text text-anchor=\"middle\" x=\"4876.5\" y=\"-319.8\" font-family=\"Helvetica,sans-Serif\" font-size=\"14.00\">samples = 18</text>\n<text text-anchor=\"middle\" x=\"4876.5\" y=\"-304.8\" font-family=\"Helvetica,sans-Serif\" font-size=\"14.00\">value = 4725999.722</text>\n</g>\n<!-- 32&#45;&gt;48 -->\n<g id=\"edge48\" class=\"edge\">\n<title>32&#45;&gt;48</title>\n<path fill=\"none\" stroke=\"black\" d=\"M4314.03,-416C4405.58,-402.33 4534.24,-383.11 4645.41,-366.51\"/>\n<polygon fill=\"black\" stroke=\"black\" points=\"4646.05,-369.95 4655.43,-365.02 4645.02,-363.03 4646.05,-369.95\"/>\n</g>\n<!-- 34 -->\n<g id=\"node35\" class=\"node\">\n<title>34</title>\n<polygon fill=\"#f1ba92\" stroke=\"black\" points=\"4224.5,-261 3798.5,-261 3798.5,-193 4224.5,-193 4224.5,-261\"/>\n<text text-anchor=\"middle\" x=\"4011.5\" y=\"-245.8\" font-family=\"Helvetica,sans-Serif\" font-size=\"14.00\">Primary energy consumption per capita (kWh/person) &lt;= 16613.876</text>\n<text text-anchor=\"middle\" x=\"4011.5\" y=\"-230.8\" font-family=\"Helvetica,sans-Serif\" font-size=\"14.00\">squared_error = 2226857982296.89</text>\n<text text-anchor=\"middle\" x=\"4011.5\" y=\"-215.8\" font-family=\"Helvetica,sans-Serif\" font-size=\"14.00\">samples = 6</text>\n<text text-anchor=\"middle\" x=\"4011.5\" y=\"-200.8\" font-family=\"Helvetica,sans-Serif\" font-size=\"14.00\">value = 5877106.333</text>\n</g>\n<!-- 33&#45;&gt;34 -->\n<g id=\"edge34\" class=\"edge\">\n<title>33&#45;&gt;34</title>\n<path fill=\"none\" stroke=\"black\" d=\"M4134.41,-296.88C4116.84,-287.04 4097.45,-276.17 4079.36,-266.03\"/>\n<polygon fill=\"black\" stroke=\"black\" points=\"4081.04,-262.96 4070.6,-261.12 4077.62,-269.07 4081.04,-262.96\"/>\n</g>\n<!-- 41 -->\n<g id=\"node42\" class=\"node\">\n<title>41</title>\n<polygon fill=\"#e68743\" stroke=\"black\" points=\"4666,-261 4243,-261 4243,-193 4666,-193 4666,-261\"/>\n<text text-anchor=\"middle\" x=\"4454.5\" y=\"-245.8\" font-family=\"Helvetica,sans-Serif\" font-size=\"14.00\">Renewable_Electricity_Generating_Capacity_per_Capita &lt;= 462.03</text>\n<text text-anchor=\"middle\" x=\"4454.5\" y=\"-230.8\" font-family=\"Helvetica,sans-Serif\" font-size=\"14.00\">squared_error = 93034159751.25</text>\n<text text-anchor=\"middle\" x=\"4454.5\" y=\"-215.8\" font-family=\"Helvetica,sans-Serif\" font-size=\"14.00\">samples = 6</text>\n<text text-anchor=\"middle\" x=\"4454.5\" y=\"-200.8\" font-family=\"Helvetica,sans-Serif\" font-size=\"14.00\">value = 10193082.5</text>\n</g>\n<!-- 33&#45;&gt;41 -->\n<g id=\"edge41\" class=\"edge\">\n<title>33&#45;&gt;41</title>\n<path fill=\"none\" stroke=\"black\" d=\"M4278.24,-296.88C4304.47,-286.63 4333.52,-275.28 4360.35,-264.79\"/>\n<polygon fill=\"black\" stroke=\"black\" points=\"4361.7,-268.02 4369.74,-261.12 4359.15,-261.5 4361.7,-268.02\"/>\n</g>\n<!-- 35 -->\n<g id=\"node36\" class=\"node\">\n<title>35</title>\n<polygon fill=\"#f4cbad\" stroke=\"black\" points=\"3916,-157 3563,-157 3563,-89 3916,-89 3916,-157\"/>\n<text text-anchor=\"middle\" x=\"3739.5\" y=\"-141.8\" font-family=\"Helvetica,sans-Serif\" font-size=\"14.00\">Energy_Intensity_Levels_of_Primary_Energy &lt;= 10.655</text>\n<text text-anchor=\"middle\" x=\"3739.5\" y=\"-126.8\" font-family=\"Helvetica,sans-Serif\" font-size=\"14.00\">squared_error = 288688602318.0</text>\n<text text-anchor=\"middle\" x=\"3739.5\" y=\"-111.8\" font-family=\"Helvetica,sans-Serif\" font-size=\"14.00\">samples = 3</text>\n<text text-anchor=\"middle\" x=\"3739.5\" y=\"-96.8\" font-family=\"Helvetica,sans-Serif\" font-size=\"14.00\">value = 4450263.0</text>\n</g>\n<!-- 34&#45;&gt;35 -->\n<g id=\"edge35\" class=\"edge\">\n<title>34&#45;&gt;35</title>\n<path fill=\"none\" stroke=\"black\" d=\"M3923.19,-192.88C3895.73,-182.59 3865.31,-171.18 3837.25,-160.66\"/>\n<polygon fill=\"black\" stroke=\"black\" points=\"3838.42,-157.36 3827.83,-157.12 3835.97,-163.91 3838.42,-157.36\"/>\n</g>\n<!-- 38 -->\n<g id=\"node39\" class=\"node\">\n<title>38</title>\n<polygon fill=\"#eda978\" stroke=\"black\" points=\"4160.5,-157 3934.5,-157 3934.5,-89 4160.5,-89 4160.5,-157\"/>\n<text text-anchor=\"middle\" x=\"4047.5\" y=\"-141.8\" font-family=\"Helvetica,sans-Serif\" font-size=\"14.00\">gdp_per_capita &lt;= 3650.271</text>\n<text text-anchor=\"middle\" x=\"4047.5\" y=\"-126.8\" font-family=\"Helvetica,sans-Serif\" font-size=\"14.00\">squared_error = 93263566520.219</text>\n<text text-anchor=\"middle\" x=\"4047.5\" y=\"-111.8\" font-family=\"Helvetica,sans-Serif\" font-size=\"14.00\">samples = 3</text>\n<text text-anchor=\"middle\" x=\"4047.5\" y=\"-96.8\" font-family=\"Helvetica,sans-Serif\" font-size=\"14.00\">value = 7303949.667</text>\n</g>\n<!-- 34&#45;&gt;38 -->\n<g id=\"edge38\" class=\"edge\">\n<title>34&#45;&gt;38</title>\n<path fill=\"none\" stroke=\"black\" d=\"M4023.19,-192.88C4026.11,-184.6 4029.29,-175.6 4032.35,-166.91\"/>\n<polygon fill=\"black\" stroke=\"black\" points=\"4035.72,-167.89 4035.75,-157.3 4029.12,-165.56 4035.72,-167.89\"/>\n</g>\n<!-- 36 -->\n<g id=\"node37\" class=\"node\">\n<title>36</title>\n<polygon fill=\"#f5cfb3\" stroke=\"black\" points=\"3679,-53 3468,-53 3468,0 3679,0 3679,-53\"/>\n<text text-anchor=\"middle\" x=\"3573.5\" y=\"-37.8\" font-family=\"Helvetica,sans-Serif\" font-size=\"14.00\">squared_error = 91763555625.0</text>\n<text text-anchor=\"middle\" x=\"3573.5\" y=\"-22.8\" font-family=\"Helvetica,sans-Serif\" font-size=\"14.00\">samples = 2</text>\n<text text-anchor=\"middle\" x=\"3573.5\" y=\"-7.8\" font-family=\"Helvetica,sans-Serif\" font-size=\"14.00\">value = 4112985.0</text>\n</g>\n<!-- 35&#45;&gt;36 -->\n<g id=\"edge36\" class=\"edge\">\n<title>35&#45;&gt;36</title>\n<path fill=\"none\" stroke=\"black\" d=\"M3681.44,-88.95C3663.85,-78.93 3644.6,-67.98 3627.3,-58.13\"/>\n<polygon fill=\"black\" stroke=\"black\" points=\"3628.87,-54.99 3618.45,-53.09 3625.4,-61.08 3628.87,-54.99\"/>\n</g>\n<!-- 37 -->\n<g id=\"node38\" class=\"node\">\n<title>37</title>\n<polygon fill=\"#f3c3a0\" stroke=\"black\" points=\"3833.5,-53 3697.5,-53 3697.5,0 3833.5,0 3833.5,-53\"/>\n<text text-anchor=\"middle\" x=\"3765.5\" y=\"-37.8\" font-family=\"Helvetica,sans-Serif\" font-size=\"14.00\">squared_error = 0.0</text>\n<text text-anchor=\"middle\" x=\"3765.5\" y=\"-22.8\" font-family=\"Helvetica,sans-Serif\" font-size=\"14.00\">samples = 1</text>\n<text text-anchor=\"middle\" x=\"3765.5\" y=\"-7.8\" font-family=\"Helvetica,sans-Serif\" font-size=\"14.00\">value = 5124819.0</text>\n</g>\n<!-- 35&#45;&gt;37 -->\n<g id=\"edge37\" class=\"edge\">\n<title>35&#45;&gt;37</title>\n<path fill=\"none\" stroke=\"black\" d=\"M3748.59,-88.95C3750.91,-80.53 3753.41,-71.45 3755.75,-62.92\"/>\n<polygon fill=\"black\" stroke=\"black\" points=\"3759.14,-63.81 3758.42,-53.24 3752.39,-61.95 3759.14,-63.81\"/>\n</g>\n<!-- 39 -->\n<g id=\"node40\" class=\"node\">\n<title>39</title>\n<polygon fill=\"#eeab7c\" stroke=\"black\" points=\"4063,-53 3852,-53 3852,0 4063,0 4063,-53\"/>\n<text text-anchor=\"middle\" x=\"3957.5\" y=\"-37.8\" font-family=\"Helvetica,sans-Serif\" font-size=\"14.00\">squared_error = 10652304100.0</text>\n<text text-anchor=\"middle\" x=\"3957.5\" y=\"-22.8\" font-family=\"Helvetica,sans-Serif\" font-size=\"14.00\">samples = 2</text>\n<text text-anchor=\"middle\" x=\"3957.5\" y=\"-7.8\" font-family=\"Helvetica,sans-Serif\" font-size=\"14.00\">value = 7096390.0</text>\n</g>\n<!-- 38&#45;&gt;39 -->\n<g id=\"edge39\" class=\"edge\">\n<title>38&#45;&gt;39</title>\n<path fill=\"none\" stroke=\"black\" d=\"M4016.02,-88.95C4007.31,-79.8 3997.85,-69.87 3989.13,-60.71\"/>\n<polygon fill=\"black\" stroke=\"black\" points=\"3991.44,-58.06 3982.01,-53.24 3986.37,-62.89 3991.44,-58.06\"/>\n</g>\n<!-- 40 -->\n<g id=\"node41\" class=\"node\">\n<title>40</title>\n<polygon fill=\"#eca470\" stroke=\"black\" points=\"4217.5,-53 4081.5,-53 4081.5,0 4217.5,0 4217.5,-53\"/>\n<text text-anchor=\"middle\" x=\"4149.5\" y=\"-37.8\" font-family=\"Helvetica,sans-Serif\" font-size=\"14.00\">squared_error = 0.0</text>\n<text text-anchor=\"middle\" x=\"4149.5\" y=\"-22.8\" font-family=\"Helvetica,sans-Serif\" font-size=\"14.00\">samples = 1</text>\n<text text-anchor=\"middle\" x=\"4149.5\" y=\"-7.8\" font-family=\"Helvetica,sans-Serif\" font-size=\"14.00\">value = 7719069.0</text>\n</g>\n<!-- 38&#45;&gt;40 -->\n<g id=\"edge40\" class=\"edge\">\n<title>38&#45;&gt;40</title>\n<path fill=\"none\" stroke=\"black\" d=\"M4083.17,-88.95C4093.25,-79.62 4104.2,-69.47 4114.24,-60.16\"/>\n<polygon fill=\"black\" stroke=\"black\" points=\"4116.76,-62.6 4121.72,-53.24 4112.01,-57.47 4116.76,-62.6\"/>\n</g>\n<!-- 42 -->\n<g id=\"node43\" class=\"node\">\n<title>42</title>\n<polygon fill=\"#e78946\" stroke=\"black\" points=\"4591,-157 4280,-157 4280,-89 4591,-89 4591,-157\"/>\n<text text-anchor=\"middle\" x=\"4435.5\" y=\"-141.8\" font-family=\"Helvetica,sans-Serif\" font-size=\"14.00\">Electricity_from_Fossil_Fuels_(TWh) &lt;= 4284.31</text>\n<text text-anchor=\"middle\" x=\"4435.5\" y=\"-126.8\" font-family=\"Helvetica,sans-Serif\" font-size=\"14.00\">squared_error = 7031692060.188</text>\n<text text-anchor=\"middle\" x=\"4435.5\" y=\"-111.8\" font-family=\"Helvetica,sans-Serif\" font-size=\"14.00\">samples = 4</text>\n<text text-anchor=\"middle\" x=\"4435.5\" y=\"-96.8\" font-family=\"Helvetica,sans-Serif\" font-size=\"14.00\">value = 9987086.75</text>\n</g>\n<!-- 41&#45;&gt;42 -->\n<g id=\"edge42\" class=\"edge\">\n<title>41&#45;&gt;42</title>\n<path fill=\"none\" stroke=\"black\" d=\"M4448.33,-192.88C4446.8,-184.69 4445.15,-175.79 4443.55,-167.19\"/>\n<polygon fill=\"black\" stroke=\"black\" points=\"4446.97,-166.49 4441.7,-157.3 4440.09,-167.77 4446.97,-166.49\"/>\n</g>\n<!-- 45 -->\n<g id=\"node46\" class=\"node\">\n<title>45</title>\n<polygon fill=\"#e5823b\" stroke=\"black\" points=\"4920,-157 4609,-157 4609,-89 4920,-89 4920,-157\"/>\n<text text-anchor=\"middle\" x=\"4764.5\" y=\"-141.8\" font-family=\"Helvetica,sans-Serif\" font-size=\"14.00\">Electricity_from_Fossil_Fuels_(TWh) &lt;= 5044.25</text>\n<text text-anchor=\"middle\" x=\"4764.5\" y=\"-126.8\" font-family=\"Helvetica,sans-Serif\" font-size=\"14.00\">squared_error = 10433601025.0</text>\n<text text-anchor=\"middle\" x=\"4764.5\" y=\"-111.8\" font-family=\"Helvetica,sans-Serif\" font-size=\"14.00\">samples = 2</text>\n<text text-anchor=\"middle\" x=\"4764.5\" y=\"-96.8\" font-family=\"Helvetica,sans-Serif\" font-size=\"14.00\">value = 10605074.0</text>\n</g>\n<!-- 41&#45;&gt;45 -->\n<g id=\"edge45\" class=\"edge\">\n<title>41&#45;&gt;45</title>\n<path fill=\"none\" stroke=\"black\" d=\"M4555.15,-192.88C4586.93,-182.43 4622.2,-170.82 4654.59,-160.16\"/>\n<polygon fill=\"black\" stroke=\"black\" points=\"4655.69,-163.49 4664.09,-157.04 4653.5,-156.84 4655.69,-163.49\"/>\n</g>\n<!-- 43 -->\n<g id=\"node44\" class=\"node\">\n<title>43</title>\n<polygon fill=\"#e78a48\" stroke=\"black\" points=\"4447,-53 4236,-53 4236,0 4447,0 4447,-53\"/>\n<text text-anchor=\"middle\" x=\"4341.5\" y=\"-37.8\" font-family=\"Helvetica,sans-Serif\" font-size=\"14.00\">squared_error = 3811271960.25</text>\n<text text-anchor=\"middle\" x=\"4341.5\" y=\"-22.8\" font-family=\"Helvetica,sans-Serif\" font-size=\"14.00\">samples = 2</text>\n<text text-anchor=\"middle\" x=\"4341.5\" y=\"-7.8\" font-family=\"Helvetica,sans-Serif\" font-size=\"14.00\">value = 9922834.5</text>\n</g>\n<!-- 42&#45;&gt;43 -->\n<g id=\"edge43\" class=\"edge\">\n<title>42&#45;&gt;43</title>\n<path fill=\"none\" stroke=\"black\" d=\"M4402.62,-88.95C4393.43,-79.71 4383.45,-69.67 4374.26,-60.44\"/>\n<polygon fill=\"black\" stroke=\"black\" points=\"4376.63,-57.86 4367.1,-53.24 4371.67,-62.79 4376.63,-57.86\"/>\n</g>\n<!-- 44 -->\n<g id=\"node45\" class=\"node\">\n<title>44</title>\n<polygon fill=\"#e78945\" stroke=\"black\" points=\"4668,-53 4465,-53 4465,0 4668,0 4668,-53\"/>\n<text text-anchor=\"middle\" x=\"4566.5\" y=\"-37.8\" font-family=\"Helvetica,sans-Serif\" font-size=\"14.00\">squared_error = 1995408900.0</text>\n<text text-anchor=\"middle\" x=\"4566.5\" y=\"-22.8\" font-family=\"Helvetica,sans-Serif\" font-size=\"14.00\">samples = 2</text>\n<text text-anchor=\"middle\" x=\"4566.5\" y=\"-7.8\" font-family=\"Helvetica,sans-Serif\" font-size=\"14.00\">value = 10051339.0</text>\n</g>\n<!-- 42&#45;&gt;44 -->\n<g id=\"edge44\" class=\"edge\">\n<title>42&#45;&gt;44</title>\n<path fill=\"none\" stroke=\"black\" d=\"M4481.32,-88.95C4494.63,-79.34 4509.14,-68.87 4522.36,-59.34\"/>\n<polygon fill=\"black\" stroke=\"black\" points=\"4524.76,-61.93 4530.82,-53.24 4520.66,-56.25 4524.76,-61.93\"/>\n</g>\n<!-- 46 -->\n<g id=\"node47\" class=\"node\">\n<title>46</title>\n<polygon fill=\"#e5833d\" stroke=\"black\" points=\"4822.5,-53 4686.5,-53 4686.5,0 4822.5,0 4822.5,-53\"/>\n<text text-anchor=\"middle\" x=\"4754.5\" y=\"-37.8\" font-family=\"Helvetica,sans-Serif\" font-size=\"14.00\">squared_error = 0.0</text>\n<text text-anchor=\"middle\" x=\"4754.5\" y=\"-22.8\" font-family=\"Helvetica,sans-Serif\" font-size=\"14.00\">samples = 1</text>\n<text text-anchor=\"middle\" x=\"4754.5\" y=\"-7.8\" font-family=\"Helvetica,sans-Serif\" font-size=\"14.00\">value = 10502929.0</text>\n</g>\n<!-- 45&#45;&gt;46 -->\n<g id=\"edge46\" class=\"edge\">\n<title>45&#45;&gt;46</title>\n<path fill=\"none\" stroke=\"black\" d=\"M4761,-88.95C4760.12,-80.62 4759.17,-71.65 4758.28,-63.2\"/>\n<polygon fill=\"black\" stroke=\"black\" points=\"4761.76,-62.81 4757.22,-53.24 4754.8,-63.55 4761.76,-62.81\"/>\n</g>\n<!-- 47 -->\n<g id=\"node48\" class=\"node\">\n<title>47</title>\n<polygon fill=\"#e58139\" stroke=\"black\" points=\"4976.5,-53 4840.5,-53 4840.5,0 4976.5,0 4976.5,-53\"/>\n<text text-anchor=\"middle\" x=\"4908.5\" y=\"-37.8\" font-family=\"Helvetica,sans-Serif\" font-size=\"14.00\">squared_error = 0.0</text>\n<text text-anchor=\"middle\" x=\"4908.5\" y=\"-22.8\" font-family=\"Helvetica,sans-Serif\" font-size=\"14.00\">samples = 1</text>\n<text text-anchor=\"middle\" x=\"4908.5\" y=\"-7.8\" font-family=\"Helvetica,sans-Serif\" font-size=\"14.00\">value = 10707219.0</text>\n</g>\n<!-- 45&#45;&gt;47 -->\n<g id=\"edge47\" class=\"edge\">\n<title>45&#45;&gt;47</title>\n<path fill=\"none\" stroke=\"black\" d=\"M4814.86,-88.95C4829.78,-79.16 4846.06,-68.48 4860.8,-58.8\"/>\n<polygon fill=\"black\" stroke=\"black\" points=\"4862.84,-61.65 4869.28,-53.24 4859,-55.8 4862.84,-61.65\"/>\n</g>\n<!-- 49 -->\n<g id=\"node50\" class=\"node\">\n<title>49</title>\n<polygon fill=\"#ffffff\" stroke=\"black\" points=\"4944.5,-253.5 4808.5,-253.5 4808.5,-200.5 4944.5,-200.5 4944.5,-253.5\"/>\n<text text-anchor=\"middle\" x=\"4876.5\" y=\"-238.3\" font-family=\"Helvetica,sans-Serif\" font-size=\"14.00\">squared_error = 0.0</text>\n<text text-anchor=\"middle\" x=\"4876.5\" y=\"-223.3\" font-family=\"Helvetica,sans-Serif\" font-size=\"14.00\">samples = 2</text>\n<text text-anchor=\"middle\" x=\"4876.5\" y=\"-208.3\" font-family=\"Helvetica,sans-Serif\" font-size=\"14.00\">value = 0.0</text>\n</g>\n<!-- 48&#45;&gt;49 -->\n<g id=\"edge49\" class=\"edge\">\n<title>48&#45;&gt;49</title>\n<path fill=\"none\" stroke=\"black\" d=\"M4876.5,-296.88C4876.5,-286.33 4876.5,-274.6 4876.5,-263.85\"/>\n<polygon fill=\"black\" stroke=\"black\" points=\"4880,-263.52 4876.5,-253.52 4873,-263.52 4880,-263.52\"/>\n</g>\n<!-- 50 -->\n<g id=\"node51\" class=\"node\">\n<title>50</title>\n<polygon fill=\"#f2c09d\" stroke=\"black\" points=\"5427.5,-261 5001.5,-261 5001.5,-193 5427.5,-193 5427.5,-261\"/>\n<text text-anchor=\"middle\" x=\"5214.5\" y=\"-245.8\" font-family=\"Helvetica,sans-Serif\" font-size=\"14.00\">Primary energy consumption per capita (kWh/person) &lt;= 82679.918</text>\n<text text-anchor=\"middle\" x=\"5214.5\" y=\"-230.8\" font-family=\"Helvetica,sans-Serif\" font-size=\"14.00\">squared_error = 121626077926.465</text>\n<text text-anchor=\"middle\" x=\"5214.5\" y=\"-215.8\" font-family=\"Helvetica,sans-Serif\" font-size=\"14.00\">samples = 16</text>\n<text text-anchor=\"middle\" x=\"5214.5\" y=\"-200.8\" font-family=\"Helvetica,sans-Serif\" font-size=\"14.00\">value = 5316749.688</text>\n</g>\n<!-- 48&#45;&gt;50 -->\n<g id=\"edge50\" class=\"edge\">\n<title>48&#45;&gt;50</title>\n<path fill=\"none\" stroke=\"black\" d=\"M4986.24,-296.88C5021.04,-286.38 5059.67,-274.72 5095.12,-264.03\"/>\n<polygon fill=\"black\" stroke=\"black\" points=\"5096.46,-267.28 5105.02,-261.04 5094.44,-260.58 5096.46,-267.28\"/>\n</g>\n<!-- 51 -->\n<g id=\"node52\" class=\"node\">\n<title>51</title>\n<polygon fill=\"#f3c4a3\" stroke=\"black\" points=\"5323.5,-157 5105.5,-157 5105.5,-89 5323.5,-89 5323.5,-157\"/>\n<text text-anchor=\"middle\" x=\"5214.5\" y=\"-141.8\" font-family=\"Helvetica,sans-Serif\" font-size=\"14.00\">gdp_per_capita &lt;= 55956.68</text>\n<text text-anchor=\"middle\" x=\"5214.5\" y=\"-126.8\" font-family=\"Helvetica,sans-Serif\" font-size=\"14.00\">squared_error = 17906230096.75</text>\n<text text-anchor=\"middle\" x=\"5214.5\" y=\"-111.8\" font-family=\"Helvetica,sans-Serif\" font-size=\"14.00\">samples = 8</text>\n<text text-anchor=\"middle\" x=\"5214.5\" y=\"-96.8\" font-family=\"Helvetica,sans-Serif\" font-size=\"14.00\">value = 4991856.0</text>\n</g>\n<!-- 50&#45;&gt;51 -->\n<g id=\"edge51\" class=\"edge\">\n<title>50&#45;&gt;51</title>\n<path fill=\"none\" stroke=\"black\" d=\"M5214.5,-192.88C5214.5,-184.78 5214.5,-175.98 5214.5,-167.47\"/>\n<polygon fill=\"black\" stroke=\"black\" points=\"5218,-167.3 5214.5,-157.3 5211,-167.3 5218,-167.3\"/>\n</g>\n<!-- 54 -->\n<g id=\"node55\" class=\"node\">\n<title>54</title>\n<polygon fill=\"#f1bd97\" stroke=\"black\" points=\"5682.5,-157 5456.5,-157 5456.5,-89 5682.5,-89 5682.5,-157\"/>\n<text text-anchor=\"middle\" x=\"5569.5\" y=\"-141.8\" font-family=\"Helvetica,sans-Serif\" font-size=\"14.00\">gdp_per_capita &lt;= 47340.645</text>\n<text text-anchor=\"middle\" x=\"5569.5\" y=\"-126.8\" font-family=\"Helvetica,sans-Serif\" font-size=\"14.00\">squared_error = 14234109401.484</text>\n<text text-anchor=\"middle\" x=\"5569.5\" y=\"-111.8\" font-family=\"Helvetica,sans-Serif\" font-size=\"14.00\">samples = 8</text>\n<text text-anchor=\"middle\" x=\"5569.5\" y=\"-96.8\" font-family=\"Helvetica,sans-Serif\" font-size=\"14.00\">value = 5641643.375</text>\n</g>\n<!-- 50&#45;&gt;54 -->\n<g id=\"edge54\" class=\"edge\">\n<title>50&#45;&gt;54</title>\n<path fill=\"none\" stroke=\"black\" d=\"M5329.76,-192.88C5367.02,-182.18 5408.47,-170.27 5446.29,-159.4\"/>\n<polygon fill=\"black\" stroke=\"black\" points=\"5447.69,-162.64 5456.33,-156.52 5445.76,-155.91 5447.69,-162.64\"/>\n</g>\n<!-- 52 -->\n<g id=\"node53\" class=\"node\">\n<title>52</title>\n<polygon fill=\"#f3c2a0\" stroke=\"black\" points=\"5206,-53 4995,-53 4995,0 5206,0 5206,-53\"/>\n<text text-anchor=\"middle\" x=\"5100.5\" y=\"-37.8\" font-family=\"Helvetica,sans-Serif\" font-size=\"14.00\">squared_error = 791697846.891</text>\n<text text-anchor=\"middle\" x=\"5100.5\" y=\"-22.8\" font-family=\"Helvetica,sans-Serif\" font-size=\"14.00\">samples = 3</text>\n<text text-anchor=\"middle\" x=\"5100.5\" y=\"-7.8\" font-family=\"Helvetica,sans-Serif\" font-size=\"14.00\">value = 5145746.333</text>\n</g>\n<!-- 51&#45;&gt;52 -->\n<g id=\"edge52\" class=\"edge\">\n<title>51&#45;&gt;52</title>\n<path fill=\"none\" stroke=\"black\" d=\"M5174.63,-88.95C5163.26,-79.53 5150.89,-69.27 5139.57,-59.89\"/>\n<polygon fill=\"black\" stroke=\"black\" points=\"5141.48,-56.92 5131.55,-53.24 5137.01,-62.31 5141.48,-56.92\"/>\n</g>\n<!-- 53 -->\n<g id=\"node54\" class=\"node\">\n<title>53</title>\n<polygon fill=\"#f3c5a4\" stroke=\"black\" points=\"5442.5,-53 5224.5,-53 5224.5,0 5442.5,0 5442.5,-53\"/>\n<text text-anchor=\"middle\" x=\"5333.5\" y=\"-37.8\" font-family=\"Helvetica,sans-Serif\" font-size=\"14.00\">squared_error = 5440004140.961</text>\n<text text-anchor=\"middle\" x=\"5333.5\" y=\"-22.8\" font-family=\"Helvetica,sans-Serif\" font-size=\"14.00\">samples = 5</text>\n<text text-anchor=\"middle\" x=\"5333.5\" y=\"-7.8\" font-family=\"Helvetica,sans-Serif\" font-size=\"14.00\">value = 4899521.8</text>\n</g>\n<!-- 51&#45;&gt;53 -->\n<g id=\"edge53\" class=\"edge\">\n<title>51&#45;&gt;53</title>\n<path fill=\"none\" stroke=\"black\" d=\"M5256.12,-88.95C5268.1,-79.43 5281.15,-69.07 5293.06,-59.62\"/>\n<polygon fill=\"black\" stroke=\"black\" points=\"5295.44,-62.2 5301.09,-53.24 5291.08,-56.71 5295.44,-62.2\"/>\n</g>\n<!-- 55 -->\n<g id=\"node56\" class=\"node\">\n<title>55</title>\n<polygon fill=\"#f1bc96\" stroke=\"black\" points=\"5678.5,-53 5460.5,-53 5460.5,0 5678.5,0 5678.5,-53\"/>\n<text text-anchor=\"middle\" x=\"5569.5\" y=\"-37.8\" font-family=\"Helvetica,sans-Serif\" font-size=\"14.00\">squared_error = 4368891126.809</text>\n<text text-anchor=\"middle\" x=\"5569.5\" y=\"-22.8\" font-family=\"Helvetica,sans-Serif\" font-size=\"14.00\">samples = 6</text>\n<text text-anchor=\"middle\" x=\"5569.5\" y=\"-7.8\" font-family=\"Helvetica,sans-Serif\" font-size=\"14.00\">value = 5697109.833</text>\n</g>\n<!-- 54&#45;&gt;55 -->\n<g id=\"edge55\" class=\"edge\">\n<title>54&#45;&gt;55</title>\n<path fill=\"none\" stroke=\"black\" d=\"M5569.5,-88.95C5569.5,-80.72 5569.5,-71.85 5569.5,-63.48\"/>\n<polygon fill=\"black\" stroke=\"black\" points=\"5573,-63.24 5569.5,-53.24 5566,-63.24 5573,-63.24\"/>\n</g>\n<!-- 56 -->\n<g id=\"node57\" class=\"node\">\n<title>56</title>\n<polygon fill=\"#f2bf9a\" stroke=\"black\" points=\"5900,-53 5697,-53 5697,0 5900,0 5900,-53\"/>\n<text text-anchor=\"middle\" x=\"5798.5\" y=\"-37.8\" font-family=\"Helvetica,sans-Serif\" font-size=\"14.00\">squared_error = 6911428225.0</text>\n<text text-anchor=\"middle\" x=\"5798.5\" y=\"-22.8\" font-family=\"Helvetica,sans-Serif\" font-size=\"14.00\">samples = 2</text>\n<text text-anchor=\"middle\" x=\"5798.5\" y=\"-7.8\" font-family=\"Helvetica,sans-Serif\" font-size=\"14.00\">value = 5475244.0</text>\n</g>\n<!-- 54&#45;&gt;56 -->\n<g id=\"edge56\" class=\"edge\">\n<title>54&#45;&gt;56</title>\n<path fill=\"none\" stroke=\"black\" d=\"M5649.59,-88.95C5674.87,-78.52 5702.61,-67.07 5727.23,-56.91\"/>\n<polygon fill=\"black\" stroke=\"black\" points=\"5728.59,-60.14 5736.5,-53.09 5725.92,-53.67 5728.59,-60.14\"/>\n</g>\n</g>\n</svg>\n",
            "text/plain": [
              "<graphviz.sources.Source at 0x7a57abc2b130>"
            ]
          },
          "metadata": {},
          "execution_count": 32
        }
      ]
    },
    {
      "cell_type": "markdown",
      "source": [
        "# Regression"
      ],
      "metadata": {
        "id": "E6Z-ogTiWpyg"
      }
    },
    {
      "cell_type": "code",
      "source": [
        "test_set = (X_test, y_test)\n",
        "IndVal = y_train\n",
        "DepVal = X_train\n",
        "\n",
        "#Fitting to model\n",
        "Model_LR = linear_model.LinearRegression().fit(DepVal, IndVal)\n",
        "\n",
        "#Results\n",
        "print('Coefficent of the Model:', Model_LR.coef_,'\\n')\n",
        "print('Intercept of the Model:', Model_LR.intercept_)"
      ],
      "metadata": {
        "colab": {
          "base_uri": "https://localhost:8080/"
        },
        "id": "DDh31-eWWqE0",
        "outputId": "9e0cab03-b2e3-4c8c-ac28-ac41b02bbc45"
      },
      "execution_count": null,
      "outputs": [
        {
          "output_type": "stream",
          "name": "stdout",
          "text": [
            "Coefficent of the Model: [ 9.62610892e+02 -6.39058870e+01  4.22324168e+02  2.22619345e+03\n",
            " -5.70882628e+02 -8.68849284e+02  8.08891264e+02 -1.47726774e-01\n",
            "  7.02435269e+03  1.39190725e-01] \n",
            "\n",
            "Intercept of the Model: -133641.04997388847\n"
          ]
        }
      ]
    },
    {
      "cell_type": "code",
      "source": [
        "#Predictions\n",
        "Model_LR.predict(X_test)"
      ],
      "metadata": {
        "colab": {
          "base_uri": "https://localhost:8080/"
        },
        "id": "oxIQOGAMXDRd",
        "outputId": "48c3ed07-3ca1-4717-c8f4-428205112014"
      },
      "execution_count": null,
      "outputs": [
        {
          "output_type": "execute_result",
          "data": {
            "text/plain": [
              "array([ -6559.57625517, -40305.85104169, -24479.79039944, ...,\n",
              "        62713.74160622,  24613.14754359,  45573.55638702])"
            ]
          },
          "metadata": {},
          "execution_count": 34
        }
      ]
    },
    {
      "cell_type": "code",
      "source": [
        "#Variance\n",
        "r2_score(y_true= y_test,\n",
        "         y_pred= Model_LR.predict(X_test))"
      ],
      "metadata": {
        "colab": {
          "base_uri": "https://localhost:8080/"
        },
        "id": "nLSVlcd3XFWj",
        "outputId": "4571b1b1-14d3-483c-b8d1-8734fc6db353"
      },
      "execution_count": null,
      "outputs": [
        {
          "output_type": "execute_result",
          "data": {
            "text/plain": [
              "0.9439733207510641"
            ]
          },
          "metadata": {},
          "execution_count": 35
        }
      ]
    },
    {
      "cell_type": "code",
      "source": [
        "#Scoring the Model\n",
        "Model_LR.score(X_test,y_test)"
      ],
      "metadata": {
        "colab": {
          "base_uri": "https://localhost:8080/"
        },
        "id": "myfkytjAXHXO",
        "outputId": "603662f0-80cd-4411-9d26-38a57714da65"
      },
      "execution_count": null,
      "outputs": [
        {
          "output_type": "execute_result",
          "data": {
            "text/plain": [
              "0.9439733207510641"
            ]
          },
          "metadata": {},
          "execution_count": 36
        }
      ]
    }
  ]
}